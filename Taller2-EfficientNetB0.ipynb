{
 "cells": [
  {
   "cell_type": "code",
   "execution_count": 1,
   "metadata": {},
   "outputs": [],
   "source": [
    "import numpy as np\n",
    "import pandas as pd\n",
    "import matplotlib.pyplot as plt\n",
    "import torch\n",
    "from sklearn.model_selection import train_test_split\n",
    "from torch.utils.data import DataLoader, Dataset\n",
    "import torch.nn as nn\n",
    "import torch.nn.functional as F\n",
    "from torchvision import models\n",
    "from torch.optim import Adam\n",
    "from sklearn.metrics import precision_recall_fscore_support"
   ]
  },
  {
   "cell_type": "code",
   "execution_count": 4,
   "metadata": {},
   "outputs": [
    {
     "data": {
      "text/plain": [
       "device(type='cpu')"
      ]
     },
     "execution_count": 4,
     "metadata": {},
     "output_type": "execute_result"
    }
   ],
   "source": [
    "device = torch.device(\"cuda\" if torch.cuda.is_available() else \"cpu\")\n",
    "device"
   ]
  },
  {
   "cell_type": "code",
   "execution_count": 2,
   "metadata": {},
   "outputs": [],
   "source": [
    "x_train = np.load('./datos/x_train.npy')\n",
    "x_test = np.load('./datos/x_test.npy')\n",
    "y_train = np.load('./datos/y_train.npy')\n",
    "y_c1_train = np.load('./datos/y_c1_train.npy')\n",
    "y_c2_train = np.load('./datos/y_c2_train.npy')"
   ]
  },
  {
   "cell_type": "code",
   "execution_count": 3,
   "metadata": {},
   "outputs": [
    {
     "name": "stdout",
     "output_type": "stream",
     "text": [
      "Cantidad de imágenes por clase en y_train: [500. 500. 500. 500. 500. 500. 500. 500. 500. 500. 500. 500. 500. 500.\n",
      " 500. 500. 500. 500. 500. 500. 500. 500. 500. 500. 500. 500. 500. 500.\n",
      " 500. 500. 500. 500. 500. 500. 500. 500. 500. 500. 500. 500. 500. 500.\n",
      " 500. 500. 500. 500. 500. 500. 500. 500. 500. 500. 500. 500. 500. 500.\n",
      " 500. 500. 500. 500. 500. 500. 500. 500. 500. 500. 500. 500. 500. 500.\n",
      " 500. 500. 500. 500. 500. 500. 500. 500. 500. 500. 500. 500. 500. 500.\n",
      " 500. 500. 500. 500. 500. 500. 500. 500. 500. 500. 500. 500. 500. 500.\n",
      " 500. 500.]\n",
      "Cantidad de imágenes por clase en y_c1_train: [ 5000.  7500.  7500.  5000. 12500.  5000.  2500.  5000.]\n",
      "Cantidad de imágenes por clase en y_c2_train: [2500. 2500. 2500. 2500. 2500. 2500. 2500. 2500. 2500. 2500. 2500. 2500.\n",
      " 2500. 2500. 2500. 2500. 2500. 2500. 2500. 2500.]\n"
     ]
    }
   ],
   "source": [
    "def count_classes(y):\n",
    "    return np.sum(y, axis=0)\n",
    "\n",
    "class_counts_y_train = count_classes(y_train)\n",
    "class_counts_y_c1_train = count_classes(y_c1_train)\n",
    "class_counts_y_c2_train = count_classes(y_c2_train)\n",
    "\n",
    "print(\"Cantidad de imágenes por clase en y_train:\", class_counts_y_train)\n",
    "print(\"Cantidad de imágenes por clase en y_c1_train:\", class_counts_y_c1_train)\n",
    "print(\"Cantidad de imágenes por clase en y_c2_train:\", class_counts_y_c2_train)"
   ]
  },
  {
   "cell_type": "code",
   "execution_count": 5,
   "metadata": {},
   "outputs": [],
   "source": [
    "total_count_c1 = sum(class_counts_y_c1_train)\n",
    "class_weights_c1 = [total_count_c1 / (len(class_counts_y_c1_train) * count) for count in class_counts_y_c1_train]\n",
    "class_weights_tensor_c1 = torch.FloatTensor(class_weights_c1).to(device)"
   ]
  },
  {
   "cell_type": "code",
   "execution_count": 6,
   "metadata": {},
   "outputs": [],
   "source": [
    "X_train, X_val, y_train, y_val, y_c1_train, y_c1_val, y_c2_train, y_c2_val = train_test_split(\n",
    "    x_train, y_train, y_c1_train, y_c2_train,\n",
    "    test_size=0.2,\n",
    "    random_state=42,\n",
    "    stratify=y_train\n",
    ")"
   ]
  },
  {
   "cell_type": "code",
   "execution_count": 7,
   "metadata": {},
   "outputs": [],
   "source": [
    "class HierarchicalDataset(Dataset):\n",
    "    def __init__(self, x_data, y_data, y_c1_data, y_c2_data):\n",
    "        self.x_data = torch.tensor(x_data, dtype=torch.float32).permute(0, 3, 1, 2) # Permutamos para el formato [batch, channels, height, width] que es el que ocupan las capas Conv2D\n",
    "        self.y_data = torch.tensor(y_data, dtype=torch.float32)\n",
    "        self.y_c1_data = torch.tensor(y_c1_data, dtype=torch.float32)\n",
    "        self.y_c2_data = torch.tensor(y_c2_data, dtype=torch.float32)\n",
    "\n",
    "    def __len__(self):\n",
    "        return len(self.x_data)\n",
    "\n",
    "    def __getitem__(self, idx):\n",
    "        # Devuelve una muestra junto con sus tres etiquetas\n",
    "        return self.x_data[idx], self.y_data[idx], self.y_c1_data[idx], self.y_c2_data[idx]\n",
    "\n",
    "    def shape(self):\n",
    "        print('x_data shape:', self.x_data.shape, 'tipo dato:', self.x_data.dtype)\n",
    "        print('y_data shape:', self.y_data.shape, 'tipo dato:', self.y_data.dtype)\n",
    "        print('y_c1_data shape:', self.y_c1_data.shape, 'tipo dato:', self.y_c1_data.dtype)\n",
    "        print('y_c2_data shape:', self.y_c2_data.shape, 'tipo dato:', self.y_c2_data.dtype)\n",
    "\n",
    "train_dataset = HierarchicalDataset(X_train, y_train, y_c1_train, y_c2_train)\n",
    "val_dataset = HierarchicalDataset(X_val, y_val, y_c1_val, y_c2_val)"
   ]
  },
  {
   "cell_type": "code",
   "execution_count": 9,
   "metadata": {},
   "outputs": [],
   "source": [
    "def freeze_model(base_model):\n",
    "  for param in base_model.parameters():\n",
    "    param.requires_grad = False\n",
    "  return base_model"
   ]
  },
  {
   "cell_type": "code",
   "execution_count": 10,
   "metadata": {},
   "outputs": [
    {
     "name": "stderr",
     "output_type": "stream",
     "text": [
      "Downloading: \"https://download.pytorch.org/models/efficientnet_b0_rwightman-7f5810bc.pth\" to C:\\Users\\joann/.cache\\torch\\hub\\checkpoints\\efficientnet_b0_rwightman-7f5810bc.pth\n",
      "100%|██████████| 20.5M/20.5M [00:01<00:00, 11.0MB/s]\n"
     ]
    }
   ],
   "source": [
    "efficient_net_model =  models.efficientnet_b0(weights=models.EfficientNet_B0_Weights.DEFAULT)\n",
    "efficient_net_model = freeze_model(efficient_net_model)"
   ]
  },
  {
   "cell_type": "code",
   "execution_count": 11,
   "metadata": {},
   "outputs": [],
   "source": [
    "class HierarchicalEfficientNet2(nn.Module):\n",
    "    def __init__(self, base_model, dropout):\n",
    "        super(HierarchicalEfficientNet2, self).__init__()\n",
    "\n",
    "        self.base = nn.Sequential(*list(base_model.children())[:-1])\n",
    "\n",
    "        # Crear las capas de salida para cada conjunto de etiquetas\n",
    "        self.fc_y1 = nn.Linear(1280, 600)\n",
    "        self.fc_y2 = nn.Linear(600, 100)    # Para y_train (100 clases)\n",
    "        self.fc_yc1_1 = nn.Linear(1280, 264)\n",
    "        self.fc_yc1_2 = nn.Linear(264, 8)      # Para y_c1_train (8 clases)\n",
    "        self.fc_yc2_1 = nn.Linear(1280, 264)\n",
    "        self.fc_yc2_2 = nn.Linear(264, 20)    # Para y_c2_train (20 clases)\n",
    "        self.dropout = nn.Dropout(dropout)\n",
    "\n",
    "    def forward(self, x):\n",
    "        # Extraer características de EfficientNet\n",
    "        x = self.base(x)\n",
    "        x = torch.flatten(x, 1)\n",
    "\n",
    "        # Predicciones para cada etiqueta jerárquica\n",
    "        y_pred = self.fc_y1(x)\n",
    "        y_pred = self.dropout(y_pred)\n",
    "        y_pred = self.fc_y2(y_pred)\n",
    "        y_pred = F.softmax(y_pred, dim=1)\n",
    "        y_c1_pred = self.fc_yc1_1(x)\n",
    "        y_c1_pred = self.dropout(y_c1_pred)\n",
    "        y_c1_pred = self.fc_yc1_2(y_c1_pred)\n",
    "        y_c1_pred = F.softmax(y_c1_pred, dim=1)\n",
    "        y_c2_pred = self.fc_yc2_1(x)\n",
    "        y_c2_pred = self.dropout(y_c2_pred)\n",
    "        y_c2_pred = self.fc_yc2_2(y_c2_pred)\n",
    "        y_c2_pred = F.softmax(y_c2_pred, dim=1)\n",
    "\n",
    "        return y_pred, y_c1_pred, y_c2_pred\n"
   ]
  },
  {
   "cell_type": "code",
   "execution_count": 13,
   "metadata": {},
   "outputs": [],
   "source": [
    "def training(model, optimizer, num_epochs, train_loader, val_loader, criterion_y, criterion_y_c1, criterion_y_c2, device):\n",
    "    # Mover el modelo al dispositivo\n",
    "    model.to(device)\n",
    "\n",
    "    # Inicializar listas para almacenar los valores de loss, accuracy, precision, recall y F1\n",
    "    train_losses, val_losses = [], []\n",
    "    train_accuracies_y, train_accuracies_y_c1, train_accuracies_y_c2 = [], [], []\n",
    "    val_accuracies_y, val_accuracies_y_c1, val_accuracies_y_c2 = [], [], []\n",
    "    val_precisions, val_recalls, val_f1_scores = [], [], []\n",
    "\n",
    "    for epoch in range(num_epochs):\n",
    "        model.train()\n",
    "        running_loss = 0.0\n",
    "        correct_y, correct_y_c1, correct_y_c2 = 0, 0, 0\n",
    "        total = 0\n",
    "\n",
    "        for batch in train_loader:\n",
    "            inputs, labels_y, labels_y_c1, labels_y_c2 = batch  # Desempaquetar el batch\n",
    "\n",
    "            # Mover los datos al dispositivo\n",
    "            inputs, labels_y, labels_y_c1, labels_y_c2 = inputs.to(device), labels_y.to(device), labels_y_c1.to(device), labels_y_c2.to(device)\n",
    "\n",
    "            optimizer.zero_grad()  # Limpiar los gradientes\n",
    "\n",
    "            # Hacer una pasada hacia adelante\n",
    "            outputs = model(inputs)\n",
    "\n",
    "            # Calcular las pérdidas\n",
    "            loss_y = criterion_y(outputs[0], labels_y)\n",
    "            loss_y_c1 = criterion_y_c1(outputs[1], labels_y_c1)\n",
    "            loss_y_c2 = criterion_y_c2(outputs[2], labels_y_c2)\n",
    "            loss = loss_y + loss_y_c1 + loss_y_c2\n",
    "            loss.backward()  # Retropropagación\n",
    "            optimizer.step()  # Actualizar los pesos\n",
    "\n",
    "            running_loss += loss.item()\n",
    "\n",
    "            # Obtener las predicciones\n",
    "            _, predicted_y = torch.max(outputs[0].data, 1)\n",
    "            _, predicted_y_c1 = torch.max(outputs[1].data, 1)\n",
    "            _, predicted_y_c2 = torch.max(outputs[2].data, 1)\n",
    "\n",
    "            # Convertir labels a índices de clases\n",
    "            labels_y = torch.argmax(labels_y, dim=1).to(device)\n",
    "            labels_y_c1 = torch.argmax(labels_y_c1, dim=1).to(device)\n",
    "            labels_y_c2 = torch.argmax(labels_y_c2, dim=1).to(device)\n",
    "\n",
    "            total += labels_y.size(0)\n",
    "            correct_y += (predicted_y == labels_y).sum().item()\n",
    "            correct_y_c1 += (predicted_y_c1 == labels_y_c1).sum().item()\n",
    "            correct_y_c2 += (predicted_y_c2 == labels_y_c2).sum().item()\n",
    "\n",
    "        # Calcular y almacenar el loss y accuracy promedio para el entrenamiento\n",
    "        avg_train_loss = running_loss / len(train_loader)\n",
    "        avg_train_accuracy_y = 100 * correct_y / total\n",
    "        avg_train_accuracy_y_c1 = 100 * correct_y_c1 / total\n",
    "        avg_train_accuracy_y_c2 = 100 * correct_y_c2 / total\n",
    "        train_losses.append(avg_train_loss)\n",
    "        train_accuracies_y.append(avg_train_accuracy_y)\n",
    "        train_accuracies_y_c1.append(avg_train_accuracy_y_c1)\n",
    "        train_accuracies_y_c2.append(avg_train_accuracy_y_c2)\n",
    "\n",
    "        # Evaluar el modelo en el conjunto de validación\n",
    "        model.eval()\n",
    "        val_running_loss = 0.0\n",
    "        val_correct_y, val_correct_y_c1, val_correct_y_c2 = 0, 0, 0\n",
    "        val_total = 0\n",
    "        val_all_preds_y, val_all_labels_y = [], []\n",
    "        val_all_preds_y_c1, val_all_labels_y_c1 = [], []\n",
    "        val_all_preds_y_c2, val_all_labels_y_c2 = [], []\n",
    "\n",
    "        with torch.no_grad():\n",
    "            for val_batch in val_loader:\n",
    "                val_inputs, val_labels_y, val_labels_y_c1, val_labels_y_c2 = val_batch\n",
    "\n",
    "                # Mover los datos de validación al dispositivo\n",
    "                val_inputs, val_labels_y, val_labels_y_c1, val_labels_y_c2 = val_inputs.to(device), val_labels_y.to(device), val_labels_y_c1.to(device), val_labels_y_c2.to(device)\n",
    "\n",
    "                val_outputs = model(val_inputs)\n",
    "\n",
    "                # Calcular las pérdidas\n",
    "                val_loss_y = criterion_y(val_outputs[0], val_labels_y)\n",
    "                val_loss_y_c1 = criterion_y_c1(val_outputs[1], val_labels_y_c1)\n",
    "                val_loss_y_c2 = criterion_y_c2(val_outputs[2], val_labels_y_c2)\n",
    "                val_loss = val_loss_y + val_loss_y_c1 + val_loss_y_c2\n",
    "                val_running_loss += val_loss.item()\n",
    "\n",
    "                # Obtener las predicciones de validación\n",
    "                _, val_predicted_y = torch.max(val_outputs[0].data, 1)\n",
    "                _, val_predicted_y_c1 = torch.max(val_outputs[1].data, 1)\n",
    "                _, val_predicted_y_c2 = torch.max(val_outputs[2].data, 1)\n",
    "\n",
    "                # Convertir labels a índices de clases\n",
    "                val_labels_y = torch.argmax(val_labels_y, dim=1).to(device)\n",
    "                val_labels_y_c1 = torch.argmax(val_labels_y_c1, dim=1).to(device)\n",
    "                val_labels_y_c2 = torch.argmax(val_labels_y_c2, dim=1).to(device)\n",
    "\n",
    "                val_total += val_labels_y.size(0)\n",
    "                val_correct_y += (val_predicted_y == val_labels_y).sum().item()\n",
    "                val_correct_y_c1 += (val_predicted_y_c1 == val_labels_y_c1).sum().item()\n",
    "                val_correct_y_c2 += (val_predicted_y_c2 == val_labels_y_c2).sum().item()\n",
    "\n",
    "                # Almacenar todas las predicciones y etiquetas de validación\n",
    "                val_all_preds_y.extend(val_predicted_y.cpu().numpy())\n",
    "                val_all_labels_y.extend(val_labels_y.cpu().numpy())\n",
    "                val_all_preds_y_c1.extend(val_predicted_y_c1.cpu().numpy())\n",
    "                val_all_labels_y_c1.extend(val_labels_y_c1.cpu().numpy())\n",
    "                val_all_preds_y_c2.extend(val_predicted_y_c2.cpu().numpy())\n",
    "                val_all_labels_y_c2.extend(val_labels_y_c2.cpu().numpy())\n",
    "\n",
    "        # Calcular y almacenar el loss y accuracy promedio para la validación\n",
    "        avg_val_loss = val_running_loss / len(val_loader)\n",
    "        avg_val_accuracy_y = 100 * val_correct_y / val_total\n",
    "        avg_val_accuracy_y_c1 = 100 * val_correct_y_c1 / val_total\n",
    "        avg_val_accuracy_y_c2 = 100 * val_correct_y_c2 / val_total\n",
    "        val_losses.append(avg_val_loss)\n",
    "        val_accuracies_y.append(avg_val_accuracy_y)\n",
    "        val_accuracies_y_c1.append(avg_val_accuracy_y_c1)\n",
    "        val_accuracies_y_c2.append(avg_val_accuracy_y_c2)\n",
    "\n",
    "        # Calcular precisión, recall, F1 y soporte para cada nivel\n",
    "        precision_y, recall_y, f1_y, _ = precision_recall_fscore_support(val_all_labels_y, val_all_preds_y, average='weighted')\n",
    "        precision_y_c1, recall_y_c1, f1_y_c1, _ = precision_recall_fscore_support(val_all_labels_y_c1, val_all_preds_y_c1, average='weighted')\n",
    "        precision_y_c2, recall_y_c2, f1_y_c2, _ = precision_recall_fscore_support(val_all_labels_y_c2, val_all_preds_y_c2, average='weighted')\n",
    "        val_precisions.append((precision_y, precision_y_c1, precision_y_c2))\n",
    "        val_recalls.append((recall_y, recall_y_c1, recall_y_c2))\n",
    "        val_f1_scores.append((f1_y, f1_y_c1, f1_y_c2))\n",
    "\n",
    "        # Imprimir resultados finales de la época\n",
    "        print(f'\\nEpoch [{epoch+1}/{num_epochs}] Training Loss: {avg_train_loss:.4f}, Accuracies Y/C1/C2: {avg_train_accuracy_y:.2f}%, {avg_train_accuracy_y_c1:.2f}%, {avg_train_accuracy_y_c2:.2f}%'\n",
    "              f' | Validation Loss: {avg_val_loss:.4f}, Accuracies Y/C1/C2: {avg_val_accuracy_y:.2f}%, {avg_val_accuracy_y_c1:.2f}%, {avg_val_accuracy_y_c2:.2f}%\\n')\n",
    "\n",
    "    # Graficar los resultados\n",
    "    plt.figure(figsize=(12, 5))\n",
    "\n",
    "    # Gráfico de pérdidas\n",
    "    plt.subplot(1, 2, 1)\n",
    "    plt.plot(train_losses, label='Training Loss')\n",
    "    plt.plot(val_losses, label='Validation Loss')\n",
    "    plt.title('Loss vs Epochs')\n",
    "    plt.xlabel('Epochs')\n",
    "    plt.ylabel('Loss')\n",
    "    plt.legend()\n",
    "\n",
    "    # Gráfico de accuracies de cada nivel\n",
    "    plt.subplot(1, 2, 2)\n",
    "    plt.plot(train_accuracies_y, label='Training Accuracy Y')\n",
    "    plt.plot(train_accuracies_y_c1, label='Training Accuracy Y_c1')\n",
    "    plt.plot(train_accuracies_y_c2, label='Training Accuracy Y_c2')\n",
    "    plt.plot(val_accuracies_y, label='Validation Accuracy Y')\n",
    "    plt.plot(val_accuracies_y_c1, label='Validation Accuracy Y_c1')\n",
    "    plt.plot(val_accuracies_y_c2, label='Validation Accuracy Y_c2')\n",
    "    plt.title('Accuracy vs Epochs')\n",
    "    plt.xlabel('Epochs')\n",
    "    plt.ylabel('Accuracy')\n",
    "    plt.legend()\n",
    "\n",
    "    plt.show()\n",
    "\n",
    "    return train_losses, val_losses, train_accuracies_y, train_accuracies_y_c1, train_accuracies_y_c2, val_accuracies_y, val_accuracies_y_c1, val_accuracies_y_c2, val_precisions, val_recalls, val_f1_scores\n",
    "\n"
   ]
  },
  {
   "cell_type": "code",
   "execution_count": 25,
   "metadata": {},
   "outputs": [],
   "source": [
    "dropout = 0.2\n",
    "model_1 = HierarchicalEfficientNet2(efficient_net_model, dropout)"
   ]
  },
  {
   "cell_type": "code",
   "execution_count": 31,
   "metadata": {},
   "outputs": [],
   "source": [
    "learning_rate = 0.001\n",
    "num_epochs = 5\n",
    "batch_size = 164\n",
    "train_loader = DataLoader(train_dataset, batch_size=batch_size, shuffle=True)\n",
    "val_loader = DataLoader(val_dataset, batch_size=batch_size, shuffle=False)\n",
    "criterion_y = nn.CrossEntropyLoss()\n",
    "criterion_y_c1 = nn.CrossEntropyLoss(weight=class_weights_tensor_c1)\n",
    "criterion_y_c2 = nn.CrossEntropyLoss()\n",
    "optimizer = torch.optim.RMSprop(model_1.parameters(), lr=learning_rate)"
   ]
  },
  {
   "cell_type": "code",
   "execution_count": 32,
   "metadata": {},
   "outputs": [
    {
     "name": "stderr",
     "output_type": "stream",
     "text": [
      "C:\\Users\\joann\\AppData\\Local\\Packages\\PythonSoftwareFoundation.Python.3.11_qbz5n2kfra8p0\\LocalCache\\local-packages\\Python311\\site-packages\\sklearn\\metrics\\_classification.py:1531: UndefinedMetricWarning: Precision is ill-defined and being set to 0.0 in labels with no predicted samples. Use `zero_division` parameter to control this behavior.\n",
      "  _warn_prf(average, modifier, f\"{metric.capitalize()} is\", len(result))\n"
     ]
    },
    {
     "name": "stdout",
     "output_type": "stream",
     "text": [
      "\n",
      "Epoch [1/5] Training Loss: 9.0876, Accuracies Y/C1/C2: 18.18%, 40.01%, 29.25% | Validation Loss: 9.1299, Accuracies Y/C1/C2: 15.61%, 38.90%, 27.75%\n",
      "\n"
     ]
    },
    {
     "name": "stderr",
     "output_type": "stream",
     "text": [
      "C:\\Users\\joann\\AppData\\Local\\Packages\\PythonSoftwareFoundation.Python.3.11_qbz5n2kfra8p0\\LocalCache\\local-packages\\Python311\\site-packages\\sklearn\\metrics\\_classification.py:1531: UndefinedMetricWarning: Precision is ill-defined and being set to 0.0 in labels with no predicted samples. Use `zero_division` parameter to control this behavior.\n",
      "  _warn_prf(average, modifier, f\"{metric.capitalize()} is\", len(result))\n"
     ]
    },
    {
     "name": "stdout",
     "output_type": "stream",
     "text": [
      "\n",
      "Epoch [2/5] Training Loss: 9.0694, Accuracies Y/C1/C2: 18.54%, 40.92%, 29.84% | Validation Loss: 9.1163, Accuracies Y/C1/C2: 15.72%, 39.66%, 28.61%\n",
      "\n"
     ]
    },
    {
     "name": "stderr",
     "output_type": "stream",
     "text": [
      "C:\\Users\\joann\\AppData\\Local\\Packages\\PythonSoftwareFoundation.Python.3.11_qbz5n2kfra8p0\\LocalCache\\local-packages\\Python311\\site-packages\\sklearn\\metrics\\_classification.py:1531: UndefinedMetricWarning: Precision is ill-defined and being set to 0.0 in labels with no predicted samples. Use `zero_division` parameter to control this behavior.\n",
      "  _warn_prf(average, modifier, f\"{metric.capitalize()} is\", len(result))\n"
     ]
    },
    {
     "name": "stdout",
     "output_type": "stream",
     "text": [
      "\n",
      "Epoch [3/5] Training Loss: 9.0631, Accuracies Y/C1/C2: 18.82%, 40.48%, 29.92% | Validation Loss: 9.1221, Accuracies Y/C1/C2: 15.58%, 39.69%, 28.48%\n",
      "\n"
     ]
    },
    {
     "name": "stderr",
     "output_type": "stream",
     "text": [
      "C:\\Users\\joann\\AppData\\Local\\Packages\\PythonSoftwareFoundation.Python.3.11_qbz5n2kfra8p0\\LocalCache\\local-packages\\Python311\\site-packages\\sklearn\\metrics\\_classification.py:1531: UndefinedMetricWarning: Precision is ill-defined and being set to 0.0 in labels with no predicted samples. Use `zero_division` parameter to control this behavior.\n",
      "  _warn_prf(average, modifier, f\"{metric.capitalize()} is\", len(result))\n"
     ]
    },
    {
     "name": "stdout",
     "output_type": "stream",
     "text": [
      "\n",
      "Epoch [4/5] Training Loss: 9.0647, Accuracies Y/C1/C2: 18.99%, 40.53%, 29.86% | Validation Loss: 9.1151, Accuracies Y/C1/C2: 16.07%, 40.38%, 28.32%\n",
      "\n"
     ]
    },
    {
     "name": "stderr",
     "output_type": "stream",
     "text": [
      "C:\\Users\\joann\\AppData\\Local\\Packages\\PythonSoftwareFoundation.Python.3.11_qbz5n2kfra8p0\\LocalCache\\local-packages\\Python311\\site-packages\\sklearn\\metrics\\_classification.py:1531: UndefinedMetricWarning: Precision is ill-defined and being set to 0.0 in labels with no predicted samples. Use `zero_division` parameter to control this behavior.\n",
      "  _warn_prf(average, modifier, f\"{metric.capitalize()} is\", len(result))\n"
     ]
    },
    {
     "name": "stdout",
     "output_type": "stream",
     "text": [
      "\n",
      "Epoch [5/5] Training Loss: 9.0680, Accuracies Y/C1/C2: 18.63%, 40.78%, 29.77% | Validation Loss: 9.1205, Accuracies Y/C1/C2: 15.64%, 40.57%, 27.94%\n",
      "\n"
     ]
    },
    {
     "data": {
      "image/png": "[encoded data removed]",
      "text/plain": [
       "<Figure size 1200x500 with 2 Axes>"
      ]
     },
     "metadata": {},
     "output_type": "display_data"
    }
   ],
   "source": [
    "train_losses, val_losses, train_accuracies_y, train_accuracies_y_c1, train_accuracies_y_c2, val_accuracies_y, val_accuracies_y_c1, val_accuracies_y_c2, val_precisions, val_recalls, val_f1_scores = training(model_1, optimizer, num_epochs, train_loader, val_loader, criterion_y, criterion_y_c1, criterion_y_c2, device)"
   ]
  },
  {
   "cell_type": "code",
   "execution_count": 33,
   "metadata": {},
   "outputs": [],
   "source": [
    "class HierarchicalDatasetPredict(Dataset):\n",
    "    def __init__(self, x_data):\n",
    "        self.x_data = torch.tensor(x_data, dtype=torch.float32).permute(0, 3, 1, 2)\n",
    "\n",
    "    def __len__(self):\n",
    "        return len(self.x_data)\n",
    "    \n",
    "    def __getitem__(self, idx):\n",
    "        return self.x_data[idx]\n",
    "\n",
    "ids = list(range(len(x_test)))\n",
    "\n",
    "x_test_dataset = HierarchicalDatasetPredict(x_test)\n",
    "\n",
    "# Create a DataLoader for your dataset\n",
    "batch_size = 32  # Adjust batch size as needed\n",
    "test_loader = DataLoader(x_test_dataset, batch_size=batch_size, shuffle=False)\n",
    "\n",
    "# Switch the model to evaluation mode\n",
    "model_1.eval()\n",
    "\n",
    "submit_data = []\n",
    "\n",
    "with torch.no_grad():\n",
    "    for i, data in enumerate(test_loader):\n",
    "        data = data.to(device)\n",
    "        outputs = model_1(data)  # Ensure 'data' is a tensor\n",
    "\n",
    "        y_pred = outputs[0]\n",
    "        y_c1_pred = outputs[1]\n",
    "        y_c2_pred = outputs[2]\n",
    "\n",
    "        y_pred = y_pred.cpu()\n",
    "        y_c1_pred = y_c1_pred.cpu()\n",
    "        y_c2_pred = y_c2_pred.cpu()\n",
    "\n",
    "        y_pred_class = y_pred.argmax(dim=1).numpy()\n",
    "        y_c1_pred_class = y_c1_pred.argmax(dim=1).numpy()\n",
    "        y_c2_pred_class = y_c2_pred.argmax(dim=1).numpy()\n",
    "\n",
    "        # Collect predictions for each batch\n",
    "        for j in range(len(y_pred_class)):\n",
    "            submit_data.append(f\"{i*batch_size + j}, {y_c1_pred_class[j]} {y_c2_pred_class[j]} {y_pred_class[j]}\")\n",
    "\n",
    "# Write the results to 'submit.csv'\n",
    "with open('submit1.csv', 'w') as file:\n",
    "    file.write(\"ID,Prediction\\n\")\n",
    "    for line in submit_data:\n",
    "        file.write(line + \"\\n\")"
   ]
  }
 ],
 "metadata": {
  "kernelspec": {
   "display_name": "Python 3",
   "language": "python",
   "name": "python3"
  },
  "language_info": {
   "codemirror_mode": {
    "name": "ipython",
    "version": 3
   },
   "file_extension": ".py",
   "mimetype": "text/x-python",
   "name": "python",
   "nbconvert_exporter": "python",
   "pygments_lexer": "ipython3",
   "version": "3.11.9"
  }
 },
 "nbformat": 4,
 "nbformat_minor": 2
}
