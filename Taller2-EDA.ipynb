{
  "nbformat": 4,
  "nbformat_minor": 0,
  "metadata": {
    "colab": {
      "provenance": [],
      "gpuType": "T4"
    },
    "kernelspec": {
      "name": "python3",
      "display_name": "Python 3"
    },
    "language_info": {
      "name": "python"
    },
    "accelerator": "GPU"
  },
  "cells": [
    {
      "cell_type": "code",
      "execution_count": 1,
      "metadata": {
        "colab": {
          "base_uri": "https://localhost:8080/",
          "height": 310
        },
        "id": "9SypuTyxGQwe",
        "outputId": "787432c4-3def-4038-daf0-6bfb3986a40c"
      },
      "outputs": [
        {
          "output_type": "stream",
          "name": "stdout",
          "text": [
            "Requirement already satisfied: kaggle in /usr/local/lib/python3.10/dist-packages (1.6.17)\n",
            "Requirement already satisfied: six>=1.10 in /usr/local/lib/python3.10/dist-packages (from kaggle) (1.16.0)\n",
            "Requirement already satisfied: certifi>=2023.7.22 in /usr/local/lib/python3.10/dist-packages (from kaggle) (2024.8.30)\n",
            "Requirement already satisfied: python-dateutil in /usr/local/lib/python3.10/dist-packages (from kaggle) (2.8.2)\n",
            "Requirement already satisfied: requests in /usr/local/lib/python3.10/dist-packages (from kaggle) (2.32.3)\n",
            "Requirement already satisfied: tqdm in /usr/local/lib/python3.10/dist-packages (from kaggle) (4.66.5)\n",
            "Requirement already satisfied: python-slugify in /usr/local/lib/python3.10/dist-packages (from kaggle) (8.0.4)\n",
            "Requirement already satisfied: urllib3 in /usr/local/lib/python3.10/dist-packages (from kaggle) (2.2.3)\n",
            "Requirement already satisfied: bleach in /usr/local/lib/python3.10/dist-packages (from kaggle) (6.1.0)\n",
            "Requirement already satisfied: webencodings in /usr/local/lib/python3.10/dist-packages (from bleach->kaggle) (0.5.1)\n",
            "Requirement already satisfied: text-unidecode>=1.3 in /usr/local/lib/python3.10/dist-packages (from python-slugify->kaggle) (1.3)\n",
            "Requirement already satisfied: charset-normalizer<4,>=2 in /usr/local/lib/python3.10/dist-packages (from requests->kaggle) (3.4.0)\n",
            "Requirement already satisfied: idna<4,>=2.5 in /usr/local/lib/python3.10/dist-packages (from requests->kaggle) (3.10)\n"
          ]
        },
        {
          "output_type": "display_data",
          "data": {
            "text/plain": [
              "<IPython.core.display.HTML object>"
            ],
            "text/html": [
              "\n",
              "     <input type=\"file\" id=\"files-d2ba6aa1-3db5-4740-a10f-1a346ee5f4ae\" name=\"files[]\" multiple disabled\n",
              "        style=\"border:none\" />\n",
              "     <output id=\"result-d2ba6aa1-3db5-4740-a10f-1a346ee5f4ae\">\n",
              "      Upload widget is only available when the cell has been executed in the\n",
              "      current browser session. Please rerun this cell to enable.\n",
              "      </output>\n",
              "      <script>// Copyright 2017 Google LLC\n",
              "//\n",
              "// Licensed under the Apache License, Version 2.0 (the \"License\");\n",
              "// you may not use this file except in compliance with the License.\n",
              "// You may obtain a copy of the License at\n",
              "//\n",
              "//      http://www.apache.org/licenses/LICENSE-2.0\n",
              "//\n",
              "// Unless required by applicable law or agreed to in writing, software\n",
              "// distributed under the License is distributed on an \"AS IS\" BASIS,\n",
              "// WITHOUT WARRANTIES OR CONDITIONS OF ANY KIND, either express or implied.\n",
              "// See the License for the specific language governing permissions and\n",
              "// limitations under the License.\n",
              "\n",
              "/**\n",
              " * @fileoverview Helpers for google.colab Python module.\n",
              " */\n",
              "(function(scope) {\n",
              "function span(text, styleAttributes = {}) {\n",
              "  const element = document.createElement('span');\n",
              "  element.textContent = text;\n",
              "  for (const key of Object.keys(styleAttributes)) {\n",
              "    element.style[key] = styleAttributes[key];\n",
              "  }\n",
              "  return element;\n",
              "}\n",
              "\n",
              "// Max number of bytes which will be uploaded at a time.\n",
              "const MAX_PAYLOAD_SIZE = 100 * 1024;\n",
              "\n",
              "function _uploadFiles(inputId, outputId) {\n",
              "  const steps = uploadFilesStep(inputId, outputId);\n",
              "  const outputElement = document.getElementById(outputId);\n",
              "  // Cache steps on the outputElement to make it available for the next call\n",
              "  // to uploadFilesContinue from Python.\n",
              "  outputElement.steps = steps;\n",
              "\n",
              "  return _uploadFilesContinue(outputId);\n",
              "}\n",
              "\n",
              "// This is roughly an async generator (not supported in the browser yet),\n",
              "// where there are multiple asynchronous steps and the Python side is going\n",
              "// to poll for completion of each step.\n",
              "// This uses a Promise to block the python side on completion of each step,\n",
              "// then passes the result of the previous step as the input to the next step.\n",
              "function _uploadFilesContinue(outputId) {\n",
              "  const outputElement = document.getElementById(outputId);\n",
              "  const steps = outputElement.steps;\n",
              "\n",
              "  const next = steps.next(outputElement.lastPromiseValue);\n",
              "  return Promise.resolve(next.value.promise).then((value) => {\n",
              "    // Cache the last promise value to make it available to the next\n",
              "    // step of the generator.\n",
              "    outputElement.lastPromiseValue = value;\n",
              "    return next.value.response;\n",
              "  });\n",
              "}\n",
              "\n",
              "/**\n",
              " * Generator function which is called between each async step of the upload\n",
              " * process.\n",
              " * @param {string} inputId Element ID of the input file picker element.\n",
              " * @param {string} outputId Element ID of the output display.\n",
              " * @return {!Iterable<!Object>} Iterable of next steps.\n",
              " */\n",
              "function* uploadFilesStep(inputId, outputId) {\n",
              "  const inputElement = document.getElementById(inputId);\n",
              "  inputElement.disabled = false;\n",
              "\n",
              "  const outputElement = document.getElementById(outputId);\n",
              "  outputElement.innerHTML = '';\n",
              "\n",
              "  const pickedPromise = new Promise((resolve) => {\n",
              "    inputElement.addEventListener('change', (e) => {\n",
              "      resolve(e.target.files);\n",
              "    });\n",
              "  });\n",
              "\n",
              "  const cancel = document.createElement('button');\n",
              "  inputElement.parentElement.appendChild(cancel);\n",
              "  cancel.textContent = 'Cancel upload';\n",
              "  const cancelPromise = new Promise((resolve) => {\n",
              "    cancel.onclick = () => {\n",
              "      resolve(null);\n",
              "    };\n",
              "  });\n",
              "\n",
              "  // Wait for the user to pick the files.\n",
              "  const files = yield {\n",
              "    promise: Promise.race([pickedPromise, cancelPromise]),\n",
              "    response: {\n",
              "      action: 'starting',\n",
              "    }\n",
              "  };\n",
              "\n",
              "  cancel.remove();\n",
              "\n",
              "  // Disable the input element since further picks are not allowed.\n",
              "  inputElement.disabled = true;\n",
              "\n",
              "  if (!files) {\n",
              "    return {\n",
              "      response: {\n",
              "        action: 'complete',\n",
              "      }\n",
              "    };\n",
              "  }\n",
              "\n",
              "  for (const file of files) {\n",
              "    const li = document.createElement('li');\n",
              "    li.append(span(file.name, {fontWeight: 'bold'}));\n",
              "    li.append(span(\n",
              "        `(${file.type || 'n/a'}) - ${file.size} bytes, ` +\n",
              "        `last modified: ${\n",
              "            file.lastModifiedDate ? file.lastModifiedDate.toLocaleDateString() :\n",
              "                                    'n/a'} - `));\n",
              "    const percent = span('0% done');\n",
              "    li.appendChild(percent);\n",
              "\n",
              "    outputElement.appendChild(li);\n",
              "\n",
              "    const fileDataPromise = new Promise((resolve) => {\n",
              "      const reader = new FileReader();\n",
              "      reader.onload = (e) => {\n",
              "        resolve(e.target.result);\n",
              "      };\n",
              "      reader.readAsArrayBuffer(file);\n",
              "    });\n",
              "    // Wait for the data to be ready.\n",
              "    let fileData = yield {\n",
              "      promise: fileDataPromise,\n",
              "      response: {\n",
              "        action: 'continue',\n",
              "      }\n",
              "    };\n",
              "\n",
              "    // Use a chunked sending to avoid message size limits. See b/62115660.\n",
              "    let position = 0;\n",
              "    do {\n",
              "      const length = Math.min(fileData.byteLength - position, MAX_PAYLOAD_SIZE);\n",
              "      const chunk = new Uint8Array(fileData, position, length);\n",
              "      position += length;\n",
              "\n",
              "      const base64 = btoa(String.fromCharCode.apply(null, chunk));\n",
              "      yield {\n",
              "        response: {\n",
              "          action: 'append',\n",
              "          file: file.name,\n",
              "          data: base64,\n",
              "        },\n",
              "      };\n",
              "\n",
              "      let percentDone = fileData.byteLength === 0 ?\n",
              "          100 :\n",
              "          Math.round((position / fileData.byteLength) * 100);\n",
              "      percent.textContent = `${percentDone}% done`;\n",
              "\n",
              "    } while (position < fileData.byteLength);\n",
              "  }\n",
              "\n",
              "  // All done.\n",
              "  yield {\n",
              "    response: {\n",
              "      action: 'complete',\n",
              "    }\n",
              "  };\n",
              "}\n",
              "\n",
              "scope.google = scope.google || {};\n",
              "scope.google.colab = scope.google.colab || {};\n",
              "scope.google.colab._files = {\n",
              "  _uploadFiles,\n",
              "  _uploadFilesContinue,\n",
              "};\n",
              "})(self);\n",
              "</script> "
            ]
          },
          "metadata": {}
        },
        {
          "output_type": "stream",
          "name": "stdout",
          "text": [
            "Saving kaggle.json to kaggle.json\n"
          ]
        }
      ],
      "source": [
        "!pip install kaggle\n",
        "!mkdir -p ~/.kaggle\n",
        "\n",
        "from google.colab import files\n",
        "files.upload()  # Esto te permitirá subir el archivo 'kaggle.json'\n",
        "\n",
        "!mv kaggle.json ~/.kaggle/\n",
        "!chmod 600 ~/.kaggle/kaggle.json"
      ]
    },
    {
      "cell_type": "code",
      "source": [
        "!kaggle competitions download -c taller-2"
      ],
      "metadata": {
        "colab": {
          "base_uri": "https://localhost:8080/"
        },
        "id": "gfilxiRjGw-A",
        "outputId": "9ee998df-9ffc-4d68-d8bb-01fc6e2ceae9"
      },
      "execution_count": 2,
      "outputs": [
        {
          "output_type": "stream",
          "name": "stdout",
          "text": [
            "Downloading taller-2.zip to /content\n",
            " 99% 225M/227M [00:12<00:00, 21.4MB/s]\n",
            "100% 227M/227M [00:12<00:00, 18.7MB/s]\n"
          ]
        }
      ]
    },
    {
      "cell_type": "code",
      "source": [
        "!unzip -q /content/taller-2.zip"
      ],
      "metadata": {
        "id": "0flqpY8BHJSB"
      },
      "execution_count": 3,
      "outputs": []
    },
    {
      "cell_type": "code",
      "source": [
        "import numpy as np\n",
        "import pandas as pd\n",
        "import matplotlib.pyplot as plt"
      ],
      "metadata": {
        "id": "43jTTntmIEEG"
      },
      "execution_count": 4,
      "outputs": []
    },
    {
      "cell_type": "code",
      "source": [
        "import torch"
      ],
      "metadata": {
        "id": "TyJ0gsYJIIN2"
      },
      "execution_count": 5,
      "outputs": []
    },
    {
      "cell_type": "code",
      "source": [
        "device = torch.device(\"cuda\" if torch.cuda.is_available() else \"cpu\")\n",
        "device"
      ],
      "metadata": {
        "colab": {
          "base_uri": "https://localhost:8080/"
        },
        "id": "TZeE8rjHX1z-",
        "outputId": "37448ee4-3089-456c-9945-6edc9a31cf3f"
      },
      "execution_count": 6,
      "outputs": [
        {
          "output_type": "execute_result",
          "data": {
            "text/plain": [
              "device(type='cuda')"
            ]
          },
          "metadata": {},
          "execution_count": 6
        }
      ]
    },
    {
      "cell_type": "markdown",
      "source": [
        "# Exploratory Data Analisis"
      ],
      "metadata": {
        "id": "TQ9Hc_0ty9PD"
      }
    },
    {
      "cell_type": "code",
      "source": [
        "x_train = np.load('/content/x_train.npy')\n",
        "x_test = np.load('/content/x_test.npy')\n",
        "y_train = np.load('/content/y_train.npy')\n",
        "y_c1_train = np.load('/content/y_c1_train.npy')\n",
        "y_c2_train = np.load('/content/y_c2_train.npy')\n"
      ],
      "metadata": {
        "id": "9NWU0XFcHsmb"
      },
      "execution_count": 7,
      "outputs": []
    },
    {
      "cell_type": "code",
      "source": [
        "print('x_train type:', type(x_train), 'con datos', x_train.dtype)\n",
        "print('x_test type:', type(x_test), 'con datos', x_test.dtype)\n",
        "print('y_train type:', type(y_train), 'con datos', y_train.dtype)\n",
        "print('y_c1_train type:', type(y_c1_train), 'con datos', y_c1_train.dtype)\n",
        "print('y_c2_train type:', type(y_c2_train), 'con datos', y_c2_train.dtype)"
      ],
      "metadata": {
        "colab": {
          "base_uri": "https://localhost:8080/"
        },
        "id": "e1x71CObw1LI",
        "outputId": "537831bb-5f87-42ca-8c06-272a8a132e39"
      },
      "execution_count": 8,
      "outputs": [
        {
          "output_type": "stream",
          "name": "stdout",
          "text": [
            "x_train type: <class 'numpy.ndarray'> con datos float32\n",
            "x_test type: <class 'numpy.ndarray'> con datos float32\n",
            "y_train type: <class 'numpy.ndarray'> con datos float32\n",
            "y_c1_train type: <class 'numpy.ndarray'> con datos float32\n",
            "y_c2_train type: <class 'numpy.ndarray'> con datos float32\n"
          ]
        }
      ]
    },
    {
      "cell_type": "code",
      "source": [
        "print('x_train shape:', x_train.shape)\n",
        "print('x_test shape:', x_test.shape)\n",
        "print('y_train shape:', y_train.shape)\n",
        "print('y_c1_train shape:', y_c1_train.shape)\n",
        "print('y_c2_train shape:', y_c2_train.shape)"
      ],
      "metadata": {
        "colab": {
          "base_uri": "https://localhost:8080/"
        },
        "id": "042jGPS5z926",
        "outputId": "8f5c3025-4573-4d8e-a671-88b4f066fb2c"
      },
      "execution_count": 9,
      "outputs": [
        {
          "output_type": "stream",
          "name": "stdout",
          "text": [
            "x_train shape: (50000, 32, 32, 3)\n",
            "x_test shape: (10000, 32, 32, 3)\n",
            "y_train shape: (50000, 100)\n",
            "y_c1_train shape: (50000, 8)\n",
            "y_c2_train shape: (50000, 20)\n"
          ]
        }
      ]
    },
    {
      "cell_type": "code",
      "source": [
        "print(f\"Rango de valores en x_train: {np.min(x_train)} a {np.max(x_train)}\")\n",
        "print(f\"Rango de valores en x_test: {np.min(x_test)} a {np.max(x_test)}\")"
      ],
      "metadata": {
        "colab": {
          "base_uri": "https://localhost:8080/"
        },
        "id": "cL90kbVU1FPV",
        "outputId": "d014179d-06b7-4f1b-ef06-2396993e70e7"
      },
      "execution_count": 10,
      "outputs": [
        {
          "output_type": "stream",
          "name": "stdout",
          "text": [
            "Rango de valores en x_train: -1.7829737663269043 a 1.9456948041915894\n",
            "Rango de valores en x_test: -1.7811453342437744 a 1.9343997240066528\n"
          ]
        }
      ]
    },
    {
      "cell_type": "markdown",
      "source": [
        "Podemos describir los datos de la siguiente manera.\n",
        "- **x_train**: Contiene 50000 imágenes de 32x32 pixeles con 3 canales de color (RGB). Cada imagen será una matriz 3D de tamaño 32x32x3.\n",
        "- **x_test**: Contiene 10000 imágenes de 32x32 pixeles con 3 canales de color, mismo formato que x_train, solo que menos imagenes.\n",
        "- **y_train**: Contiene la clasificación más fina teniendo 100 clases.\n",
        "- **y_c1_train**: Contiene el primer nivel de jerarquía con 8 clases clasificadas para 50000 imagenes.\n",
        "- **y_c2_train**: Contiene el segundo nivel de jerarquía con 20 clases clasificadas para 50000 imagenes.\n",
        "\n",
        "Además, ya se encuentran todos los datos estandarizados."
      ],
      "metadata": {
        "id": "ItZKkChAzbE0"
      }
    },
    {
      "cell_type": "code",
      "source": [
        "print(\"x_train:\", x_train[:1])\n",
        "print(\"x_test:\", x_test[:1])"
      ],
      "metadata": {
        "colab": {
          "base_uri": "https://localhost:8080/"
        },
        "id": "pFbUWUDsxH6O",
        "outputId": "cdb714fa-02ee-4cad-de39-2c4fe57e00f1"
      },
      "execution_count": 11,
      "outputs": [
        {
          "output_type": "stream",
          "name": "stdout",
          "text": [
            "x_train: [[[[ 1.9456948e+00  1.9456948e+00  1.9456948e+00]\n",
            "   [ 1.9456948e+00  1.9456948e+00  1.9456948e+00]\n",
            "   [ 1.9456948e+00  1.9456948e+00  1.9456948e+00]\n",
            "   ...\n",
            "   [ 1.0683609e+00  1.2145833e+00  1.0391165e+00]\n",
            "   [ 1.3169389e+00  1.4924057e+00  1.1999611e+00]\n",
            "   [ 8.7827200e-01  1.0537387e+00  6.5893853e-01]]\n",
            "\n",
            "  [[ 1.9456948e+00  1.9456948e+00  1.9456948e+00]\n",
            "   [ 1.9310725e+00  1.9310725e+00  1.9310725e+00]\n",
            "   [ 1.9310725e+00  1.9310725e+00  1.9310725e+00]\n",
            "   ...\n",
            "   [ 7.0280522e-01  7.9053861e-01  4.1036063e-01]\n",
            "   [ 5.7120514e-01  6.7356080e-01  1.1791605e-01]\n",
            "   [ 3.5187173e-01  4.6884957e-01 -1.3066186e-01]]\n",
            "\n",
            "  [[ 1.9456948e+00  1.9456948e+00  1.9456948e+00]\n",
            "   [ 1.9310725e+00  1.9310725e+00  1.9310725e+00]\n",
            "   [ 1.9456948e+00  1.9456948e+00  1.9456948e+00]\n",
            "   ...\n",
            "   [ 9.8062760e-01  1.1268499e+00  6.8818301e-01]\n",
            "   [ 6.4431632e-01  8.1978309e-01  1.1791605e-01]\n",
            "   [-1.3684020e-02  1.6178274e-01 -5.1083982e-01]]\n",
            "\n",
            "  ...\n",
            "\n",
            "  [[ 3.8111618e-01  9.2213869e-01 -6.2781769e-01]\n",
            "   [ 2.9338279e-01  8.7827200e-01 -9.4950670e-01]\n",
            "   [ 2.6413834e-01  8.3440530e-01 -9.0564001e-01]\n",
            "   ...\n",
            "   [-1.3443069e+00 -1.5343959e+00 -1.7683516e+00]\n",
            "   [-8.3252889e-01 -8.7639558e-01 -1.5636404e+00]\n",
            "   [-6.7168438e-01 -6.5706211e-01 -1.4905292e+00]]\n",
            "\n",
            "  [[ 9.3820918e-04  5.1271623e-01 -8.1790668e-01]\n",
            "   [-2.8306250e-02  4.8347178e-01 -9.3488449e-01]\n",
            "   [ 5.9427127e-02  5.5658293e-01 -7.4479550e-01]\n",
            "   ...\n",
            "   [-1.4612848e+00 -1.5490181e+00 -1.7391071e+00]\n",
            "   [-3.6461753e-01 -1.4528409e-01 -9.6412897e-01]\n",
            "   [ 2.7876058e-01  5.7120514e-01 -5.1083982e-01]]\n",
            "\n",
            "  [[-5.1083982e-01  9.3820918e-04 -1.1834624e+00]\n",
            "   [-4.9621761e-01  9.3820918e-04 -1.2127068e+00]\n",
            "   [-3.0612862e-01  1.7640497e-01 -9.6412897e-01]\n",
            "   ...\n",
            "   [-1.2858180e+00 -1.2565736e+00 -1.6367515e+00]\n",
            "   [-2.4763970e-01  1.6178274e-01 -9.2026228e-01]\n",
            "   [ 2.3489389e-01  7.4667192e-01 -6.2781769e-01]]]]\n",
            "x_test: [[[[ 1.1184368   1.351569    1.8469751 ]\n",
            "   [ 1.0747246   1.293286    1.7741213 ]\n",
            "   [ 1.0601537   1.2787153   1.7595505 ]\n",
            "   ...\n",
            "   [ 1.3661398   1.5847013   1.8615458 ]\n",
            "   [ 1.3807106   1.5847013   1.8615458 ]\n",
            "   [ 1.482706    1.6284136   1.8906875 ]]\n",
            "\n",
            "  [[ 1.0892953   1.2787153   1.7012674 ]\n",
            "   [ 1.0601537   1.2495737   1.6866966 ]\n",
            "   [ 1.0601537   1.2787153   1.7158382 ]\n",
            "   ...\n",
            "   [ 1.5847013   1.7595505   1.8615458 ]\n",
            "   [ 1.6138428   1.7595505   1.8615458 ]\n",
            "   [ 1.7304089   1.788692    1.9052582 ]]\n",
            "\n",
            "  [[ 1.4535644   1.5118475   1.8032627 ]\n",
            "   [ 1.3224275   1.4244229   1.7449797 ]\n",
            "   [ 1.2641444   1.4098521   1.7595505 ]\n",
            "   ...\n",
            "   [ 1.7595505   1.8615458   1.8761168 ]\n",
            "   [ 1.7741213   1.8469751   1.8761168 ]\n",
            "   [ 1.8615458   1.8615458   1.9052582 ]]\n",
            "\n",
            "  ...\n",
            "\n",
            "  [[-0.7320503  -0.7174795  -0.33863968]\n",
            "   [-0.7466211  -0.70290875 -0.29492736]\n",
            "   [-0.70290875 -0.6446257  -0.20750278]\n",
            "   ...\n",
            "   [ 1.4244229   1.2495737   1.3807106 ]\n",
            "   [ 0.8853046   0.6667431   0.8561631 ]\n",
            "   [ 0.47732317  0.27333245  0.40446934]]\n",
            "\n",
            "  [[-0.7320503  -0.68833804 -0.26578584]\n",
            "   [-0.67376727 -0.6009134  -0.16379048]\n",
            "   [-0.55720115 -0.4843473  -0.00351207]\n",
            "   ...\n",
            "   [ 1.4535644   1.3078568   1.4244229 ]\n",
            "   [ 0.94358766  0.7541677   1.0164415 ]\n",
            "   [ 0.3316155   0.14219558  0.38989857]]\n",
            "\n",
            "  [[-0.6154842  -0.5426304  -0.06179513]\n",
            "   [-0.55720115 -0.46977654  0.01105869]\n",
            "   [-0.5426304  -0.44063503  0.06934176]\n",
            "   ...\n",
            "   [ 1.3807106   1.235003    1.351569  ]\n",
            "   [ 1.235003    1.045583    1.293286  ]\n",
            "   [ 0.7833092   0.60846007  0.8853046 ]]]]\n"
          ]
        }
      ]
    },
    {
      "cell_type": "code",
      "source": [
        "plt.imshow(x_train[0])\n",
        "plt.show()\n",
        "print(\"y_train:\", y_train[0])\n",
        "print(\"y_c1_train:\", y_c1_train[0])\n",
        "print(\"y_c2_train:\", y_c2_train[0])"
      ],
      "metadata": {
        "colab": {
          "base_uri": "https://localhost:8080/",
          "height": 576
        },
        "id": "uWJMJdD3wnJC",
        "outputId": "45f00c23-f670-43c3-e42e-6cc7209121fe"
      },
      "execution_count": 14,
      "outputs": [
        {
          "output_type": "stream",
          "name": "stderr",
          "text": [
            "WARNING:matplotlib.image:Clipping input data to the valid range for imshow with RGB data ([0..1] for floats or [0..255] for integers).\n"
          ]
        },
        {
          "output_type": "display_data",
          "data": {
            "text/plain": [
              "<Figure size 640x480 with 1 Axes>"
            ],
            "image/png": "[encoded data removed]"
          },
          "metadata": {}
        },
        {
          "output_type": "stream",
          "name": "stdout",
          "text": [
            "y_train: [0. 0. 0. 0. 0. 0. 0. 0. 0. 0. 0. 0. 0. 0. 0. 0. 0. 0. 0. 1. 0. 0. 0. 0.\n",
            " 0. 0. 0. 0. 0. 0. 0. 0. 0. 0. 0. 0. 0. 0. 0. 0. 0. 0. 0. 0. 0. 0. 0. 0.\n",
            " 0. 0. 0. 0. 0. 0. 0. 0. 0. 0. 0. 0. 0. 0. 0. 0. 0. 0. 0. 0. 0. 0. 0. 0.\n",
            " 0. 0. 0. 0. 0. 0. 0. 0. 0. 0. 0. 0. 0. 0. 0. 0. 0. 0. 0. 0. 0. 0. 0. 0.\n",
            " 0. 0. 0. 0.]\n",
            "y_c1_train: [0. 0. 0. 0. 1. 0. 0. 0.]\n",
            "y_c2_train: [0. 0. 0. 0. 0. 0. 0. 0. 0. 0. 0. 1. 0. 0. 0. 0. 0. 0. 0. 0.]\n"
          ]
        }
      ]
    },
    {
      "cell_type": "code",
      "source": [
        "# mostrar las 10 primeras imagenes\n",
        "fig, axes = plt.subplots(1, 10, figsize=(20, 2))\n",
        "for i in range(10):\n",
        "    axes[i].imshow(x_train[i])\n",
        "    axes[i].axis('off')\n",
        "plt.show()\n"
      ],
      "metadata": {
        "colab": {
          "base_uri": "https://localhost:8080/",
          "height": 323
        },
        "id": "IUuDaUh6zB8W",
        "outputId": "31ff409f-d639-43de-c8d0-6eece2dadaaf"
      },
      "execution_count": 12,
      "outputs": [
        {
          "output_type": "stream",
          "name": "stderr",
          "text": [
            "WARNING:matplotlib.image:Clipping input data to the valid range for imshow with RGB data ([0..1] for floats or [0..255] for integers).\n",
            "WARNING:matplotlib.image:Clipping input data to the valid range for imshow with RGB data ([0..1] for floats or [0..255] for integers).\n",
            "WARNING:matplotlib.image:Clipping input data to the valid range for imshow with RGB data ([0..1] for floats or [0..255] for integers).\n",
            "WARNING:matplotlib.image:Clipping input data to the valid range for imshow with RGB data ([0..1] for floats or [0..255] for integers).\n",
            "WARNING:matplotlib.image:Clipping input data to the valid range for imshow with RGB data ([0..1] for floats or [0..255] for integers).\n",
            "WARNING:matplotlib.image:Clipping input data to the valid range for imshow with RGB data ([0..1] for floats or [0..255] for integers).\n",
            "WARNING:matplotlib.image:Clipping input data to the valid range for imshow with RGB data ([0..1] for floats or [0..255] for integers).\n",
            "WARNING:matplotlib.image:Clipping input data to the valid range for imshow with RGB data ([0..1] for floats or [0..255] for integers).\n",
            "WARNING:matplotlib.image:Clipping input data to the valid range for imshow with RGB data ([0..1] for floats or [0..255] for integers).\n",
            "WARNING:matplotlib.image:Clipping input data to the valid range for imshow with RGB data ([0..1] for floats or [0..255] for integers).\n"
          ]
        },
        {
          "output_type": "display_data",
          "data": {
            "text/plain": [
              "<Figure size 2000x200 with 10 Axes>"
            ],
            "image/png": "[encoded data removed]"
          },
          "metadata": {}
        }
      ]
    },
    {
      "cell_type": "code",
      "source": [
        "for i in range(len(x_train) - 1):  # Ajuste para evitar indexación fuera del rango\n",
        "    if (x_train[i] == x_train[i + 1]).all():  # Verifica si todos los elementos son iguales\n",
        "        print(i, i + 1)"
      ],
      "metadata": {
        "id": "AmhCFpVW2Z1K"
      },
      "execution_count": 13,
      "outputs": []
    },
    {
      "cell_type": "code",
      "source": [
        "def count_classes(y):\n",
        "    return np.sum(y, axis=0)\n",
        "\n",
        "class_counts_y_train = count_classes(y_train)\n",
        "class_counts_y_c1_train = count_classes(y_c1_train)\n",
        "class_counts_y_c2_train = count_classes(y_c2_train)\n",
        "\n",
        "print(\"Cantidad de imágenes por clase en y_train:\", class_counts_y_train)\n",
        "print(\"Cantidad de imágenes por clase en y_c1_train:\", class_counts_y_c1_train)\n",
        "print(\"Cantidad de imágenes por clase en y_c2_train:\", class_counts_y_c2_train)"
      ],
      "metadata": {
        "colab": {
          "base_uri": "https://localhost:8080/"
        },
        "id": "LuaazzE-3D4n",
        "outputId": "555fea33-0303-453a-e739-836e79537520"
      },
      "execution_count": 14,
      "outputs": [
        {
          "output_type": "stream",
          "name": "stdout",
          "text": [
            "Cantidad de imágenes por clase en y_train: [500. 500. 500. 500. 500. 500. 500. 500. 500. 500. 500. 500. 500. 500.\n",
            " 500. 500. 500. 500. 500. 500. 500. 500. 500. 500. 500. 500. 500. 500.\n",
            " 500. 500. 500. 500. 500. 500. 500. 500. 500. 500. 500. 500. 500. 500.\n",
            " 500. 500. 500. 500. 500. 500. 500. 500. 500. 500. 500. 500. 500. 500.\n",
            " 500. 500. 500. 500. 500. 500. 500. 500. 500. 500. 500. 500. 500. 500.\n",
            " 500. 500. 500. 500. 500. 500. 500. 500. 500. 500. 500. 500. 500. 500.\n",
            " 500. 500. 500. 500. 500. 500. 500. 500. 500. 500. 500. 500. 500. 500.\n",
            " 500. 500.]\n",
            "Cantidad de imágenes por clase en y_c1_train: [ 5000.  7500.  7500.  5000. 12500.  5000.  2500.  5000.]\n",
            "Cantidad de imágenes por clase en y_c2_train: [2500. 2500. 2500. 2500. 2500. 2500. 2500. 2500. 2500. 2500. 2500. 2500.\n",
            " 2500. 2500. 2500. 2500. 2500. 2500. 2500. 2500.]\n"
          ]
        }
      ]
    },
    {
      "cell_type": "markdown",
      "source": [
        "Observamos que la distribución de clases en `y_train` y `y_c2_train` es completamente equilibrada, mientras que en `y_c1_train` existe un desequilibrio en la cantidad de datos entre las clases."
      ],
      "metadata": {
        "id": "l6HSl7oi3kRV"
      }
    },
    {
      "cell_type": "code",
      "source": [
        "def plot_class_distribution(class_counts, title):\n",
        "    plt.figure(figsize=(12, 6))\n",
        "    plt.bar(range(len(class_counts)), class_counts, color='blue')\n",
        "    plt.xlabel('Clases')\n",
        "    plt.ylabel('Cantidad de Imágenes')\n",
        "    plt.title(title)\n",
        "    plt.xticks(range(len(class_counts)), range(len(class_counts)))\n",
        "    plt.grid(axis='y')\n",
        "    plt.show()\n",
        "\n",
        "\n",
        "plot_class_distribution(class_counts_y_c1_train, 'Distribución de Clases en y_c1_train')\n"
      ],
      "metadata": {
        "colab": {
          "base_uri": "https://localhost:8080/",
          "height": 565
        },
        "id": "Anuwj8C23aMY",
        "outputId": "f43fd300-9092-4c12-e8dd-e09927ec0371"
      },
      "execution_count": 15,
      "outputs": [
        {
          "output_type": "display_data",
          "data": {
            "text/plain": [
              "<Figure size 1200x600 with 1 Axes>"
            ],
            "image/png": "[encoded data removed]"
          },
          "metadata": {}
        }
      ]
    },
    {
      "cell_type": "markdown",
      "source": [
        "Este desequilibrio en los datos podría causar un sesgo en el modelo, favoreciendo las clases con mayor cantidad de ejemplos y disminuyendo su capacidad para predecir correctamente aquellas con menos ejemplos, especialmente en el caso de la clase 6.\n",
        "\n",
        "Dado que no es posible obtener más datos, se **ajustarán los pesos para `y_c1_train`**, asignando mayor peso a las clases menos representadas.\n"
      ],
      "metadata": {
        "id": "Azaf1sej45G9"
      }
    },
    {
      "cell_type": "code",
      "source": [
        "total_count_c1 = sum(class_counts_y_c1_train)\n",
        "class_weights_c1 = [total_count_c1 / (len(class_counts_y_c1_train) * count) for count in class_counts_y_c1_train]\n",
        "\n",
        "class_weights_c1"
      ],
      "metadata": {
        "colab": {
          "base_uri": "https://localhost:8080/"
        },
        "id": "oZJVyqyK67hy",
        "outputId": "7ea29a0f-e847-461e-c5a7-6ba8ef319814"
      },
      "execution_count": 16,
      "outputs": [
        {
          "output_type": "execute_result",
          "data": {
            "text/plain": [
              "[1.25, 0.8333333333333334, 0.8333333333333334, 1.25, 0.5, 1.25, 2.5, 1.25]"
            ]
          },
          "metadata": {},
          "execution_count": 16
        }
      ]
    },
    {
      "cell_type": "code",
      "source": [
        "class_weights_tensor_c1 = torch.FloatTensor(class_weights_c1)\n",
        "class_weights_tensor_c1"
      ],
      "metadata": {
        "colab": {
          "base_uri": "https://localhost:8080/"
        },
        "id": "bs75KAmJ7uMH",
        "outputId": "904b198d-f924-4029-a597-ade635894fc8"
      },
      "execution_count": 20,
      "outputs": [
        {
          "output_type": "execute_result",
          "data": {
            "text/plain": [
              "tensor([1.2500, 0.8333, 0.8333, 1.2500, 0.5000, 1.2500, 2.5000, 1.2500])"
            ]
          },
          "metadata": {},
          "execution_count": 20
        }
      ]
    },
    {
      "cell_type": "code",
      "source": [
        "plt.figure(figsize=(12, 6))\n",
        "plt.bar(range(len(class_weights_tensor_c1)), class_weights_tensor_c1, color='blue')\n",
        "plt.xlabel('Clases')\n",
        "plt.ylabel('Peso')\n",
        "plt.title('Distribución de Pesos en y_c1_train')\n",
        "plt.xticks(range(len(class_weights_tensor_c1)), range(len(class_weights_tensor_c1)))\n",
        "plt.grid(axis='y')\n",
        "plt.show()"
      ],
      "metadata": {
        "colab": {
          "base_uri": "https://localhost:8080/",
          "height": 565
        },
        "id": "_BHOGyqW146_",
        "outputId": "939ff18e-201e-4364-a3fd-d045a520656b"
      },
      "execution_count": 21,
      "outputs": [
        {
          "output_type": "display_data",
          "data": {
            "text/plain": [
              "<Figure size 1200x600 with 1 Axes>"
            ],
            "image/png": "[encoded data removed]"
          },
          "metadata": {}
        }
      ]
    },
    {
      "cell_type": "code",
      "source": [
        "class_weights_tensor_c1 = torch.FloatTensor(class_weights_c1).to(device)"
      ],
      "metadata": {
        "id": "2tInFPzQYeJZ"
      },
      "execution_count": 22,
      "outputs": []
    },
    {
      "cell_type": "markdown",
      "source": [
        "# División conjunto de entrenamiento y validación"
      ],
      "metadata": {
        "id": "DVw2-0xJ8Q3Z"
      }
    },
    {
      "cell_type": "markdown",
      "source": [
        "A partir del conjunto de datos `x_train`, se realiza la división para crear los conjuntos de entrenamiento y validación, respectivamente.\n",
        "\n"
      ],
      "metadata": {
        "id": "NLPwyYr08c_f"
      }
    },
    {
      "cell_type": "code",
      "source": [
        "from sklearn.model_selection import train_test_split"
      ],
      "metadata": {
        "id": "5bAu9DLy3Ujl"
      },
      "execution_count": 23,
      "outputs": []
    },
    {
      "cell_type": "markdown",
      "source": [
        "Los parámetros `random_state` y `stratify` en la función `train_test_split` son fundamentales para asegurar una división adecuada de los datos. El parámetro `random_state` establece una semilla para el generador de números aleatorios, lo que garantiza que la división sea reproducible en ejecuciones futuras. Por otro lado, `stratify=y_train` asegura que la proporción de las clases en el conjunto de entrenamiento y el conjunto de validación sea la misma que en el conjunto original, lo que es especialmente importante en problemas de clasificación para mantener la representación adecuada de cada clase.\n"
      ],
      "metadata": {
        "id": "zToldaGG83aV"
      }
    },
    {
      "cell_type": "code",
      "source": [
        "X_train, X_val, y_train, y_val, y_c1_train, y_c1_val, y_c2_train, y_c2_val = train_test_split(\n",
        "    x_train, y_train, y_c1_train, y_c2_train,\n",
        "    test_size=0.2,\n",
        "    random_state=42,\n",
        "    stratify=y_train\n",
        ")"
      ],
      "metadata": {
        "id": "L5wP20en48P_"
      },
      "execution_count": 24,
      "outputs": []
    },
    {
      "cell_type": "code",
      "source": [
        "print('X_train shape:', X_train.shape)\n",
        "print('X_val shape:', X_val.shape)\n",
        "print('y_train shape:', y_train.shape)\n",
        "print('y_val shape:', y_val.shape)\n",
        "print('y_c1_train shape:', y_c1_train.shape)\n",
        "print('y_c1_val shape:', y_c1_val.shape)\n",
        "print('y_c2_train shape:', y_c2_train.shape)\n",
        "print('y_c2_val shape:', y_c2_val.shape)"
      ],
      "metadata": {
        "colab": {
          "base_uri": "https://localhost:8080/"
        },
        "id": "TJzeDIKg5tyl",
        "outputId": "ba6a2363-cbc3-419c-b5f4-e372da758dcf"
      },
      "execution_count": 25,
      "outputs": [
        {
          "output_type": "stream",
          "name": "stdout",
          "text": [
            "X_train shape: (40000, 32, 32, 3)\n",
            "X_val shape: (10000, 32, 32, 3)\n",
            "y_train shape: (40000, 100)\n",
            "y_val shape: (10000, 100)\n",
            "y_c1_train shape: (40000, 8)\n",
            "y_c1_val shape: (10000, 8)\n",
            "y_c2_train shape: (40000, 20)\n",
            "y_c2_val shape: (10000, 20)\n"
          ]
        }
      ]
    },
    {
      "cell_type": "markdown",
      "source": [
        "# Creación de Dataset"
      ],
      "metadata": {
        "id": "BLd_KFHv2Tuz"
      }
    },
    {
      "cell_type": "markdown",
      "source": [
        "Se define una clase personalizada `HierarchicalDataset` que extiende la clase `Dataset`. Esta clase se encargará de convertir los datos en tensores. Posteriormente, esta implementación nos permitirá crear los `DataLoaders` necesarios para la manipulación eficiente de los datos durante el entrenamiento.\n"
      ],
      "metadata": {
        "id": "fK1uvKZu2i1V"
      }
    },
    {
      "cell_type": "code",
      "source": [
        "from torch.utils.data import DataLoader, Dataset"
      ],
      "metadata": {
        "id": "IeSU1-4d8Y0m"
      },
      "execution_count": 26,
      "outputs": []
    },
    {
      "cell_type": "code",
      "source": [
        "class HierarchicalDataset(Dataset):\n",
        "    def __init__(self, x_data, y_data, y_c1_data, y_c2_data):\n",
        "        self.x_data = torch.tensor(x_data, dtype=torch.float32).permute(0, 3, 1, 2) # Permutamos para el formato [batch, channels, height, width] que es el que ocupan las capas Conv2D\n",
        "        self.y_data = torch.tensor(y_data, dtype=torch.float32)\n",
        "        self.y_c1_data = torch.tensor(y_c1_data, dtype=torch.float32)\n",
        "        self.y_c2_data = torch.tensor(y_c2_data, dtype=torch.float32)\n",
        "\n",
        "    def __len__(self):\n",
        "        return len(self.x_data)\n",
        "\n",
        "    def __getitem__(self, idx):\n",
        "        # Devuelve una muestra junto con sus tres etiquetas\n",
        "        return self.x_data[idx], self.y_data[idx], self.y_c1_data[idx], self.y_c2_data[idx]\n",
        "\n",
        "    def shape(self):\n",
        "        print('x_data shape:', self.x_data.shape, 'tipo dato:', self.x_data.dtype)\n",
        "        print('y_data shape:', self.y_data.shape, 'tipo dato:', self.y_data.dtype)\n",
        "        print('y_c1_data shape:', self.y_c1_data.shape, 'tipo dato:', self.y_c1_data.dtype)\n",
        "        print('y_c2_data shape:', self.y_c2_data.shape, 'tipo dato:', self.y_c2_data.dtype)\n",
        "\n"
      ],
      "metadata": {
        "id": "a-xKCU-k2YC1"
      },
      "execution_count": 27,
      "outputs": []
    },
    {
      "cell_type": "code",
      "source": [
        "train_dataset = HierarchicalDataset(X_train, y_train, y_c1_train, y_c2_train)\n",
        "val_dataset = HierarchicalDataset(X_val, y_val, y_c1_val, y_c2_val)"
      ],
      "metadata": {
        "id": "PH3ArCtW6VwD"
      },
      "execution_count": 28,
      "outputs": []
    },
    {
      "cell_type": "code",
      "source": [
        "print('Tamaño del Dataset de entrenamiento', len(train_dataset))\n",
        "print('Tamaño del Dataset de validación', len(val_dataset))"
      ],
      "metadata": {
        "colab": {
          "base_uri": "https://localhost:8080/"
        },
        "id": "XY1XFW-e9Xto",
        "outputId": "bd81be16-f7b0-45dd-f3d0-abce2f9d2924"
      },
      "execution_count": 29,
      "outputs": [
        {
          "output_type": "stream",
          "name": "stdout",
          "text": [
            "Tamaño del Dataset de entrenamiento 40000\n",
            "Tamaño del Dataset de validación 10000\n"
          ]
        }
      ]
    },
    {
      "cell_type": "code",
      "source": [
        "train_dataset.shape()"
      ],
      "metadata": {
        "colab": {
          "base_uri": "https://localhost:8080/"
        },
        "id": "zqLxS8Xd0rZT",
        "outputId": "b07e89af-a13b-4936-9dd6-a214a36e27d4"
      },
      "execution_count": 30,
      "outputs": [
        {
          "output_type": "stream",
          "name": "stdout",
          "text": [
            "x_data shape: torch.Size([40000, 3, 32, 32]) tipo dato: torch.float32\n",
            "y_data shape: torch.Size([40000, 100]) tipo dato: torch.float32\n",
            "y_c1_data shape: torch.Size([40000, 8]) tipo dato: torch.float32\n",
            "y_c2_data shape: torch.Size([40000, 20]) tipo dato: torch.float32\n"
          ]
        }
      ]
    },
    {
      "cell_type": "markdown",
      "source": [
        "# Creación DataLoaders"
      ],
      "metadata": {
        "id": "jN_cNfzW6Lmj"
      }
    },
    {
      "cell_type": "markdown",
      "source": [
        "Se utilizan los datasets creados anteriormente para generar los `DataLoaders`, que facilitan la manipulación de los datos en lotes (batches) durante el entrenamiento.\n",
        "\n",
        "Antes de crear un `DataLoader`, es necesario definir el tamaño de los lotes (`batch_size`), que es un parámetro esencial para su creación.\n",
        "\n",
        "El parámetro `shuffle`, cuando se establece en `True`, permite que los datos sean barajados antes de ser divididos en los lotes. Esto garantiza que el orden de las muestras cambie en cada época durante el entrenamiento, lo que ayuda a reducir el sesgo. Cabe destacar que `shuffle=True` se utiliza únicamente durante el entrenamiento y no en la fase de validación.\n"
      ],
      "metadata": {
        "id": "eUMJ7SZ66rAY"
      }
    },
    {
      "cell_type": "code",
      "source": [
        "batch_size = 164\n",
        "train_loader = DataLoader(train_dataset, batch_size=batch_size, shuffle=True)\n",
        "val_loader = DataLoader(val_dataset, batch_size=batch_size, shuffle=False)"
      ],
      "metadata": {
        "id": "88w_udOZ6Z1E"
      },
      "execution_count": 32,
      "outputs": []
    },
    {
      "cell_type": "code",
      "source": [
        "print('Tamaño DataLoader de entrenamiento:', len(train_loader))\n",
        "print('Tamaño DataLoader de validación:', len(val_loader))"
      ],
      "metadata": {
        "colab": {
          "base_uri": "https://localhost:8080/"
        },
        "id": "he_N4OnM9EsH",
        "outputId": "5fb8c48e-2d23-4564-b14b-e836178c8df5"
      },
      "execution_count": 33,
      "outputs": [
        {
          "output_type": "stream",
          "name": "stdout",
          "text": [
            "Tamaño DataLoader de entrenamiento: 244\n",
            "Tamaño DataLoader de validación: 61\n"
          ]
        }
      ]
    },
    {
      "cell_type": "markdown",
      "source": [
        "Observamos que los tamaños de los `DataLoaders` no coinciden con los tamaños de los `Datasets` creados anteriormente. Esto se debe a la división en lotes que se realiza al crear los `DataLoaders`. Sabemos que el tamaño del conjunto de datos de entrenamiento es de 40,000 y el del conjunto de validación es de 10,000. Por lo tanto, el tamaño del `DataLoader` se calcula **dividiendo el tamaño del conjunto de datos entre el** `batch_size`.\n"
      ],
      "metadata": {
        "id": "BXRbFGxO9ScP"
      }
    },
    {
      "cell_type": "markdown",
      "source": [
        "# Transfer Learning y Fine Tuning\n",
        "\n",
        "***Transfer learning*** es una técnica en deep learning que permite reutilizar un modelo preentrenado del estado del arte en una tarea similar. En lugar de entrenar un modelo desde cero, se aprovechan las características ya aprendidas por el modelo en conjuntos de datos grandes (como *ImageNet*, *Open Images*, *COCO*, y *Places365*), que contienen millones de imágenes. En este proceso, típicamente se reemplazan y ajustan solo las últimas capas densas para adaptarlas a la nueva tarea específica, acelerando el entrenamiento y mejorando la precisión en conjuntos de datos más pequeños.\n",
        "\n",
        "***Fine tuning***, por otro lado, es una técnica específica dentro del transfer learning que permite ajustar o \"afinar\" algunas o todas las capas del modelo preentrenado. Esto implica congelar las primeras capas, que han aprendido características generales, y dejar entrenables las capas superiores para adaptar el modelo a una tarea más específica.\n",
        "\n"
      ],
      "metadata": {
        "id": "qWW9qdsgyhxa"
      }
    },
    {
      "cell_type": "markdown",
      "source": [
        "# Transfer learning con EfficientNet"
      ],
      "metadata": {
        "id": "acKZTMp2QvWJ"
      }
    },
    {
      "cell_type": "markdown",
      "source": [
        "**EfficientNet** es una familia de arquitecturas de redes neuronales convolucionales desarrollada por Google, que optimiza la precisión y eficiencia computacional. Utiliza un enfoque de escalado compuesto para ajustar uniformemente la profundidad, ancho y resolución de la red, logrando resultados de vanguardia en clasificación de imágenes con menos parámetros que modelos anteriores.\n"
      ],
      "metadata": {
        "id": "XHkjUDCq-zzm"
      }
    },
    {
      "cell_type": "markdown",
      "source": [
        "## Modelo EfficientNet B0"
      ],
      "metadata": {
        "id": "_5Kzx5MA1hEQ"
      }
    },
    {
      "cell_type": "code",
      "source": [
        "import torch.nn as nn\n",
        "from torchvision import models"
      ],
      "metadata": {
        "id": "cCByd48k-hPZ"
      },
      "execution_count": 34,
      "outputs": []
    },
    {
      "cell_type": "code",
      "source": [
        "efficient_net_model =  models.efficientnet_b0(weights=models.EfficientNet_B0_Weights.DEFAULT)"
      ],
      "metadata": {
        "id": "fsF-HW2iRM_Z"
      },
      "execution_count": 80,
      "outputs": []
    },
    {
      "cell_type": "markdown",
      "source": [
        "Necesitamos mantener los parámetros ya aprendidos por el modelo intactos, por lo cuál se **congelan** los gradientes mediante  `requires_grad = False` en cada parámetro del modelo."
      ],
      "metadata": {
        "id": "I5fzNwnC1UCc"
      }
    },
    {
      "cell_type": "code",
      "source": [
        "def freeze_model(base_model):\n",
        "  for param in base_model.parameters():\n",
        "    param.requires_grad = False\n",
        "  return base_model"
      ],
      "metadata": {
        "id": "JUuq3hkWT5FZ"
      },
      "execution_count": 81,
      "outputs": []
    },
    {
      "cell_type": "code",
      "source": [
        "efficient_net_model = freeze_model(efficient_net_model)"
      ],
      "metadata": {
        "id": "VesKU-jUUFMn"
      },
      "execution_count": 82,
      "outputs": []
    },
    {
      "cell_type": "markdown",
      "source": [
        "## Nuevo modelo con base EfficientNet B0"
      ],
      "metadata": {
        "id": "mY1S-A9b5EKn"
      }
    },
    {
      "cell_type": "markdown",
      "source": [
        "Definimos un nuevo modelo basado en el modelo de **EfficientNet B0**. Este nuevo modelo incorpora capas densas adicionales al final de **EfficientNet**, que producirán la salida necesaria para nuestra clasificación jerárquica.\n"
      ],
      "metadata": {
        "id": "7bB5yodc5T5G"
      }
    },
    {
      "cell_type": "markdown",
      "source": [
        "Necesitamos conocer la cantidad de `in_features` de la última capa de **EfficientNet** para que la nueva capa densa que añadiremos se conecte correctamente en términos de dimensiones."
      ],
      "metadata": {
        "id": "16gV9dIF3-3z"
      }
    },
    {
      "cell_type": "code",
      "source": [
        "efficient_net_model.classifier[1]"
      ],
      "metadata": {
        "colab": {
          "base_uri": "https://localhost:8080/"
        },
        "id": "dS0kj_CrEmDG",
        "outputId": "dcaaf342-a247-424f-e33a-802194395b4d"
      },
      "execution_count": 38,
      "outputs": [
        {
          "output_type": "execute_result",
          "data": {
            "text/plain": [
              "Linear(in_features=1280, out_features=1000, bias=True)"
            ]
          },
          "metadata": {},
          "execution_count": 38
        }
      ]
    },
    {
      "cell_type": "markdown",
      "source": [
        "La línea anterior accede a la segunda capa en el módulo `classifier` de EfficientNet. Esta capa es una capa `Linear` (totalmente conectada) que constituye la última capa del modelo original y define el número de entradas `in_features` y salidas `out_features` de la clasificación original en EfficientNet."
      ],
      "metadata": {
        "id": "oJpfEwTc4iQp"
      }
    },
    {
      "cell_type": "code",
      "source": [
        "import torch.nn.functional as F"
      ],
      "metadata": {
        "id": "ufWoj3jrg1k8"
      },
      "execution_count": 75,
      "outputs": []
    },
    {
      "cell_type": "code",
      "source": [
        "class HierarchicalEfficientNet(nn.Module):\n",
        "    def __init__(self, base_model):\n",
        "        super(HierarchicalEfficientNet, self).__init__()\n",
        "\n",
        "        # Reutilizar el modelo EfficientNet hasta antes de su última capa\n",
        "        self.base = nn.Sequential(*list(base_model.children())[:-1])\n",
        "\n",
        "        # Crear las capas de salida para cada conjunto de etiquetas\n",
        "        self.classifier_y = nn.Linear(1280, 100)       # Para y_train (100 clases)\n",
        "        self.classifier_y_c1 = nn.Linear(1280, 8)      # Para y_c1_train (8 clases)\n",
        "        self.classifier_y_c2 = nn.Linear(1280, 20)     # Para y_c2_train (20 clases)\n",
        "        self.droput = nn.Dropout(p=0.2)\n",
        "\n",
        "    def forward(self, x):\n",
        "        # Extraer características de EfficientNet\n",
        "        x = self.base(x)\n",
        "        x = torch.flatten(x, 1)\n",
        "\n",
        "        # Predicciones para cada etiqueta jerárquica\n",
        "        y_pred = self.classifier_y(x)\n",
        "        y_c1_pred = self.classifier_y_c1(x)\n",
        "        y_c2_pred = self.classifier_y_c2(x)\n",
        "\n",
        "        return y_pred, y_c1_pred, y_c2_pred\n"
      ],
      "metadata": {
        "id": "uD2SUF0d3169"
      },
      "execution_count": 36,
      "outputs": []
    },
    {
      "cell_type": "code",
      "source": [
        "class HierarchicalEfficientNet2(nn.Module):\n",
        "    def __init__(self, base_model, dropout):\n",
        "        super(HierarchicalEfficientNet2, self).__init__()\n",
        "\n",
        "        # Reutilizar el modelo EfficientNet hasta antes de su última capa\n",
        "        self.base = nn.Sequential(*list(base_model.children())[:-1])\n",
        "\n",
        "        # Crear las capas de salida para cada conjunto de etiquetas\n",
        "        self.fc_y1 = nn.Linear(1280, 600)\n",
        "        self.fc_y2 = nn.Linear(600, 100)    # Para y_train (100 clases)\n",
        "        self.fc_yc1_1 = nn.Linear(1280, 264)\n",
        "        self.fc_yc1_2 = nn.Linear(264, 8)      # Para y_c1_train (8 clases)\n",
        "        self.fc_yc2_1 = nn.Linear(1280, 264)\n",
        "        self.fc_yc2_2 = nn.Linear(264, 20)    # Para y_c2_train (20 clases)\n",
        "        self.dropout = nn.Dropout(dropout)\n",
        "\n",
        "    def forward(self, x):\n",
        "        # Extraer características de EfficientNet\n",
        "        x = self.base(x)\n",
        "        x = torch.flatten(x, 1)\n",
        "\n",
        "        # Predicciones para cada etiqueta jerárquica\n",
        "        y_pred = self.fc_y1(x)\n",
        "        y_pred = self.dropout(y_pred)\n",
        "        y_pred = self.fc_y2(y_pred)\n",
        "        y_pred = F.softmax(y_pred, dim=1)\n",
        "        y_c1_pred = self.fc_yc1_1(x)\n",
        "        y_c1_pred = self.dropout(y_c1_pred)\n",
        "        y_c1_pred = self.fc_yc1_2(y_c1_pred)\n",
        "        y_c1_pred = F.softmax(y_c1_pred, dim=1)\n",
        "        y_c2_pred = self.fc_yc2_1(x)\n",
        "        y_c2_pred = self.dropout(y_c2_pred)\n",
        "        y_c2_pred = self.fc_yc2_2(y_c2_pred)\n",
        "        y_c2_pred = F.softmax(y_c2_pred, dim=1)\n",
        "\n",
        "        return y_pred, y_c1_pred, y_c2_pred\n"
      ],
      "metadata": {
        "id": "HXEQOYxiuqUC"
      },
      "execution_count": 83,
      "outputs": []
    },
    {
      "cell_type": "code",
      "source": [
        "dropout = 0.2\n",
        "model_base_efficientnet2 = HierarchicalEfficientNet2(efficient_net_model,dropout )"
      ],
      "metadata": {
        "id": "M8UJiO0kvvoD"
      },
      "execution_count": 84,
      "outputs": []
    },
    {
      "cell_type": "code",
      "source": [
        "model_base_efficientnet = HierarchicalEfficientNet(efficient_net_model)"
      ],
      "metadata": {
        "id": "trhwSgr5-Ow3"
      },
      "execution_count": 37,
      "outputs": []
    },
    {
      "cell_type": "markdown",
      "source": [
        "# Entrenamiento"
      ],
      "metadata": {
        "id": "mv1sTZgpC2Wp"
      }
    },
    {
      "cell_type": "code",
      "source": [
        "from sklearn.metrics import precision_recall_fscore_support"
      ],
      "metadata": {
        "id": "Nt4rUN1p9si0"
      },
      "execution_count": 41,
      "outputs": []
    },
    {
      "cell_type": "markdown",
      "source": [
        "## Funciones para el entrenamiento"
      ],
      "metadata": {
        "id": "gIQBX-e_68RZ"
      }
    },
    {
      "cell_type": "code",
      "source": [
        "def training(model, optimizer, num_epochs, train_loader, val_loader, criterion_y, criterion_y_c1, criterion_y_c2, device):\n",
        "    # Mover el modelo al dispositivo\n",
        "    model.to(device)\n",
        "\n",
        "    # Inicializar listas para almacenar los valores de loss, accuracy, precision, recall y F1\n",
        "    train_losses, val_losses = [], []\n",
        "    train_accuracies_y, train_accuracies_y_c1, train_accuracies_y_c2 = [], [], []\n",
        "    val_accuracies_y, val_accuracies_y_c1, val_accuracies_y_c2 = [], [], []\n",
        "    val_precisions, val_recalls, val_f1_scores = [], [], []\n",
        "\n",
        "    for epoch in range(num_epochs):\n",
        "        model.train()\n",
        "        running_loss = 0.0\n",
        "        correct_y, correct_y_c1, correct_y_c2 = 0, 0, 0\n",
        "        total = 0\n",
        "\n",
        "        for batch in train_loader:\n",
        "            inputs, labels_y, labels_y_c1, labels_y_c2 = batch  # Desempaquetar el batch\n",
        "\n",
        "            # Mover los datos al dispositivo\n",
        "            inputs, labels_y, labels_y_c1, labels_y_c2 = inputs.to(device), labels_y.to(device), labels_y_c1.to(device), labels_y_c2.to(device)\n",
        "\n",
        "            optimizer.zero_grad()  # Limpiar los gradientes\n",
        "\n",
        "            # Hacer una pasada hacia adelante\n",
        "            outputs = model(inputs)\n",
        "\n",
        "            # Calcular las pérdidas\n",
        "            loss_y = criterion_y(outputs[0], labels_y)\n",
        "            loss_y_c1 = criterion_y_c1(outputs[1], labels_y_c1)\n",
        "            loss_y_c2 = criterion_y_c2(outputs[2], labels_y_c2)\n",
        "            loss = loss_y + loss_y_c1 + loss_y_c2\n",
        "            loss.backward()  # Retropropagación\n",
        "            optimizer.step()  # Actualizar los pesos\n",
        "\n",
        "            running_loss += loss.item()\n",
        "\n",
        "            # Obtener las predicciones\n",
        "            _, predicted_y = torch.max(outputs[0].data, 1)\n",
        "            _, predicted_y_c1 = torch.max(outputs[1].data, 1)\n",
        "            _, predicted_y_c2 = torch.max(outputs[2].data, 1)\n",
        "\n",
        "            # Convertir labels a índices de clases\n",
        "            labels_y = torch.argmax(labels_y, dim=1).to(device)\n",
        "            labels_y_c1 = torch.argmax(labels_y_c1, dim=1).to(device)\n",
        "            labels_y_c2 = torch.argmax(labels_y_c2, dim=1).to(device)\n",
        "\n",
        "            total += labels_y.size(0)\n",
        "            correct_y += (predicted_y == labels_y).sum().item()\n",
        "            correct_y_c1 += (predicted_y_c1 == labels_y_c1).sum().item()\n",
        "            correct_y_c2 += (predicted_y_c2 == labels_y_c2).sum().item()\n",
        "\n",
        "        # Calcular y almacenar el loss y accuracy promedio para el entrenamiento\n",
        "        avg_train_loss = running_loss / len(train_loader)\n",
        "        avg_train_accuracy_y = 100 * correct_y / total\n",
        "        avg_train_accuracy_y_c1 = 100 * correct_y_c1 / total\n",
        "        avg_train_accuracy_y_c2 = 100 * correct_y_c2 / total\n",
        "        train_losses.append(avg_train_loss)\n",
        "        train_accuracies_y.append(avg_train_accuracy_y)\n",
        "        train_accuracies_y_c1.append(avg_train_accuracy_y_c1)\n",
        "        train_accuracies_y_c2.append(avg_train_accuracy_y_c2)\n",
        "\n",
        "        # Evaluar el modelo en el conjunto de validación\n",
        "        model.eval()\n",
        "        val_running_loss = 0.0\n",
        "        val_correct_y, val_correct_y_c1, val_correct_y_c2 = 0, 0, 0\n",
        "        val_total = 0\n",
        "        val_all_preds_y, val_all_labels_y = [], []\n",
        "        val_all_preds_y_c1, val_all_labels_y_c1 = [], []\n",
        "        val_all_preds_y_c2, val_all_labels_y_c2 = [], []\n",
        "\n",
        "        with torch.no_grad():\n",
        "            for val_batch in val_loader:\n",
        "                val_inputs, val_labels_y, val_labels_y_c1, val_labels_y_c2 = val_batch\n",
        "\n",
        "                # Mover los datos de validación al dispositivo\n",
        "                val_inputs, val_labels_y, val_labels_y_c1, val_labels_y_c2 = val_inputs.to(device), val_labels_y.to(device), val_labels_y_c1.to(device), val_labels_y_c2.to(device)\n",
        "\n",
        "                val_outputs = model(val_inputs)\n",
        "\n",
        "                # Calcular las pérdidas\n",
        "                val_loss_y = criterion_y(val_outputs[0], val_labels_y)\n",
        "                val_loss_y_c1 = criterion_y_c1(val_outputs[1], val_labels_y_c1)\n",
        "                val_loss_y_c2 = criterion_y_c2(val_outputs[2], val_labels_y_c2)\n",
        "                val_loss = val_loss_y + val_loss_y_c1 + val_loss_y_c2\n",
        "                val_running_loss += val_loss.item()\n",
        "\n",
        "                # Obtener las predicciones de validación\n",
        "                _, val_predicted_y = torch.max(val_outputs[0].data, 1)\n",
        "                _, val_predicted_y_c1 = torch.max(val_outputs[1].data, 1)\n",
        "                _, val_predicted_y_c2 = torch.max(val_outputs[2].data, 1)\n",
        "\n",
        "                # Convertir labels a índices de clases\n",
        "                val_labels_y = torch.argmax(val_labels_y, dim=1).to(device)\n",
        "                val_labels_y_c1 = torch.argmax(val_labels_y_c1, dim=1).to(device)\n",
        "                val_labels_y_c2 = torch.argmax(val_labels_y_c2, dim=1).to(device)\n",
        "\n",
        "                val_total += val_labels_y.size(0)\n",
        "                val_correct_y += (val_predicted_y == val_labels_y).sum().item()\n",
        "                val_correct_y_c1 += (val_predicted_y_c1 == val_labels_y_c1).sum().item()\n",
        "                val_correct_y_c2 += (val_predicted_y_c2 == val_labels_y_c2).sum().item()\n",
        "\n",
        "                # Almacenar todas las predicciones y etiquetas de validación\n",
        "                val_all_preds_y.extend(val_predicted_y.cpu().numpy())\n",
        "                val_all_labels_y.extend(val_labels_y.cpu().numpy())\n",
        "                val_all_preds_y_c1.extend(val_predicted_y_c1.cpu().numpy())\n",
        "                val_all_labels_y_c1.extend(val_labels_y_c1.cpu().numpy())\n",
        "                val_all_preds_y_c2.extend(val_predicted_y_c2.cpu().numpy())\n",
        "                val_all_labels_y_c2.extend(val_labels_y_c2.cpu().numpy())\n",
        "\n",
        "        # Calcular y almacenar el loss y accuracy promedio para la validación\n",
        "        avg_val_loss = val_running_loss / len(val_loader)\n",
        "        avg_val_accuracy_y = 100 * val_correct_y / val_total\n",
        "        avg_val_accuracy_y_c1 = 100 * val_correct_y_c1 / val_total\n",
        "        avg_val_accuracy_y_c2 = 100 * val_correct_y_c2 / val_total\n",
        "        val_losses.append(avg_val_loss)\n",
        "        val_accuracies_y.append(avg_val_accuracy_y)\n",
        "        val_accuracies_y_c1.append(avg_val_accuracy_y_c1)\n",
        "        val_accuracies_y_c2.append(avg_val_accuracy_y_c2)\n",
        "\n",
        "        # Calcular precisión, recall, F1 y soporte para cada nivel\n",
        "        precision_y, recall_y, f1_y, _ = precision_recall_fscore_support(val_all_labels_y, val_all_preds_y, average='weighted')\n",
        "        precision_y_c1, recall_y_c1, f1_y_c1, _ = precision_recall_fscore_support(val_all_labels_y_c1, val_all_preds_y_c1, average='weighted')\n",
        "        precision_y_c2, recall_y_c2, f1_y_c2, _ = precision_recall_fscore_support(val_all_labels_y_c2, val_all_preds_y_c2, average='weighted')\n",
        "        val_precisions.append((precision_y, precision_y_c1, precision_y_c2))\n",
        "        val_recalls.append((recall_y, recall_y_c1, recall_y_c2))\n",
        "        val_f1_scores.append((f1_y, f1_y_c1, f1_y_c2))\n",
        "\n",
        "        # Imprimir resultados finales de la época\n",
        "        print(f'\\nEpoch [{epoch+1}/{num_epochs}] Training Loss: {avg_train_loss:.4f}, Accuracies Y/C1/C2: {avg_train_accuracy_y:.2f}%, {avg_train_accuracy_y_c1:.2f}%, {avg_train_accuracy_y_c2:.2f}%'\n",
        "              f' | Validation Loss: {avg_val_loss:.4f}, Accuracies Y/C1/C2: {avg_val_accuracy_y:.2f}%, {avg_val_accuracy_y_c1:.2f}%, {avg_val_accuracy_y_c2:.2f}%\\n')\n",
        "\n",
        "    # Graficar los resultados\n",
        "    plt.figure(figsize=(12, 5))\n",
        "\n",
        "    # Gráfico de pérdidas\n",
        "    plt.subplot(1, 2, 1)\n",
        "    plt.plot(train_losses, label='Training Loss')\n",
        "    plt.plot(val_losses, label='Validation Loss')\n",
        "    plt.title('Loss vs Epochs')\n",
        "    plt.xlabel('Epochs')\n",
        "    plt.ylabel('Loss')\n",
        "    plt.legend()\n",
        "\n",
        "    # Gráfico de accuracies de cada nivel\n",
        "    plt.subplot(1, 2, 2)\n",
        "    plt.plot(train_accuracies_y, label='Training Accuracy Y')\n",
        "    plt.plot(train_accuracies_y_c1, label='Training Accuracy Y_c1')\n",
        "    plt.plot(train_accuracies_y_c2, label='Training Accuracy Y_c2')\n",
        "    plt.plot(val_accuracies_y, label='Validation Accuracy Y')\n",
        "    plt.plot(val_accuracies_y_c1, label='Validation Accuracy Y_c1')\n",
        "    plt.plot(val_accuracies_y_c2, label='Validation Accuracy Y_c2')\n",
        "    plt.title('Accuracy vs Epochs')\n",
        "    plt.xlabel('Epochs')\n",
        "    plt.ylabel('Accuracy')\n",
        "    plt.legend()\n",
        "\n",
        "    plt.show()\n",
        "\n",
        "    return train_losses, val_losses, train_accuracies_y, train_accuracies_y_c1, train_accuracies_y_c2, val_accuracies_y, val_accuracies_y_c1, val_accuracies_y_c2, val_precisions, val_recalls, val_f1_scores\n",
        "\n"
      ],
      "metadata": {
        "id": "5X4aUbnnTkke"
      },
      "execution_count": 70,
      "outputs": []
    },
    {
      "cell_type": "code",
      "source": [
        "model_base_efficientnet = HierarchicalEfficientNet(efficient_net_model)"
      ],
      "metadata": {
        "id": "2uheyA1xyqTj"
      },
      "execution_count": 77,
      "outputs": []
    },
    {
      "cell_type": "code",
      "source": [
        "learning_rate = 0.001\n",
        "num_epochs = 100\n",
        "batch_size = 164\n",
        "train_loader = DataLoader(train_dataset, batch_size=batch_size, shuffle=True)\n",
        "val_loader = DataLoader(val_dataset, batch_size=batch_size, shuffle=False)"
      ],
      "metadata": {
        "id": "DUR0UkYq98-e"
      },
      "execution_count": 85,
      "outputs": []
    },
    {
      "cell_type": "code",
      "source": [
        "criterion_y = nn.CrossEntropyLoss()\n",
        "criterion_y_c1 = nn.CrossEntropyLoss(weight=class_weights_tensor_c1)\n",
        "criterion_y_c2 = nn.CrossEntropyLoss()\n",
        "optimizer = torch.optim.Adam(model_base_efficientnet2.parameters(), lr=learning_rate)"
      ],
      "metadata": {
        "id": "gti2CmzBSZdT"
      },
      "execution_count": 86,
      "outputs": []
    },
    {
      "cell_type": "code",
      "source": [
        "train_losses, val_losses, train_accuracies_y, train_accuracies_y_c1, train_accuracies_y_c2, val_accuracies_y, val_accuracies_y_c1, val_accuracies_y_c2, val_precisions, val_recalls, val_f1_scores, val_supports  = training(model_base_efficientnet2, optimizer, num_epochs, train_loader, val_loader, criterion_y, criterion_y_c1, criterion_y_c2, device)"
      ],
      "metadata": {
        "colab": {
          "base_uri": "https://localhost:8080/",
          "height": 1000
        },
        "id": "BeXdMn__-XaR",
        "outputId": "7c8c0ba8-b87a-42da-b260-c59a18a892e5"
      },
      "execution_count": 87,
      "outputs": [
        {
          "output_type": "stream",
          "name": "stderr",
          "text": [
            "/usr/local/lib/python3.10/dist-packages/sklearn/metrics/_classification.py:1531: UndefinedMetricWarning: Precision is ill-defined and being set to 0.0 in labels with no predicted samples. Use `zero_division` parameter to control this behavior.\n",
            "  _warn_prf(average, modifier, f\"{metric.capitalize()} is\", len(result))\n"
          ]
        },
        {
          "output_type": "stream",
          "name": "stdout",
          "text": [
            "\n",
            "Epoch [1/100] Training Loss: 9.2920, Accuracies Y/C1/C2: 9.56%, 36.18%, 22.69% | Validation Loss: 9.1789, Accuracies Y/C1/C2: 12.91%, 38.48%, 26.56%\n",
            "\n"
          ]
        },
        {
          "output_type": "stream",
          "name": "stderr",
          "text": [
            "/usr/local/lib/python3.10/dist-packages/sklearn/metrics/_classification.py:1531: UndefinedMetricWarning: Precision is ill-defined and being set to 0.0 in labels with no predicted samples. Use `zero_division` parameter to control this behavior.\n",
            "  _warn_prf(average, modifier, f\"{metric.capitalize()} is\", len(result))\n"
          ]
        },
        {
          "output_type": "stream",
          "name": "stdout",
          "text": [
            "\n",
            "Epoch [2/100] Training Loss: 9.1608, Accuracies Y/C1/C2: 13.56%, 38.59%, 27.12% | Validation Loss: 9.1546, Accuracies Y/C1/C2: 13.21%, 39.35%, 27.28%\n",
            "\n"
          ]
        },
        {
          "output_type": "stream",
          "name": "stderr",
          "text": [
            "/usr/local/lib/python3.10/dist-packages/sklearn/metrics/_classification.py:1531: UndefinedMetricWarning: Precision is ill-defined and being set to 0.0 in labels with no predicted samples. Use `zero_division` parameter to control this behavior.\n",
            "  _warn_prf(average, modifier, f\"{metric.capitalize()} is\", len(result))\n"
          ]
        },
        {
          "output_type": "stream",
          "name": "stdout",
          "text": [
            "\n",
            "Epoch [3/100] Training Loss: 9.1386, Accuracies Y/C1/C2: 14.56%, 38.85%, 27.83% | Validation Loss: 9.1358, Accuracies Y/C1/C2: 14.13%, 39.38%, 27.80%\n",
            "\n"
          ]
        },
        {
          "output_type": "stream",
          "name": "stderr",
          "text": [
            "/usr/local/lib/python3.10/dist-packages/sklearn/metrics/_classification.py:1531: UndefinedMetricWarning: Precision is ill-defined and being set to 0.0 in labels with no predicted samples. Use `zero_division` parameter to control this behavior.\n",
            "  _warn_prf(average, modifier, f\"{metric.capitalize()} is\", len(result))\n"
          ]
        },
        {
          "output_type": "stream",
          "name": "stdout",
          "text": [
            "\n",
            "Epoch [4/100] Training Loss: 9.1159, Accuracies Y/C1/C2: 15.51%, 39.07%, 28.66% | Validation Loss: 9.1363, Accuracies Y/C1/C2: 14.39%, 40.07%, 27.89%\n",
            "\n"
          ]
        },
        {
          "output_type": "stream",
          "name": "stderr",
          "text": [
            "/usr/local/lib/python3.10/dist-packages/sklearn/metrics/_classification.py:1531: UndefinedMetricWarning: Precision is ill-defined and being set to 0.0 in labels with no predicted samples. Use `zero_division` parameter to control this behavior.\n",
            "  _warn_prf(average, modifier, f\"{metric.capitalize()} is\", len(result))\n"
          ]
        },
        {
          "output_type": "stream",
          "name": "stdout",
          "text": [
            "\n",
            "Epoch [5/100] Training Loss: 9.1137, Accuracies Y/C1/C2: 15.90%, 39.09%, 28.54% | Validation Loss: 9.1353, Accuracies Y/C1/C2: 14.98%, 39.25%, 27.51%\n",
            "\n"
          ]
        },
        {
          "output_type": "stream",
          "name": "stderr",
          "text": [
            "/usr/local/lib/python3.10/dist-packages/sklearn/metrics/_classification.py:1531: UndefinedMetricWarning: Precision is ill-defined and being set to 0.0 in labels with no predicted samples. Use `zero_division` parameter to control this behavior.\n",
            "  _warn_prf(average, modifier, f\"{metric.capitalize()} is\", len(result))\n"
          ]
        },
        {
          "output_type": "stream",
          "name": "stdout",
          "text": [
            "\n",
            "Epoch [6/100] Training Loss: 9.1061, Accuracies Y/C1/C2: 15.95%, 39.29%, 28.93% | Validation Loss: 9.1256, Accuracies Y/C1/C2: 15.01%, 39.47%, 27.50%\n",
            "\n"
          ]
        },
        {
          "output_type": "stream",
          "name": "stderr",
          "text": [
            "/usr/local/lib/python3.10/dist-packages/sklearn/metrics/_classification.py:1531: UndefinedMetricWarning: Precision is ill-defined and being set to 0.0 in labels with no predicted samples. Use `zero_division` parameter to control this behavior.\n",
            "  _warn_prf(average, modifier, f\"{metric.capitalize()} is\", len(result))\n"
          ]
        },
        {
          "output_type": "stream",
          "name": "stdout",
          "text": [
            "\n",
            "Epoch [7/100] Training Loss: 9.0982, Accuracies Y/C1/C2: 16.37%, 39.62%, 28.98% | Validation Loss: 9.1333, Accuracies Y/C1/C2: 14.86%, 39.02%, 27.86%\n",
            "\n"
          ]
        },
        {
          "output_type": "stream",
          "name": "stderr",
          "text": [
            "/usr/local/lib/python3.10/dist-packages/sklearn/metrics/_classification.py:1531: UndefinedMetricWarning: Precision is ill-defined and being set to 0.0 in labels with no predicted samples. Use `zero_division` parameter to control this behavior.\n",
            "  _warn_prf(average, modifier, f\"{metric.capitalize()} is\", len(result))\n"
          ]
        },
        {
          "output_type": "stream",
          "name": "stdout",
          "text": [
            "\n",
            "Epoch [8/100] Training Loss: 9.0962, Accuracies Y/C1/C2: 16.48%, 39.49%, 29.51% | Validation Loss: 9.1303, Accuracies Y/C1/C2: 14.84%, 40.18%, 27.72%\n",
            "\n"
          ]
        },
        {
          "output_type": "stream",
          "name": "stderr",
          "text": [
            "/usr/local/lib/python3.10/dist-packages/sklearn/metrics/_classification.py:1531: UndefinedMetricWarning: Precision is ill-defined and being set to 0.0 in labels with no predicted samples. Use `zero_division` parameter to control this behavior.\n",
            "  _warn_prf(average, modifier, f\"{metric.capitalize()} is\", len(result))\n"
          ]
        },
        {
          "output_type": "stream",
          "name": "stdout",
          "text": [
            "\n",
            "Epoch [9/100] Training Loss: 9.0883, Accuracies Y/C1/C2: 16.97%, 39.37%, 29.64% | Validation Loss: 9.1236, Accuracies Y/C1/C2: 15.10%, 38.78%, 28.06%\n",
            "\n"
          ]
        },
        {
          "output_type": "stream",
          "name": "stderr",
          "text": [
            "/usr/local/lib/python3.10/dist-packages/sklearn/metrics/_classification.py:1531: UndefinedMetricWarning: Precision is ill-defined and being set to 0.0 in labels with no predicted samples. Use `zero_division` parameter to control this behavior.\n",
            "  _warn_prf(average, modifier, f\"{metric.capitalize()} is\", len(result))\n"
          ]
        },
        {
          "output_type": "stream",
          "name": "stdout",
          "text": [
            "\n",
            "Epoch [10/100] Training Loss: 9.0887, Accuracies Y/C1/C2: 17.01%, 39.74%, 29.41% | Validation Loss: 9.1347, Accuracies Y/C1/C2: 14.68%, 39.91%, 28.26%\n",
            "\n"
          ]
        },
        {
          "output_type": "stream",
          "name": "stderr",
          "text": [
            "/usr/local/lib/python3.10/dist-packages/sklearn/metrics/_classification.py:1531: UndefinedMetricWarning: Precision is ill-defined and being set to 0.0 in labels with no predicted samples. Use `zero_division` parameter to control this behavior.\n",
            "  _warn_prf(average, modifier, f\"{metric.capitalize()} is\", len(result))\n"
          ]
        },
        {
          "output_type": "stream",
          "name": "stdout",
          "text": [
            "\n",
            "Epoch [11/100] Training Loss: 9.0854, Accuracies Y/C1/C2: 17.30%, 39.80%, 29.62% | Validation Loss: 9.1256, Accuracies Y/C1/C2: 15.15%, 39.23%, 27.69%\n",
            "\n"
          ]
        },
        {
          "output_type": "stream",
          "name": "stderr",
          "text": [
            "/usr/local/lib/python3.10/dist-packages/sklearn/metrics/_classification.py:1531: UndefinedMetricWarning: Precision is ill-defined and being set to 0.0 in labels with no predicted samples. Use `zero_division` parameter to control this behavior.\n",
            "  _warn_prf(average, modifier, f\"{metric.capitalize()} is\", len(result))\n"
          ]
        },
        {
          "output_type": "stream",
          "name": "stdout",
          "text": [
            "\n",
            "Epoch [12/100] Training Loss: 9.0803, Accuracies Y/C1/C2: 17.33%, 39.49%, 29.89% | Validation Loss: 9.1189, Accuracies Y/C1/C2: 15.46%, 39.64%, 28.13%\n",
            "\n"
          ]
        },
        {
          "output_type": "stream",
          "name": "stderr",
          "text": [
            "/usr/local/lib/python3.10/dist-packages/sklearn/metrics/_classification.py:1531: UndefinedMetricWarning: Precision is ill-defined and being set to 0.0 in labels with no predicted samples. Use `zero_division` parameter to control this behavior.\n",
            "  _warn_prf(average, modifier, f\"{metric.capitalize()} is\", len(result))\n"
          ]
        },
        {
          "output_type": "stream",
          "name": "stdout",
          "text": [
            "\n",
            "Epoch [13/100] Training Loss: 9.0735, Accuracies Y/C1/C2: 17.34%, 40.17%, 30.11% | Validation Loss: 9.1230, Accuracies Y/C1/C2: 15.21%, 39.94%, 28.12%\n",
            "\n"
          ]
        },
        {
          "output_type": "stream",
          "name": "stderr",
          "text": [
            "/usr/local/lib/python3.10/dist-packages/sklearn/metrics/_classification.py:1531: UndefinedMetricWarning: Precision is ill-defined and being set to 0.0 in labels with no predicted samples. Use `zero_division` parameter to control this behavior.\n",
            "  _warn_prf(average, modifier, f\"{metric.capitalize()} is\", len(result))\n"
          ]
        },
        {
          "output_type": "stream",
          "name": "stdout",
          "text": [
            "\n",
            "Epoch [14/100] Training Loss: 9.0813, Accuracies Y/C1/C2: 17.00%, 40.53%, 29.63% | Validation Loss: 9.1261, Accuracies Y/C1/C2: 15.19%, 39.59%, 28.03%\n",
            "\n"
          ]
        },
        {
          "output_type": "stream",
          "name": "stderr",
          "text": [
            "/usr/local/lib/python3.10/dist-packages/sklearn/metrics/_classification.py:1531: UndefinedMetricWarning: Precision is ill-defined and being set to 0.0 in labels with no predicted samples. Use `zero_division` parameter to control this behavior.\n",
            "  _warn_prf(average, modifier, f\"{metric.capitalize()} is\", len(result))\n"
          ]
        },
        {
          "output_type": "stream",
          "name": "stdout",
          "text": [
            "\n",
            "Epoch [15/100] Training Loss: 9.0791, Accuracies Y/C1/C2: 17.39%, 39.30%, 29.90% | Validation Loss: 9.1177, Accuracies Y/C1/C2: 15.04%, 38.80%, 28.56%\n",
            "\n"
          ]
        },
        {
          "output_type": "error",
          "ename": "KeyboardInterrupt",
          "evalue": "",
          "traceback": [
            "\u001b[0;31m---------------------------------------------------------------------------\u001b[0m",
            "\u001b[0;31mKeyboardInterrupt\u001b[0m                         Traceback (most recent call last)",
            "\u001b[0;32m<ipython-input-87-db0aede4cfd1>\u001b[0m in \u001b[0;36m<cell line: 1>\u001b[0;34m()\u001b[0m\n\u001b[0;32m----> 1\u001b[0;31m \u001b[0mtrain_losses\u001b[0m\u001b[0;34m,\u001b[0m \u001b[0mval_losses\u001b[0m\u001b[0;34m,\u001b[0m \u001b[0mtrain_accuracies_y\u001b[0m\u001b[0;34m,\u001b[0m \u001b[0mtrain_accuracies_y_c1\u001b[0m\u001b[0;34m,\u001b[0m \u001b[0mtrain_accuracies_y_c2\u001b[0m\u001b[0;34m,\u001b[0m \u001b[0mval_accuracies_y\u001b[0m\u001b[0;34m,\u001b[0m \u001b[0mval_accuracies_y_c1\u001b[0m\u001b[0;34m,\u001b[0m \u001b[0mval_accuracies_y_c2\u001b[0m\u001b[0;34m,\u001b[0m \u001b[0mval_precisions\u001b[0m\u001b[0;34m,\u001b[0m \u001b[0mval_recalls\u001b[0m\u001b[0;34m,\u001b[0m \u001b[0mval_f1_scores\u001b[0m\u001b[0;34m,\u001b[0m \u001b[0mval_supports\u001b[0m  \u001b[0;34m=\u001b[0m \u001b[0mtraining\u001b[0m\u001b[0;34m(\u001b[0m\u001b[0mmodel_base_efficientnet2\u001b[0m\u001b[0;34m,\u001b[0m \u001b[0moptimizer\u001b[0m\u001b[0;34m,\u001b[0m \u001b[0mnum_epochs\u001b[0m\u001b[0;34m,\u001b[0m \u001b[0mtrain_loader\u001b[0m\u001b[0;34m,\u001b[0m \u001b[0mval_loader\u001b[0m\u001b[0;34m,\u001b[0m \u001b[0mcriterion_y\u001b[0m\u001b[0;34m,\u001b[0m \u001b[0mcriterion_y_c1\u001b[0m\u001b[0;34m,\u001b[0m \u001b[0mcriterion_y_c2\u001b[0m\u001b[0;34m,\u001b[0m \u001b[0mdevice\u001b[0m\u001b[0;34m)\u001b[0m\u001b[0;34m\u001b[0m\u001b[0;34m\u001b[0m\u001b[0m\n\u001b[0m",
            "\u001b[0;32m<ipython-input-70-a924759e1d6d>\u001b[0m in \u001b[0;36mtraining\u001b[0;34m(model, optimizer, num_epochs, train_loader, val_loader, criterion_y, criterion_y_c1, criterion_y_c2, device)\u001b[0m\n\u001b[1;32m     24\u001b[0m \u001b[0;34m\u001b[0m\u001b[0m\n\u001b[1;32m     25\u001b[0m             \u001b[0;31m# Hacer una pasada hacia adelante\u001b[0m\u001b[0;34m\u001b[0m\u001b[0;34m\u001b[0m\u001b[0m\n\u001b[0;32m---> 26\u001b[0;31m             \u001b[0moutputs\u001b[0m \u001b[0;34m=\u001b[0m \u001b[0mmodel\u001b[0m\u001b[0;34m(\u001b[0m\u001b[0minputs\u001b[0m\u001b[0;34m)\u001b[0m\u001b[0;34m\u001b[0m\u001b[0;34m\u001b[0m\u001b[0m\n\u001b[0m\u001b[1;32m     27\u001b[0m \u001b[0;34m\u001b[0m\u001b[0m\n\u001b[1;32m     28\u001b[0m             \u001b[0;31m# Calcular las pérdidas\u001b[0m\u001b[0;34m\u001b[0m\u001b[0;34m\u001b[0m\u001b[0m\n",
            "\u001b[0;32m/usr/local/lib/python3.10/dist-packages/torch/nn/modules/module.py\u001b[0m in \u001b[0;36m_wrapped_call_impl\u001b[0;34m(self, *args, **kwargs)\u001b[0m\n\u001b[1;32m   1551\u001b[0m             \u001b[0;32mreturn\u001b[0m \u001b[0mself\u001b[0m\u001b[0;34m.\u001b[0m\u001b[0m_compiled_call_impl\u001b[0m\u001b[0;34m(\u001b[0m\u001b[0;34m*\u001b[0m\u001b[0margs\u001b[0m\u001b[0;34m,\u001b[0m \u001b[0;34m**\u001b[0m\u001b[0mkwargs\u001b[0m\u001b[0;34m)\u001b[0m  \u001b[0;31m# type: ignore[misc]\u001b[0m\u001b[0;34m\u001b[0m\u001b[0;34m\u001b[0m\u001b[0m\n\u001b[1;32m   1552\u001b[0m         \u001b[0;32melse\u001b[0m\u001b[0;34m:\u001b[0m\u001b[0;34m\u001b[0m\u001b[0;34m\u001b[0m\u001b[0m\n\u001b[0;32m-> 1553\u001b[0;31m             \u001b[0;32mreturn\u001b[0m \u001b[0mself\u001b[0m\u001b[0;34m.\u001b[0m\u001b[0m_call_impl\u001b[0m\u001b[0;34m(\u001b[0m\u001b[0;34m*\u001b[0m\u001b[0margs\u001b[0m\u001b[0;34m,\u001b[0m \u001b[0;34m**\u001b[0m\u001b[0mkwargs\u001b[0m\u001b[0;34m)\u001b[0m\u001b[0;34m\u001b[0m\u001b[0;34m\u001b[0m\u001b[0m\n\u001b[0m\u001b[1;32m   1554\u001b[0m \u001b[0;34m\u001b[0m\u001b[0m\n\u001b[1;32m   1555\u001b[0m     \u001b[0;32mdef\u001b[0m \u001b[0m_call_impl\u001b[0m\u001b[0;34m(\u001b[0m\u001b[0mself\u001b[0m\u001b[0;34m,\u001b[0m \u001b[0;34m*\u001b[0m\u001b[0margs\u001b[0m\u001b[0;34m,\u001b[0m \u001b[0;34m**\u001b[0m\u001b[0mkwargs\u001b[0m\u001b[0;34m)\u001b[0m\u001b[0;34m:\u001b[0m\u001b[0;34m\u001b[0m\u001b[0;34m\u001b[0m\u001b[0m\n",
            "\u001b[0;32m/usr/local/lib/python3.10/dist-packages/torch/nn/modules/module.py\u001b[0m in \u001b[0;36m_call_impl\u001b[0;34m(self, *args, **kwargs)\u001b[0m\n\u001b[1;32m   1560\u001b[0m                 \u001b[0;32mor\u001b[0m \u001b[0m_global_backward_pre_hooks\u001b[0m \u001b[0;32mor\u001b[0m \u001b[0m_global_backward_hooks\u001b[0m\u001b[0;34m\u001b[0m\u001b[0;34m\u001b[0m\u001b[0m\n\u001b[1;32m   1561\u001b[0m                 or _global_forward_hooks or _global_forward_pre_hooks):\n\u001b[0;32m-> 1562\u001b[0;31m             \u001b[0;32mreturn\u001b[0m \u001b[0mforward_call\u001b[0m\u001b[0;34m(\u001b[0m\u001b[0;34m*\u001b[0m\u001b[0margs\u001b[0m\u001b[0;34m,\u001b[0m \u001b[0;34m**\u001b[0m\u001b[0mkwargs\u001b[0m\u001b[0;34m)\u001b[0m\u001b[0;34m\u001b[0m\u001b[0;34m\u001b[0m\u001b[0m\n\u001b[0m\u001b[1;32m   1563\u001b[0m \u001b[0;34m\u001b[0m\u001b[0m\n\u001b[1;32m   1564\u001b[0m         \u001b[0;32mtry\u001b[0m\u001b[0;34m:\u001b[0m\u001b[0;34m\u001b[0m\u001b[0;34m\u001b[0m\u001b[0m\n",
            "\u001b[0;32m<ipython-input-83-c2968cb71208>\u001b[0m in \u001b[0;36mforward\u001b[0;34m(self, x)\u001b[0m\n\u001b[1;32m     17\u001b[0m     \u001b[0;32mdef\u001b[0m \u001b[0mforward\u001b[0m\u001b[0;34m(\u001b[0m\u001b[0mself\u001b[0m\u001b[0;34m,\u001b[0m \u001b[0mx\u001b[0m\u001b[0;34m)\u001b[0m\u001b[0;34m:\u001b[0m\u001b[0;34m\u001b[0m\u001b[0;34m\u001b[0m\u001b[0m\n\u001b[1;32m     18\u001b[0m         \u001b[0;31m# Extraer características de EfficientNet\u001b[0m\u001b[0;34m\u001b[0m\u001b[0;34m\u001b[0m\u001b[0m\n\u001b[0;32m---> 19\u001b[0;31m         \u001b[0mx\u001b[0m \u001b[0;34m=\u001b[0m \u001b[0mself\u001b[0m\u001b[0;34m.\u001b[0m\u001b[0mbase\u001b[0m\u001b[0;34m(\u001b[0m\u001b[0mx\u001b[0m\u001b[0;34m)\u001b[0m\u001b[0;34m\u001b[0m\u001b[0;34m\u001b[0m\u001b[0m\n\u001b[0m\u001b[1;32m     20\u001b[0m         \u001b[0mx\u001b[0m \u001b[0;34m=\u001b[0m \u001b[0mtorch\u001b[0m\u001b[0;34m.\u001b[0m\u001b[0mflatten\u001b[0m\u001b[0;34m(\u001b[0m\u001b[0mx\u001b[0m\u001b[0;34m,\u001b[0m \u001b[0;36m1\u001b[0m\u001b[0;34m)\u001b[0m\u001b[0;34m\u001b[0m\u001b[0;34m\u001b[0m\u001b[0m\n\u001b[1;32m     21\u001b[0m \u001b[0;34m\u001b[0m\u001b[0m\n",
            "\u001b[0;32m/usr/local/lib/python3.10/dist-packages/torch/nn/modules/module.py\u001b[0m in \u001b[0;36m_wrapped_call_impl\u001b[0;34m(self, *args, **kwargs)\u001b[0m\n\u001b[1;32m   1551\u001b[0m             \u001b[0;32mreturn\u001b[0m \u001b[0mself\u001b[0m\u001b[0;34m.\u001b[0m\u001b[0m_compiled_call_impl\u001b[0m\u001b[0;34m(\u001b[0m\u001b[0;34m*\u001b[0m\u001b[0margs\u001b[0m\u001b[0;34m,\u001b[0m \u001b[0;34m**\u001b[0m\u001b[0mkwargs\u001b[0m\u001b[0;34m)\u001b[0m  \u001b[0;31m# type: ignore[misc]\u001b[0m\u001b[0;34m\u001b[0m\u001b[0;34m\u001b[0m\u001b[0m\n\u001b[1;32m   1552\u001b[0m         \u001b[0;32melse\u001b[0m\u001b[0;34m:\u001b[0m\u001b[0;34m\u001b[0m\u001b[0;34m\u001b[0m\u001b[0m\n\u001b[0;32m-> 1553\u001b[0;31m             \u001b[0;32mreturn\u001b[0m \u001b[0mself\u001b[0m\u001b[0;34m.\u001b[0m\u001b[0m_call_impl\u001b[0m\u001b[0;34m(\u001b[0m\u001b[0;34m*\u001b[0m\u001b[0margs\u001b[0m\u001b[0;34m,\u001b[0m \u001b[0;34m**\u001b[0m\u001b[0mkwargs\u001b[0m\u001b[0;34m)\u001b[0m\u001b[0;34m\u001b[0m\u001b[0;34m\u001b[0m\u001b[0m\n\u001b[0m\u001b[1;32m   1554\u001b[0m \u001b[0;34m\u001b[0m\u001b[0m\n\u001b[1;32m   1555\u001b[0m     \u001b[0;32mdef\u001b[0m \u001b[0m_call_impl\u001b[0m\u001b[0;34m(\u001b[0m\u001b[0mself\u001b[0m\u001b[0;34m,\u001b[0m \u001b[0;34m*\u001b[0m\u001b[0margs\u001b[0m\u001b[0;34m,\u001b[0m \u001b[0;34m**\u001b[0m\u001b[0mkwargs\u001b[0m\u001b[0;34m)\u001b[0m\u001b[0;34m:\u001b[0m\u001b[0;34m\u001b[0m\u001b[0;34m\u001b[0m\u001b[0m\n",
            "\u001b[0;32m/usr/local/lib/python3.10/dist-packages/torch/nn/modules/module.py\u001b[0m in \u001b[0;36m_call_impl\u001b[0;34m(self, *args, **kwargs)\u001b[0m\n\u001b[1;32m   1560\u001b[0m                 \u001b[0;32mor\u001b[0m \u001b[0m_global_backward_pre_hooks\u001b[0m \u001b[0;32mor\u001b[0m \u001b[0m_global_backward_hooks\u001b[0m\u001b[0;34m\u001b[0m\u001b[0;34m\u001b[0m\u001b[0m\n\u001b[1;32m   1561\u001b[0m                 or _global_forward_hooks or _global_forward_pre_hooks):\n\u001b[0;32m-> 1562\u001b[0;31m             \u001b[0;32mreturn\u001b[0m \u001b[0mforward_call\u001b[0m\u001b[0;34m(\u001b[0m\u001b[0;34m*\u001b[0m\u001b[0margs\u001b[0m\u001b[0;34m,\u001b[0m \u001b[0;34m**\u001b[0m\u001b[0mkwargs\u001b[0m\u001b[0;34m)\u001b[0m\u001b[0;34m\u001b[0m\u001b[0;34m\u001b[0m\u001b[0m\n\u001b[0m\u001b[1;32m   1563\u001b[0m \u001b[0;34m\u001b[0m\u001b[0m\n\u001b[1;32m   1564\u001b[0m         \u001b[0;32mtry\u001b[0m\u001b[0;34m:\u001b[0m\u001b[0;34m\u001b[0m\u001b[0;34m\u001b[0m\u001b[0m\n",
            "\u001b[0;32m/usr/local/lib/python3.10/dist-packages/torch/nn/modules/container.py\u001b[0m in \u001b[0;36mforward\u001b[0;34m(self, input)\u001b[0m\n\u001b[1;32m    217\u001b[0m     \u001b[0;32mdef\u001b[0m \u001b[0mforward\u001b[0m\u001b[0;34m(\u001b[0m\u001b[0mself\u001b[0m\u001b[0;34m,\u001b[0m \u001b[0minput\u001b[0m\u001b[0;34m)\u001b[0m\u001b[0;34m:\u001b[0m\u001b[0;34m\u001b[0m\u001b[0;34m\u001b[0m\u001b[0m\n\u001b[1;32m    218\u001b[0m         \u001b[0;32mfor\u001b[0m \u001b[0mmodule\u001b[0m \u001b[0;32min\u001b[0m \u001b[0mself\u001b[0m\u001b[0;34m:\u001b[0m\u001b[0;34m\u001b[0m\u001b[0;34m\u001b[0m\u001b[0m\n\u001b[0;32m--> 219\u001b[0;31m             \u001b[0minput\u001b[0m \u001b[0;34m=\u001b[0m \u001b[0mmodule\u001b[0m\u001b[0;34m(\u001b[0m\u001b[0minput\u001b[0m\u001b[0;34m)\u001b[0m\u001b[0;34m\u001b[0m\u001b[0;34m\u001b[0m\u001b[0m\n\u001b[0m\u001b[1;32m    220\u001b[0m         \u001b[0;32mreturn\u001b[0m \u001b[0minput\u001b[0m\u001b[0;34m\u001b[0m\u001b[0;34m\u001b[0m\u001b[0m\n\u001b[1;32m    221\u001b[0m \u001b[0;34m\u001b[0m\u001b[0m\n",
            "\u001b[0;32m/usr/local/lib/python3.10/dist-packages/torch/nn/modules/module.py\u001b[0m in \u001b[0;36m_wrapped_call_impl\u001b[0;34m(self, *args, **kwargs)\u001b[0m\n\u001b[1;32m   1551\u001b[0m             \u001b[0;32mreturn\u001b[0m \u001b[0mself\u001b[0m\u001b[0;34m.\u001b[0m\u001b[0m_compiled_call_impl\u001b[0m\u001b[0;34m(\u001b[0m\u001b[0;34m*\u001b[0m\u001b[0margs\u001b[0m\u001b[0;34m,\u001b[0m \u001b[0;34m**\u001b[0m\u001b[0mkwargs\u001b[0m\u001b[0;34m)\u001b[0m  \u001b[0;31m# type: ignore[misc]\u001b[0m\u001b[0;34m\u001b[0m\u001b[0;34m\u001b[0m\u001b[0m\n\u001b[1;32m   1552\u001b[0m         \u001b[0;32melse\u001b[0m\u001b[0;34m:\u001b[0m\u001b[0;34m\u001b[0m\u001b[0;34m\u001b[0m\u001b[0m\n\u001b[0;32m-> 1553\u001b[0;31m             \u001b[0;32mreturn\u001b[0m \u001b[0mself\u001b[0m\u001b[0;34m.\u001b[0m\u001b[0m_call_impl\u001b[0m\u001b[0;34m(\u001b[0m\u001b[0;34m*\u001b[0m\u001b[0margs\u001b[0m\u001b[0;34m,\u001b[0m \u001b[0;34m**\u001b[0m\u001b[0mkwargs\u001b[0m\u001b[0;34m)\u001b[0m\u001b[0;34m\u001b[0m\u001b[0;34m\u001b[0m\u001b[0m\n\u001b[0m\u001b[1;32m   1554\u001b[0m \u001b[0;34m\u001b[0m\u001b[0m\n\u001b[1;32m   1555\u001b[0m     \u001b[0;32mdef\u001b[0m \u001b[0m_call_impl\u001b[0m\u001b[0;34m(\u001b[0m\u001b[0mself\u001b[0m\u001b[0;34m,\u001b[0m \u001b[0;34m*\u001b[0m\u001b[0margs\u001b[0m\u001b[0;34m,\u001b[0m \u001b[0;34m**\u001b[0m\u001b[0mkwargs\u001b[0m\u001b[0;34m)\u001b[0m\u001b[0;34m:\u001b[0m\u001b[0;34m\u001b[0m\u001b[0;34m\u001b[0m\u001b[0m\n",
            "\u001b[0;32m/usr/local/lib/python3.10/dist-packages/torch/nn/modules/module.py\u001b[0m in \u001b[0;36m_call_impl\u001b[0;34m(self, *args, **kwargs)\u001b[0m\n\u001b[1;32m   1560\u001b[0m                 \u001b[0;32mor\u001b[0m \u001b[0m_global_backward_pre_hooks\u001b[0m \u001b[0;32mor\u001b[0m \u001b[0m_global_backward_hooks\u001b[0m\u001b[0;34m\u001b[0m\u001b[0;34m\u001b[0m\u001b[0m\n\u001b[1;32m   1561\u001b[0m                 or _global_forward_hooks or _global_forward_pre_hooks):\n\u001b[0;32m-> 1562\u001b[0;31m             \u001b[0;32mreturn\u001b[0m \u001b[0mforward_call\u001b[0m\u001b[0;34m(\u001b[0m\u001b[0;34m*\u001b[0m\u001b[0margs\u001b[0m\u001b[0;34m,\u001b[0m \u001b[0;34m**\u001b[0m\u001b[0mkwargs\u001b[0m\u001b[0;34m)\u001b[0m\u001b[0;34m\u001b[0m\u001b[0;34m\u001b[0m\u001b[0m\n\u001b[0m\u001b[1;32m   1563\u001b[0m \u001b[0;34m\u001b[0m\u001b[0m\n\u001b[1;32m   1564\u001b[0m         \u001b[0;32mtry\u001b[0m\u001b[0;34m:\u001b[0m\u001b[0;34m\u001b[0m\u001b[0;34m\u001b[0m\u001b[0m\n",
            "\u001b[0;32m/usr/local/lib/python3.10/dist-packages/torch/nn/modules/container.py\u001b[0m in \u001b[0;36mforward\u001b[0;34m(self, input)\u001b[0m\n\u001b[1;32m    217\u001b[0m     \u001b[0;32mdef\u001b[0m \u001b[0mforward\u001b[0m\u001b[0;34m(\u001b[0m\u001b[0mself\u001b[0m\u001b[0;34m,\u001b[0m \u001b[0minput\u001b[0m\u001b[0;34m)\u001b[0m\u001b[0;34m:\u001b[0m\u001b[0;34m\u001b[0m\u001b[0;34m\u001b[0m\u001b[0m\n\u001b[1;32m    218\u001b[0m         \u001b[0;32mfor\u001b[0m \u001b[0mmodule\u001b[0m \u001b[0;32min\u001b[0m \u001b[0mself\u001b[0m\u001b[0;34m:\u001b[0m\u001b[0;34m\u001b[0m\u001b[0;34m\u001b[0m\u001b[0m\n\u001b[0;32m--> 219\u001b[0;31m             \u001b[0minput\u001b[0m \u001b[0;34m=\u001b[0m \u001b[0mmodule\u001b[0m\u001b[0;34m(\u001b[0m\u001b[0minput\u001b[0m\u001b[0;34m)\u001b[0m\u001b[0;34m\u001b[0m\u001b[0;34m\u001b[0m\u001b[0m\n\u001b[0m\u001b[1;32m    220\u001b[0m         \u001b[0;32mreturn\u001b[0m \u001b[0minput\u001b[0m\u001b[0;34m\u001b[0m\u001b[0;34m\u001b[0m\u001b[0m\n\u001b[1;32m    221\u001b[0m \u001b[0;34m\u001b[0m\u001b[0m\n",
            "\u001b[0;32m/usr/local/lib/python3.10/dist-packages/torch/nn/modules/module.py\u001b[0m in \u001b[0;36m_wrapped_call_impl\u001b[0;34m(self, *args, **kwargs)\u001b[0m\n\u001b[1;32m   1551\u001b[0m             \u001b[0;32mreturn\u001b[0m \u001b[0mself\u001b[0m\u001b[0;34m.\u001b[0m\u001b[0m_compiled_call_impl\u001b[0m\u001b[0;34m(\u001b[0m\u001b[0;34m*\u001b[0m\u001b[0margs\u001b[0m\u001b[0;34m,\u001b[0m \u001b[0;34m**\u001b[0m\u001b[0mkwargs\u001b[0m\u001b[0;34m)\u001b[0m  \u001b[0;31m# type: ignore[misc]\u001b[0m\u001b[0;34m\u001b[0m\u001b[0;34m\u001b[0m\u001b[0m\n\u001b[1;32m   1552\u001b[0m         \u001b[0;32melse\u001b[0m\u001b[0;34m:\u001b[0m\u001b[0;34m\u001b[0m\u001b[0;34m\u001b[0m\u001b[0m\n\u001b[0;32m-> 1553\u001b[0;31m             \u001b[0;32mreturn\u001b[0m \u001b[0mself\u001b[0m\u001b[0;34m.\u001b[0m\u001b[0m_call_impl\u001b[0m\u001b[0;34m(\u001b[0m\u001b[0;34m*\u001b[0m\u001b[0margs\u001b[0m\u001b[0;34m,\u001b[0m \u001b[0;34m**\u001b[0m\u001b[0mkwargs\u001b[0m\u001b[0;34m)\u001b[0m\u001b[0;34m\u001b[0m\u001b[0;34m\u001b[0m\u001b[0m\n\u001b[0m\u001b[1;32m   1554\u001b[0m \u001b[0;34m\u001b[0m\u001b[0m\n\u001b[1;32m   1555\u001b[0m     \u001b[0;32mdef\u001b[0m \u001b[0m_call_impl\u001b[0m\u001b[0;34m(\u001b[0m\u001b[0mself\u001b[0m\u001b[0;34m,\u001b[0m \u001b[0;34m*\u001b[0m\u001b[0margs\u001b[0m\u001b[0;34m,\u001b[0m \u001b[0;34m**\u001b[0m\u001b[0mkwargs\u001b[0m\u001b[0;34m)\u001b[0m\u001b[0;34m:\u001b[0m\u001b[0;34m\u001b[0m\u001b[0;34m\u001b[0m\u001b[0m\n",
            "\u001b[0;32m/usr/local/lib/python3.10/dist-packages/torch/nn/modules/module.py\u001b[0m in \u001b[0;36m_call_impl\u001b[0;34m(self, *args, **kwargs)\u001b[0m\n\u001b[1;32m   1560\u001b[0m                 \u001b[0;32mor\u001b[0m \u001b[0m_global_backward_pre_hooks\u001b[0m \u001b[0;32mor\u001b[0m \u001b[0m_global_backward_hooks\u001b[0m\u001b[0;34m\u001b[0m\u001b[0;34m\u001b[0m\u001b[0m\n\u001b[1;32m   1561\u001b[0m                 or _global_forward_hooks or _global_forward_pre_hooks):\n\u001b[0;32m-> 1562\u001b[0;31m             \u001b[0;32mreturn\u001b[0m \u001b[0mforward_call\u001b[0m\u001b[0;34m(\u001b[0m\u001b[0;34m*\u001b[0m\u001b[0margs\u001b[0m\u001b[0;34m,\u001b[0m \u001b[0;34m**\u001b[0m\u001b[0mkwargs\u001b[0m\u001b[0;34m)\u001b[0m\u001b[0;34m\u001b[0m\u001b[0;34m\u001b[0m\u001b[0m\n\u001b[0m\u001b[1;32m   1563\u001b[0m \u001b[0;34m\u001b[0m\u001b[0m\n\u001b[1;32m   1564\u001b[0m         \u001b[0;32mtry\u001b[0m\u001b[0;34m:\u001b[0m\u001b[0;34m\u001b[0m\u001b[0;34m\u001b[0m\u001b[0m\n",
            "\u001b[0;32m/usr/local/lib/python3.10/dist-packages/torch/nn/modules/container.py\u001b[0m in \u001b[0;36mforward\u001b[0;34m(self, input)\u001b[0m\n\u001b[1;32m    217\u001b[0m     \u001b[0;32mdef\u001b[0m \u001b[0mforward\u001b[0m\u001b[0;34m(\u001b[0m\u001b[0mself\u001b[0m\u001b[0;34m,\u001b[0m \u001b[0minput\u001b[0m\u001b[0;34m)\u001b[0m\u001b[0;34m:\u001b[0m\u001b[0;34m\u001b[0m\u001b[0;34m\u001b[0m\u001b[0m\n\u001b[1;32m    218\u001b[0m         \u001b[0;32mfor\u001b[0m \u001b[0mmodule\u001b[0m \u001b[0;32min\u001b[0m \u001b[0mself\u001b[0m\u001b[0;34m:\u001b[0m\u001b[0;34m\u001b[0m\u001b[0;34m\u001b[0m\u001b[0m\n\u001b[0;32m--> 219\u001b[0;31m             \u001b[0minput\u001b[0m \u001b[0;34m=\u001b[0m \u001b[0mmodule\u001b[0m\u001b[0;34m(\u001b[0m\u001b[0minput\u001b[0m\u001b[0;34m)\u001b[0m\u001b[0;34m\u001b[0m\u001b[0;34m\u001b[0m\u001b[0m\n\u001b[0m\u001b[1;32m    220\u001b[0m         \u001b[0;32mreturn\u001b[0m \u001b[0minput\u001b[0m\u001b[0;34m\u001b[0m\u001b[0;34m\u001b[0m\u001b[0m\n\u001b[1;32m    221\u001b[0m \u001b[0;34m\u001b[0m\u001b[0m\n",
            "\u001b[0;32m/usr/local/lib/python3.10/dist-packages/torch/nn/modules/module.py\u001b[0m in \u001b[0;36m_wrapped_call_impl\u001b[0;34m(self, *args, **kwargs)\u001b[0m\n\u001b[1;32m   1551\u001b[0m             \u001b[0;32mreturn\u001b[0m \u001b[0mself\u001b[0m\u001b[0;34m.\u001b[0m\u001b[0m_compiled_call_impl\u001b[0m\u001b[0;34m(\u001b[0m\u001b[0;34m*\u001b[0m\u001b[0margs\u001b[0m\u001b[0;34m,\u001b[0m \u001b[0;34m**\u001b[0m\u001b[0mkwargs\u001b[0m\u001b[0;34m)\u001b[0m  \u001b[0;31m# type: ignore[misc]\u001b[0m\u001b[0;34m\u001b[0m\u001b[0;34m\u001b[0m\u001b[0m\n\u001b[1;32m   1552\u001b[0m         \u001b[0;32melse\u001b[0m\u001b[0;34m:\u001b[0m\u001b[0;34m\u001b[0m\u001b[0;34m\u001b[0m\u001b[0m\n\u001b[0;32m-> 1553\u001b[0;31m             \u001b[0;32mreturn\u001b[0m \u001b[0mself\u001b[0m\u001b[0;34m.\u001b[0m\u001b[0m_call_impl\u001b[0m\u001b[0;34m(\u001b[0m\u001b[0;34m*\u001b[0m\u001b[0margs\u001b[0m\u001b[0;34m,\u001b[0m \u001b[0;34m**\u001b[0m\u001b[0mkwargs\u001b[0m\u001b[0;34m)\u001b[0m\u001b[0;34m\u001b[0m\u001b[0;34m\u001b[0m\u001b[0m\n\u001b[0m\u001b[1;32m   1554\u001b[0m \u001b[0;34m\u001b[0m\u001b[0m\n\u001b[1;32m   1555\u001b[0m     \u001b[0;32mdef\u001b[0m \u001b[0m_call_impl\u001b[0m\u001b[0;34m(\u001b[0m\u001b[0mself\u001b[0m\u001b[0;34m,\u001b[0m \u001b[0;34m*\u001b[0m\u001b[0margs\u001b[0m\u001b[0;34m,\u001b[0m \u001b[0;34m**\u001b[0m\u001b[0mkwargs\u001b[0m\u001b[0;34m)\u001b[0m\u001b[0;34m:\u001b[0m\u001b[0;34m\u001b[0m\u001b[0;34m\u001b[0m\u001b[0m\n",
            "\u001b[0;32m/usr/local/lib/python3.10/dist-packages/torch/nn/modules/module.py\u001b[0m in \u001b[0;36m_call_impl\u001b[0;34m(self, *args, **kwargs)\u001b[0m\n\u001b[1;32m   1560\u001b[0m                 \u001b[0;32mor\u001b[0m \u001b[0m_global_backward_pre_hooks\u001b[0m \u001b[0;32mor\u001b[0m \u001b[0m_global_backward_hooks\u001b[0m\u001b[0;34m\u001b[0m\u001b[0;34m\u001b[0m\u001b[0m\n\u001b[1;32m   1561\u001b[0m                 or _global_forward_hooks or _global_forward_pre_hooks):\n\u001b[0;32m-> 1562\u001b[0;31m             \u001b[0;32mreturn\u001b[0m \u001b[0mforward_call\u001b[0m\u001b[0;34m(\u001b[0m\u001b[0;34m*\u001b[0m\u001b[0margs\u001b[0m\u001b[0;34m,\u001b[0m \u001b[0;34m**\u001b[0m\u001b[0mkwargs\u001b[0m\u001b[0;34m)\u001b[0m\u001b[0;34m\u001b[0m\u001b[0;34m\u001b[0m\u001b[0m\n\u001b[0m\u001b[1;32m   1563\u001b[0m \u001b[0;34m\u001b[0m\u001b[0m\n\u001b[1;32m   1564\u001b[0m         \u001b[0;32mtry\u001b[0m\u001b[0;34m:\u001b[0m\u001b[0;34m\u001b[0m\u001b[0;34m\u001b[0m\u001b[0m\n",
            "\u001b[0;32m/usr/local/lib/python3.10/dist-packages/torchvision/models/efficientnet.py\u001b[0m in \u001b[0;36mforward\u001b[0;34m(self, input)\u001b[0m\n\u001b[1;32m    162\u001b[0m \u001b[0;34m\u001b[0m\u001b[0m\n\u001b[1;32m    163\u001b[0m     \u001b[0;32mdef\u001b[0m \u001b[0mforward\u001b[0m\u001b[0;34m(\u001b[0m\u001b[0mself\u001b[0m\u001b[0;34m,\u001b[0m \u001b[0minput\u001b[0m\u001b[0;34m:\u001b[0m \u001b[0mTensor\u001b[0m\u001b[0;34m)\u001b[0m \u001b[0;34m->\u001b[0m \u001b[0mTensor\u001b[0m\u001b[0;34m:\u001b[0m\u001b[0;34m\u001b[0m\u001b[0;34m\u001b[0m\u001b[0m\n\u001b[0;32m--> 164\u001b[0;31m         \u001b[0mresult\u001b[0m \u001b[0;34m=\u001b[0m \u001b[0mself\u001b[0m\u001b[0;34m.\u001b[0m\u001b[0mblock\u001b[0m\u001b[0;34m(\u001b[0m\u001b[0minput\u001b[0m\u001b[0;34m)\u001b[0m\u001b[0;34m\u001b[0m\u001b[0;34m\u001b[0m\u001b[0m\n\u001b[0m\u001b[1;32m    165\u001b[0m         \u001b[0;32mif\u001b[0m \u001b[0mself\u001b[0m\u001b[0;34m.\u001b[0m\u001b[0muse_res_connect\u001b[0m\u001b[0;34m:\u001b[0m\u001b[0;34m\u001b[0m\u001b[0;34m\u001b[0m\u001b[0m\n\u001b[1;32m    166\u001b[0m             \u001b[0mresult\u001b[0m \u001b[0;34m=\u001b[0m \u001b[0mself\u001b[0m\u001b[0;34m.\u001b[0m\u001b[0mstochastic_depth\u001b[0m\u001b[0;34m(\u001b[0m\u001b[0mresult\u001b[0m\u001b[0;34m)\u001b[0m\u001b[0;34m\u001b[0m\u001b[0;34m\u001b[0m\u001b[0m\n",
            "\u001b[0;32m/usr/local/lib/python3.10/dist-packages/torch/nn/modules/module.py\u001b[0m in \u001b[0;36m_wrapped_call_impl\u001b[0;34m(self, *args, **kwargs)\u001b[0m\n\u001b[1;32m   1551\u001b[0m             \u001b[0;32mreturn\u001b[0m \u001b[0mself\u001b[0m\u001b[0;34m.\u001b[0m\u001b[0m_compiled_call_impl\u001b[0m\u001b[0;34m(\u001b[0m\u001b[0;34m*\u001b[0m\u001b[0margs\u001b[0m\u001b[0;34m,\u001b[0m \u001b[0;34m**\u001b[0m\u001b[0mkwargs\u001b[0m\u001b[0;34m)\u001b[0m  \u001b[0;31m# type: ignore[misc]\u001b[0m\u001b[0;34m\u001b[0m\u001b[0;34m\u001b[0m\u001b[0m\n\u001b[1;32m   1552\u001b[0m         \u001b[0;32melse\u001b[0m\u001b[0;34m:\u001b[0m\u001b[0;34m\u001b[0m\u001b[0;34m\u001b[0m\u001b[0m\n\u001b[0;32m-> 1553\u001b[0;31m             \u001b[0;32mreturn\u001b[0m \u001b[0mself\u001b[0m\u001b[0;34m.\u001b[0m\u001b[0m_call_impl\u001b[0m\u001b[0;34m(\u001b[0m\u001b[0;34m*\u001b[0m\u001b[0margs\u001b[0m\u001b[0;34m,\u001b[0m \u001b[0;34m**\u001b[0m\u001b[0mkwargs\u001b[0m\u001b[0;34m)\u001b[0m\u001b[0;34m\u001b[0m\u001b[0;34m\u001b[0m\u001b[0m\n\u001b[0m\u001b[1;32m   1554\u001b[0m \u001b[0;34m\u001b[0m\u001b[0m\n\u001b[1;32m   1555\u001b[0m     \u001b[0;32mdef\u001b[0m \u001b[0m_call_impl\u001b[0m\u001b[0;34m(\u001b[0m\u001b[0mself\u001b[0m\u001b[0;34m,\u001b[0m \u001b[0;34m*\u001b[0m\u001b[0margs\u001b[0m\u001b[0;34m,\u001b[0m \u001b[0;34m**\u001b[0m\u001b[0mkwargs\u001b[0m\u001b[0;34m)\u001b[0m\u001b[0;34m:\u001b[0m\u001b[0;34m\u001b[0m\u001b[0;34m\u001b[0m\u001b[0m\n",
            "\u001b[0;32m/usr/local/lib/python3.10/dist-packages/torch/nn/modules/module.py\u001b[0m in \u001b[0;36m_call_impl\u001b[0;34m(self, *args, **kwargs)\u001b[0m\n\u001b[1;32m   1560\u001b[0m                 \u001b[0;32mor\u001b[0m \u001b[0m_global_backward_pre_hooks\u001b[0m \u001b[0;32mor\u001b[0m \u001b[0m_global_backward_hooks\u001b[0m\u001b[0;34m\u001b[0m\u001b[0;34m\u001b[0m\u001b[0m\n\u001b[1;32m   1561\u001b[0m                 or _global_forward_hooks or _global_forward_pre_hooks):\n\u001b[0;32m-> 1562\u001b[0;31m             \u001b[0;32mreturn\u001b[0m \u001b[0mforward_call\u001b[0m\u001b[0;34m(\u001b[0m\u001b[0;34m*\u001b[0m\u001b[0margs\u001b[0m\u001b[0;34m,\u001b[0m \u001b[0;34m**\u001b[0m\u001b[0mkwargs\u001b[0m\u001b[0;34m)\u001b[0m\u001b[0;34m\u001b[0m\u001b[0;34m\u001b[0m\u001b[0m\n\u001b[0m\u001b[1;32m   1563\u001b[0m \u001b[0;34m\u001b[0m\u001b[0m\n\u001b[1;32m   1564\u001b[0m         \u001b[0;32mtry\u001b[0m\u001b[0;34m:\u001b[0m\u001b[0;34m\u001b[0m\u001b[0;34m\u001b[0m\u001b[0m\n",
            "\u001b[0;32m/usr/local/lib/python3.10/dist-packages/torch/nn/modules/container.py\u001b[0m in \u001b[0;36mforward\u001b[0;34m(self, input)\u001b[0m\n\u001b[1;32m    217\u001b[0m     \u001b[0;32mdef\u001b[0m \u001b[0mforward\u001b[0m\u001b[0;34m(\u001b[0m\u001b[0mself\u001b[0m\u001b[0;34m,\u001b[0m \u001b[0minput\u001b[0m\u001b[0;34m)\u001b[0m\u001b[0;34m:\u001b[0m\u001b[0;34m\u001b[0m\u001b[0;34m\u001b[0m\u001b[0m\n\u001b[1;32m    218\u001b[0m         \u001b[0;32mfor\u001b[0m \u001b[0mmodule\u001b[0m \u001b[0;32min\u001b[0m \u001b[0mself\u001b[0m\u001b[0;34m:\u001b[0m\u001b[0;34m\u001b[0m\u001b[0;34m\u001b[0m\u001b[0m\n\u001b[0;32m--> 219\u001b[0;31m             \u001b[0minput\u001b[0m \u001b[0;34m=\u001b[0m \u001b[0mmodule\u001b[0m\u001b[0;34m(\u001b[0m\u001b[0minput\u001b[0m\u001b[0;34m)\u001b[0m\u001b[0;34m\u001b[0m\u001b[0;34m\u001b[0m\u001b[0m\n\u001b[0m\u001b[1;32m    220\u001b[0m         \u001b[0;32mreturn\u001b[0m \u001b[0minput\u001b[0m\u001b[0;34m\u001b[0m\u001b[0;34m\u001b[0m\u001b[0m\n\u001b[1;32m    221\u001b[0m \u001b[0;34m\u001b[0m\u001b[0m\n",
            "\u001b[0;32m/usr/local/lib/python3.10/dist-packages/torch/nn/modules/module.py\u001b[0m in \u001b[0;36m_wrapped_call_impl\u001b[0;34m(self, *args, **kwargs)\u001b[0m\n\u001b[1;32m   1551\u001b[0m             \u001b[0;32mreturn\u001b[0m \u001b[0mself\u001b[0m\u001b[0;34m.\u001b[0m\u001b[0m_compiled_call_impl\u001b[0m\u001b[0;34m(\u001b[0m\u001b[0;34m*\u001b[0m\u001b[0margs\u001b[0m\u001b[0;34m,\u001b[0m \u001b[0;34m**\u001b[0m\u001b[0mkwargs\u001b[0m\u001b[0;34m)\u001b[0m  \u001b[0;31m# type: ignore[misc]\u001b[0m\u001b[0;34m\u001b[0m\u001b[0;34m\u001b[0m\u001b[0m\n\u001b[1;32m   1552\u001b[0m         \u001b[0;32melse\u001b[0m\u001b[0;34m:\u001b[0m\u001b[0;34m\u001b[0m\u001b[0;34m\u001b[0m\u001b[0m\n\u001b[0;32m-> 1553\u001b[0;31m             \u001b[0;32mreturn\u001b[0m \u001b[0mself\u001b[0m\u001b[0;34m.\u001b[0m\u001b[0m_call_impl\u001b[0m\u001b[0;34m(\u001b[0m\u001b[0;34m*\u001b[0m\u001b[0margs\u001b[0m\u001b[0;34m,\u001b[0m \u001b[0;34m**\u001b[0m\u001b[0mkwargs\u001b[0m\u001b[0;34m)\u001b[0m\u001b[0;34m\u001b[0m\u001b[0;34m\u001b[0m\u001b[0m\n\u001b[0m\u001b[1;32m   1554\u001b[0m \u001b[0;34m\u001b[0m\u001b[0m\n\u001b[1;32m   1555\u001b[0m     \u001b[0;32mdef\u001b[0m \u001b[0m_call_impl\u001b[0m\u001b[0;34m(\u001b[0m\u001b[0mself\u001b[0m\u001b[0;34m,\u001b[0m \u001b[0;34m*\u001b[0m\u001b[0margs\u001b[0m\u001b[0;34m,\u001b[0m \u001b[0;34m**\u001b[0m\u001b[0mkwargs\u001b[0m\u001b[0;34m)\u001b[0m\u001b[0;34m:\u001b[0m\u001b[0;34m\u001b[0m\u001b[0;34m\u001b[0m\u001b[0m\n",
            "\u001b[0;32m/usr/local/lib/python3.10/dist-packages/torch/nn/modules/module.py\u001b[0m in \u001b[0;36m_call_impl\u001b[0;34m(self, *args, **kwargs)\u001b[0m\n\u001b[1;32m   1560\u001b[0m                 \u001b[0;32mor\u001b[0m \u001b[0m_global_backward_pre_hooks\u001b[0m \u001b[0;32mor\u001b[0m \u001b[0m_global_backward_hooks\u001b[0m\u001b[0;34m\u001b[0m\u001b[0;34m\u001b[0m\u001b[0m\n\u001b[1;32m   1561\u001b[0m                 or _global_forward_hooks or _global_forward_pre_hooks):\n\u001b[0;32m-> 1562\u001b[0;31m             \u001b[0;32mreturn\u001b[0m \u001b[0mforward_call\u001b[0m\u001b[0;34m(\u001b[0m\u001b[0;34m*\u001b[0m\u001b[0margs\u001b[0m\u001b[0;34m,\u001b[0m \u001b[0;34m**\u001b[0m\u001b[0mkwargs\u001b[0m\u001b[0;34m)\u001b[0m\u001b[0;34m\u001b[0m\u001b[0;34m\u001b[0m\u001b[0m\n\u001b[0m\u001b[1;32m   1563\u001b[0m \u001b[0;34m\u001b[0m\u001b[0m\n\u001b[1;32m   1564\u001b[0m         \u001b[0;32mtry\u001b[0m\u001b[0;34m:\u001b[0m\u001b[0;34m\u001b[0m\u001b[0;34m\u001b[0m\u001b[0m\n",
            "\u001b[0;32m/usr/local/lib/python3.10/dist-packages/torch/nn/modules/container.py\u001b[0m in \u001b[0;36mforward\u001b[0;34m(self, input)\u001b[0m\n\u001b[1;32m    217\u001b[0m     \u001b[0;32mdef\u001b[0m \u001b[0mforward\u001b[0m\u001b[0;34m(\u001b[0m\u001b[0mself\u001b[0m\u001b[0;34m,\u001b[0m \u001b[0minput\u001b[0m\u001b[0;34m)\u001b[0m\u001b[0;34m:\u001b[0m\u001b[0;34m\u001b[0m\u001b[0;34m\u001b[0m\u001b[0m\n\u001b[1;32m    218\u001b[0m         \u001b[0;32mfor\u001b[0m \u001b[0mmodule\u001b[0m \u001b[0;32min\u001b[0m \u001b[0mself\u001b[0m\u001b[0;34m:\u001b[0m\u001b[0;34m\u001b[0m\u001b[0;34m\u001b[0m\u001b[0m\n\u001b[0;32m--> 219\u001b[0;31m             \u001b[0minput\u001b[0m \u001b[0;34m=\u001b[0m \u001b[0mmodule\u001b[0m\u001b[0;34m(\u001b[0m\u001b[0minput\u001b[0m\u001b[0;34m)\u001b[0m\u001b[0;34m\u001b[0m\u001b[0;34m\u001b[0m\u001b[0m\n\u001b[0m\u001b[1;32m    220\u001b[0m         \u001b[0;32mreturn\u001b[0m \u001b[0minput\u001b[0m\u001b[0;34m\u001b[0m\u001b[0;34m\u001b[0m\u001b[0m\n\u001b[1;32m    221\u001b[0m \u001b[0;34m\u001b[0m\u001b[0m\n",
            "\u001b[0;32m/usr/local/lib/python3.10/dist-packages/torch/nn/modules/module.py\u001b[0m in \u001b[0;36m_wrapped_call_impl\u001b[0;34m(self, *args, **kwargs)\u001b[0m\n\u001b[1;32m   1551\u001b[0m             \u001b[0;32mreturn\u001b[0m \u001b[0mself\u001b[0m\u001b[0;34m.\u001b[0m\u001b[0m_compiled_call_impl\u001b[0m\u001b[0;34m(\u001b[0m\u001b[0;34m*\u001b[0m\u001b[0margs\u001b[0m\u001b[0;34m,\u001b[0m \u001b[0;34m**\u001b[0m\u001b[0mkwargs\u001b[0m\u001b[0;34m)\u001b[0m  \u001b[0;31m# type: ignore[misc]\u001b[0m\u001b[0;34m\u001b[0m\u001b[0;34m\u001b[0m\u001b[0m\n\u001b[1;32m   1552\u001b[0m         \u001b[0;32melse\u001b[0m\u001b[0;34m:\u001b[0m\u001b[0;34m\u001b[0m\u001b[0;34m\u001b[0m\u001b[0m\n\u001b[0;32m-> 1553\u001b[0;31m             \u001b[0;32mreturn\u001b[0m \u001b[0mself\u001b[0m\u001b[0;34m.\u001b[0m\u001b[0m_call_impl\u001b[0m\u001b[0;34m(\u001b[0m\u001b[0;34m*\u001b[0m\u001b[0margs\u001b[0m\u001b[0;34m,\u001b[0m \u001b[0;34m**\u001b[0m\u001b[0mkwargs\u001b[0m\u001b[0;34m)\u001b[0m\u001b[0;34m\u001b[0m\u001b[0;34m\u001b[0m\u001b[0m\n\u001b[0m\u001b[1;32m   1554\u001b[0m \u001b[0;34m\u001b[0m\u001b[0m\n\u001b[1;32m   1555\u001b[0m     \u001b[0;32mdef\u001b[0m \u001b[0m_call_impl\u001b[0m\u001b[0;34m(\u001b[0m\u001b[0mself\u001b[0m\u001b[0;34m,\u001b[0m \u001b[0;34m*\u001b[0m\u001b[0margs\u001b[0m\u001b[0;34m,\u001b[0m \u001b[0;34m**\u001b[0m\u001b[0mkwargs\u001b[0m\u001b[0;34m)\u001b[0m\u001b[0;34m:\u001b[0m\u001b[0;34m\u001b[0m\u001b[0;34m\u001b[0m\u001b[0m\n",
            "\u001b[0;32m/usr/local/lib/python3.10/dist-packages/torch/nn/modules/module.py\u001b[0m in \u001b[0;36m_call_impl\u001b[0;34m(self, *args, **kwargs)\u001b[0m\n\u001b[1;32m   1560\u001b[0m                 \u001b[0;32mor\u001b[0m \u001b[0m_global_backward_pre_hooks\u001b[0m \u001b[0;32mor\u001b[0m \u001b[0m_global_backward_hooks\u001b[0m\u001b[0;34m\u001b[0m\u001b[0;34m\u001b[0m\u001b[0m\n\u001b[1;32m   1561\u001b[0m                 or _global_forward_hooks or _global_forward_pre_hooks):\n\u001b[0;32m-> 1562\u001b[0;31m             \u001b[0;32mreturn\u001b[0m \u001b[0mforward_call\u001b[0m\u001b[0;34m(\u001b[0m\u001b[0;34m*\u001b[0m\u001b[0margs\u001b[0m\u001b[0;34m,\u001b[0m \u001b[0;34m**\u001b[0m\u001b[0mkwargs\u001b[0m\u001b[0;34m)\u001b[0m\u001b[0;34m\u001b[0m\u001b[0;34m\u001b[0m\u001b[0m\n\u001b[0m\u001b[1;32m   1563\u001b[0m \u001b[0;34m\u001b[0m\u001b[0m\n\u001b[1;32m   1564\u001b[0m         \u001b[0;32mtry\u001b[0m\u001b[0;34m:\u001b[0m\u001b[0;34m\u001b[0m\u001b[0;34m\u001b[0m\u001b[0m\n",
            "\u001b[0;32m/usr/local/lib/python3.10/dist-packages/torch/nn/modules/batchnorm.py\u001b[0m in \u001b[0;36mforward\u001b[0;34m(self, input)\u001b[0m\n\u001b[1;32m    182\u001b[0m             \u001b[0mself\u001b[0m\u001b[0;34m.\u001b[0m\u001b[0mrunning_var\u001b[0m \u001b[0;32mif\u001b[0m \u001b[0;32mnot\u001b[0m \u001b[0mself\u001b[0m\u001b[0;34m.\u001b[0m\u001b[0mtraining\u001b[0m \u001b[0;32mor\u001b[0m \u001b[0mself\u001b[0m\u001b[0;34m.\u001b[0m\u001b[0mtrack_running_stats\u001b[0m \u001b[0;32melse\u001b[0m \u001b[0;32mNone\u001b[0m\u001b[0;34m,\u001b[0m\u001b[0;34m\u001b[0m\u001b[0;34m\u001b[0m\u001b[0m\n\u001b[1;32m    183\u001b[0m             \u001b[0mself\u001b[0m\u001b[0;34m.\u001b[0m\u001b[0mweight\u001b[0m\u001b[0;34m,\u001b[0m\u001b[0;34m\u001b[0m\u001b[0;34m\u001b[0m\u001b[0m\n\u001b[0;32m--> 184\u001b[0;31m             \u001b[0mself\u001b[0m\u001b[0;34m.\u001b[0m\u001b[0mbias\u001b[0m\u001b[0;34m,\u001b[0m\u001b[0;34m\u001b[0m\u001b[0;34m\u001b[0m\u001b[0m\n\u001b[0m\u001b[1;32m    185\u001b[0m             \u001b[0mbn_training\u001b[0m\u001b[0;34m,\u001b[0m\u001b[0;34m\u001b[0m\u001b[0;34m\u001b[0m\u001b[0m\n\u001b[1;32m    186\u001b[0m             \u001b[0mexponential_average_factor\u001b[0m\u001b[0;34m,\u001b[0m\u001b[0;34m\u001b[0m\u001b[0;34m\u001b[0m\u001b[0m\n",
            "\u001b[0;32m/usr/local/lib/python3.10/dist-packages/torch/nn/modules/module.py\u001b[0m in \u001b[0;36m__getattr__\u001b[0;34m(self, name)\u001b[0m\n\u001b[1;32m   1714\u001b[0m     \u001b[0;31m# See full discussion on the problems with returning `Union` here\u001b[0m\u001b[0;34m\u001b[0m\u001b[0;34m\u001b[0m\u001b[0m\n\u001b[1;32m   1715\u001b[0m     \u001b[0;31m# https://github.com/microsoft/pyright/issues/4213\u001b[0m\u001b[0;34m\u001b[0m\u001b[0;34m\u001b[0m\u001b[0m\n\u001b[0;32m-> 1716\u001b[0;31m     \u001b[0;32mdef\u001b[0m \u001b[0m__getattr__\u001b[0m\u001b[0;34m(\u001b[0m\u001b[0mself\u001b[0m\u001b[0;34m,\u001b[0m \u001b[0mname\u001b[0m\u001b[0;34m:\u001b[0m \u001b[0mstr\u001b[0m\u001b[0;34m)\u001b[0m \u001b[0;34m->\u001b[0m \u001b[0mAny\u001b[0m\u001b[0;34m:\u001b[0m\u001b[0;34m\u001b[0m\u001b[0;34m\u001b[0m\u001b[0m\n\u001b[0m\u001b[1;32m   1717\u001b[0m         \u001b[0;32mif\u001b[0m \u001b[0;34m'_parameters'\u001b[0m \u001b[0;32min\u001b[0m \u001b[0mself\u001b[0m\u001b[0;34m.\u001b[0m\u001b[0m__dict__\u001b[0m\u001b[0;34m:\u001b[0m\u001b[0;34m\u001b[0m\u001b[0;34m\u001b[0m\u001b[0m\n\u001b[1;32m   1718\u001b[0m             \u001b[0m_parameters\u001b[0m \u001b[0;34m=\u001b[0m \u001b[0mself\u001b[0m\u001b[0;34m.\u001b[0m\u001b[0m__dict__\u001b[0m\u001b[0;34m[\u001b[0m\u001b[0;34m'_parameters'\u001b[0m\u001b[0;34m]\u001b[0m\u001b[0;34m\u001b[0m\u001b[0;34m\u001b[0m\u001b[0m\n",
            "\u001b[0;31mKeyboardInterrupt\u001b[0m: "
          ]
        }
      ]
    },
    {
      "cell_type": "code",
      "source": [
        "batch_size = 128\n",
        "train_loader2 = DataLoader(train_dataset, batch_size=batch_size, shuffle=True)\n",
        "val_loader2 = DataLoader(val_dataset, batch_size=batch_size, shuffle=False)"
      ],
      "metadata": {
        "id": "HlftRMxZw_Oq"
      },
      "execution_count": 73,
      "outputs": []
    },
    {
      "cell_type": "code",
      "source": [
        "train_losses2, val_losses2, train_accuracies_y2, train_accuracies_y_c12, train_accuracies_y_c22, val_accuracies_y2, val_accuracies_y_c12, val_accuracies_y_c22, val_precisions2, val_recalls2, val_f1_scores2 = training(model_base_efficientnet2, optimizer, num_epochs, train_loader2, val_loader2, criterion_y, criterion_y_c1, criterion_y_c2, device)"
      ],
      "metadata": {
        "colab": {
          "base_uri": "https://localhost:8080/",
          "height": 1000
        },
        "id": "UQWFfBmIwBKS",
        "outputId": "f38cb37b-35e8-4d38-8c86-15b113017543"
      },
      "execution_count": 74,
      "outputs": [
        {
          "output_type": "stream",
          "name": "stdout",
          "text": [
            "\n",
            "Epoch [1/20] Training Loss: 9.7940, Accuracies Y/C1/C2: 1.03%, 12.13%, 5.02% | Validation Loss: 9.7931, Accuracies Y/C1/C2: 1.11%, 11.49%, 5.07%\n",
            "\n",
            "\n",
            "Epoch [2/20] Training Loss: 9.7926, Accuracies Y/C1/C2: 1.05%, 12.08%, 5.00% | Validation Loss: 9.7889, Accuracies Y/C1/C2: 1.14%, 11.71%, 5.20%\n",
            "\n",
            "\n",
            "Epoch [3/20] Training Loss: 9.7911, Accuracies Y/C1/C2: 1.02%, 12.24%, 4.85% | Validation Loss: 9.7892, Accuracies Y/C1/C2: 1.15%, 11.94%, 4.90%\n",
            "\n",
            "\n",
            "Epoch [4/20] Training Loss: 9.7926, Accuracies Y/C1/C2: 1.07%, 11.81%, 4.92% | Validation Loss: 9.7900, Accuracies Y/C1/C2: 1.21%, 11.77%, 5.14%\n",
            "\n",
            "\n",
            "Epoch [5/20] Training Loss: 9.7894, Accuracies Y/C1/C2: 1.07%, 12.16%, 4.87% | Validation Loss: 9.7902, Accuracies Y/C1/C2: 1.20%, 11.54%, 5.20%\n",
            "\n",
            "\n",
            "Epoch [6/20] Training Loss: 9.7908, Accuracies Y/C1/C2: 1.05%, 12.54%, 5.02% | Validation Loss: 9.7899, Accuracies Y/C1/C2: 1.27%, 11.72%, 5.13%\n",
            "\n",
            "\n",
            "Epoch [7/20] Training Loss: 9.7918, Accuracies Y/C1/C2: 1.09%, 12.27%, 4.98% | Validation Loss: 9.7862, Accuracies Y/C1/C2: 1.16%, 12.02%, 5.29%\n",
            "\n"
          ]
        },
        {
          "output_type": "error",
          "ename": "KeyboardInterrupt",
          "evalue": "",
          "traceback": [
            "\u001b[0;31m---------------------------------------------------------------------------\u001b[0m",
            "\u001b[0;31mKeyboardInterrupt\u001b[0m                         Traceback (most recent call last)",
            "\u001b[0;32m<ipython-input-74-2e6878661c81>\u001b[0m in \u001b[0;36m<cell line: 1>\u001b[0;34m()\u001b[0m\n\u001b[0;32m----> 1\u001b[0;31m \u001b[0mtrain_losses2\u001b[0m\u001b[0;34m,\u001b[0m \u001b[0mval_losses2\u001b[0m\u001b[0;34m,\u001b[0m \u001b[0mtrain_accuracies_y2\u001b[0m\u001b[0;34m,\u001b[0m \u001b[0mtrain_accuracies_y_c12\u001b[0m\u001b[0;34m,\u001b[0m \u001b[0mtrain_accuracies_y_c22\u001b[0m\u001b[0;34m,\u001b[0m \u001b[0mval_accuracies_y2\u001b[0m\u001b[0;34m,\u001b[0m \u001b[0mval_accuracies_y_c12\u001b[0m\u001b[0;34m,\u001b[0m \u001b[0mval_accuracies_y_c22\u001b[0m\u001b[0;34m,\u001b[0m \u001b[0mval_precisions2\u001b[0m\u001b[0;34m,\u001b[0m \u001b[0mval_recalls2\u001b[0m\u001b[0;34m,\u001b[0m \u001b[0mval_f1_scores2\u001b[0m \u001b[0;34m=\u001b[0m \u001b[0mtraining\u001b[0m\u001b[0;34m(\u001b[0m\u001b[0mmodel_base_efficientnet2\u001b[0m\u001b[0;34m,\u001b[0m \u001b[0moptimizer\u001b[0m\u001b[0;34m,\u001b[0m \u001b[0mnum_epochs\u001b[0m\u001b[0;34m,\u001b[0m \u001b[0mtrain_loader2\u001b[0m\u001b[0;34m,\u001b[0m \u001b[0mval_loader2\u001b[0m\u001b[0;34m,\u001b[0m \u001b[0mcriterion_y\u001b[0m\u001b[0;34m,\u001b[0m \u001b[0mcriterion_y_c1\u001b[0m\u001b[0;34m,\u001b[0m \u001b[0mcriterion_y_c2\u001b[0m\u001b[0;34m,\u001b[0m \u001b[0mdevice\u001b[0m\u001b[0;34m)\u001b[0m\u001b[0;34m\u001b[0m\u001b[0;34m\u001b[0m\u001b[0m\n\u001b[0m",
            "\u001b[0;32m<ipython-input-40-a924759e1d6d>\u001b[0m in \u001b[0;36mtraining\u001b[0;34m(model, optimizer, num_epochs, train_loader, val_loader, criterion_y, criterion_y_c1, criterion_y_c2, device)\u001b[0m\n\u001b[1;32m     71\u001b[0m \u001b[0;34m\u001b[0m\u001b[0m\n\u001b[1;32m     72\u001b[0m         \u001b[0;32mwith\u001b[0m \u001b[0mtorch\u001b[0m\u001b[0;34m.\u001b[0m\u001b[0mno_grad\u001b[0m\u001b[0;34m(\u001b[0m\u001b[0;34m)\u001b[0m\u001b[0;34m:\u001b[0m\u001b[0;34m\u001b[0m\u001b[0;34m\u001b[0m\u001b[0m\n\u001b[0;32m---> 73\u001b[0;31m             \u001b[0;32mfor\u001b[0m \u001b[0mval_batch\u001b[0m \u001b[0;32min\u001b[0m \u001b[0mval_loader\u001b[0m\u001b[0;34m:\u001b[0m\u001b[0;34m\u001b[0m\u001b[0;34m\u001b[0m\u001b[0m\n\u001b[0m\u001b[1;32m     74\u001b[0m                 \u001b[0mval_inputs\u001b[0m\u001b[0;34m,\u001b[0m \u001b[0mval_labels_y\u001b[0m\u001b[0;34m,\u001b[0m \u001b[0mval_labels_y_c1\u001b[0m\u001b[0;34m,\u001b[0m \u001b[0mval_labels_y_c2\u001b[0m \u001b[0;34m=\u001b[0m \u001b[0mval_batch\u001b[0m\u001b[0;34m\u001b[0m\u001b[0;34m\u001b[0m\u001b[0m\n\u001b[1;32m     75\u001b[0m \u001b[0;34m\u001b[0m\u001b[0m\n",
            "\u001b[0;32m/usr/local/lib/python3.10/dist-packages/torch/utils/data/dataloader.py\u001b[0m in \u001b[0;36m__next__\u001b[0;34m(self)\u001b[0m\n\u001b[1;32m    628\u001b[0m                 \u001b[0;31m# TODO(https://github.com/pytorch/pytorch/issues/76750)\u001b[0m\u001b[0;34m\u001b[0m\u001b[0;34m\u001b[0m\u001b[0m\n\u001b[1;32m    629\u001b[0m                 \u001b[0mself\u001b[0m\u001b[0;34m.\u001b[0m\u001b[0m_reset\u001b[0m\u001b[0;34m(\u001b[0m\u001b[0;34m)\u001b[0m  \u001b[0;31m# type: ignore[call-arg]\u001b[0m\u001b[0;34m\u001b[0m\u001b[0;34m\u001b[0m\u001b[0m\n\u001b[0;32m--> 630\u001b[0;31m             \u001b[0mdata\u001b[0m \u001b[0;34m=\u001b[0m \u001b[0mself\u001b[0m\u001b[0;34m.\u001b[0m\u001b[0m_next_data\u001b[0m\u001b[0;34m(\u001b[0m\u001b[0;34m)\u001b[0m\u001b[0;34m\u001b[0m\u001b[0;34m\u001b[0m\u001b[0m\n\u001b[0m\u001b[1;32m    631\u001b[0m             \u001b[0mself\u001b[0m\u001b[0;34m.\u001b[0m\u001b[0m_num_yielded\u001b[0m \u001b[0;34m+=\u001b[0m \u001b[0;36m1\u001b[0m\u001b[0;34m\u001b[0m\u001b[0;34m\u001b[0m\u001b[0m\n\u001b[1;32m    632\u001b[0m             \u001b[0;32mif\u001b[0m \u001b[0mself\u001b[0m\u001b[0;34m.\u001b[0m\u001b[0m_dataset_kind\u001b[0m \u001b[0;34m==\u001b[0m \u001b[0m_DatasetKind\u001b[0m\u001b[0;34m.\u001b[0m\u001b[0mIterable\u001b[0m \u001b[0;32mand\u001b[0m\u001b[0;31m \u001b[0m\u001b[0;31m\\\u001b[0m\u001b[0;34m\u001b[0m\u001b[0;34m\u001b[0m\u001b[0m\n",
            "\u001b[0;32m/usr/local/lib/python3.10/dist-packages/torch/utils/data/dataloader.py\u001b[0m in \u001b[0;36m_next_data\u001b[0;34m(self)\u001b[0m\n\u001b[1;32m    671\u001b[0m     \u001b[0;32mdef\u001b[0m \u001b[0m_next_data\u001b[0m\u001b[0;34m(\u001b[0m\u001b[0mself\u001b[0m\u001b[0;34m)\u001b[0m\u001b[0;34m:\u001b[0m\u001b[0;34m\u001b[0m\u001b[0;34m\u001b[0m\u001b[0m\n\u001b[1;32m    672\u001b[0m         \u001b[0mindex\u001b[0m \u001b[0;34m=\u001b[0m \u001b[0mself\u001b[0m\u001b[0;34m.\u001b[0m\u001b[0m_next_index\u001b[0m\u001b[0;34m(\u001b[0m\u001b[0;34m)\u001b[0m  \u001b[0;31m# may raise StopIteration\u001b[0m\u001b[0;34m\u001b[0m\u001b[0;34m\u001b[0m\u001b[0m\n\u001b[0;32m--> 673\u001b[0;31m         \u001b[0mdata\u001b[0m \u001b[0;34m=\u001b[0m \u001b[0mself\u001b[0m\u001b[0;34m.\u001b[0m\u001b[0m_dataset_fetcher\u001b[0m\u001b[0;34m.\u001b[0m\u001b[0mfetch\u001b[0m\u001b[0;34m(\u001b[0m\u001b[0mindex\u001b[0m\u001b[0;34m)\u001b[0m  \u001b[0;31m# may raise StopIteration\u001b[0m\u001b[0;34m\u001b[0m\u001b[0;34m\u001b[0m\u001b[0m\n\u001b[0m\u001b[1;32m    674\u001b[0m         \u001b[0;32mif\u001b[0m \u001b[0mself\u001b[0m\u001b[0;34m.\u001b[0m\u001b[0m_pin_memory\u001b[0m\u001b[0;34m:\u001b[0m\u001b[0;34m\u001b[0m\u001b[0;34m\u001b[0m\u001b[0m\n\u001b[1;32m    675\u001b[0m             \u001b[0mdata\u001b[0m \u001b[0;34m=\u001b[0m \u001b[0m_utils\u001b[0m\u001b[0;34m.\u001b[0m\u001b[0mpin_memory\u001b[0m\u001b[0;34m.\u001b[0m\u001b[0mpin_memory\u001b[0m\u001b[0;34m(\u001b[0m\u001b[0mdata\u001b[0m\u001b[0;34m,\u001b[0m \u001b[0mself\u001b[0m\u001b[0;34m.\u001b[0m\u001b[0m_pin_memory_device\u001b[0m\u001b[0;34m)\u001b[0m\u001b[0;34m\u001b[0m\u001b[0;34m\u001b[0m\u001b[0m\n",
            "\u001b[0;32m/usr/local/lib/python3.10/dist-packages/torch/utils/data/_utils/fetch.py\u001b[0m in \u001b[0;36mfetch\u001b[0;34m(self, possibly_batched_index)\u001b[0m\n\u001b[1;32m     50\u001b[0m                 \u001b[0mdata\u001b[0m \u001b[0;34m=\u001b[0m \u001b[0mself\u001b[0m\u001b[0;34m.\u001b[0m\u001b[0mdataset\u001b[0m\u001b[0;34m.\u001b[0m\u001b[0m__getitems__\u001b[0m\u001b[0;34m(\u001b[0m\u001b[0mpossibly_batched_index\u001b[0m\u001b[0;34m)\u001b[0m\u001b[0;34m\u001b[0m\u001b[0;34m\u001b[0m\u001b[0m\n\u001b[1;32m     51\u001b[0m             \u001b[0;32melse\u001b[0m\u001b[0;34m:\u001b[0m\u001b[0;34m\u001b[0m\u001b[0;34m\u001b[0m\u001b[0m\n\u001b[0;32m---> 52\u001b[0;31m                 \u001b[0mdata\u001b[0m \u001b[0;34m=\u001b[0m \u001b[0;34m[\u001b[0m\u001b[0mself\u001b[0m\u001b[0;34m.\u001b[0m\u001b[0mdataset\u001b[0m\u001b[0;34m[\u001b[0m\u001b[0midx\u001b[0m\u001b[0;34m]\u001b[0m \u001b[0;32mfor\u001b[0m \u001b[0midx\u001b[0m \u001b[0;32min\u001b[0m \u001b[0mpossibly_batched_index\u001b[0m\u001b[0;34m]\u001b[0m\u001b[0;34m\u001b[0m\u001b[0;34m\u001b[0m\u001b[0m\n\u001b[0m\u001b[1;32m     53\u001b[0m         \u001b[0;32melse\u001b[0m\u001b[0;34m:\u001b[0m\u001b[0;34m\u001b[0m\u001b[0;34m\u001b[0m\u001b[0m\n\u001b[1;32m     54\u001b[0m             \u001b[0mdata\u001b[0m \u001b[0;34m=\u001b[0m \u001b[0mself\u001b[0m\u001b[0;34m.\u001b[0m\u001b[0mdataset\u001b[0m\u001b[0;34m[\u001b[0m\u001b[0mpossibly_batched_index\u001b[0m\u001b[0;34m]\u001b[0m\u001b[0;34m\u001b[0m\u001b[0;34m\u001b[0m\u001b[0m\n",
            "\u001b[0;32m/usr/local/lib/python3.10/dist-packages/torch/utils/data/_utils/fetch.py\u001b[0m in \u001b[0;36m<listcomp>\u001b[0;34m(.0)\u001b[0m\n\u001b[1;32m     50\u001b[0m                 \u001b[0mdata\u001b[0m \u001b[0;34m=\u001b[0m \u001b[0mself\u001b[0m\u001b[0;34m.\u001b[0m\u001b[0mdataset\u001b[0m\u001b[0;34m.\u001b[0m\u001b[0m__getitems__\u001b[0m\u001b[0;34m(\u001b[0m\u001b[0mpossibly_batched_index\u001b[0m\u001b[0;34m)\u001b[0m\u001b[0;34m\u001b[0m\u001b[0;34m\u001b[0m\u001b[0m\n\u001b[1;32m     51\u001b[0m             \u001b[0;32melse\u001b[0m\u001b[0;34m:\u001b[0m\u001b[0;34m\u001b[0m\u001b[0;34m\u001b[0m\u001b[0m\n\u001b[0;32m---> 52\u001b[0;31m                 \u001b[0mdata\u001b[0m \u001b[0;34m=\u001b[0m \u001b[0;34m[\u001b[0m\u001b[0mself\u001b[0m\u001b[0;34m.\u001b[0m\u001b[0mdataset\u001b[0m\u001b[0;34m[\u001b[0m\u001b[0midx\u001b[0m\u001b[0;34m]\u001b[0m \u001b[0;32mfor\u001b[0m \u001b[0midx\u001b[0m \u001b[0;32min\u001b[0m \u001b[0mpossibly_batched_index\u001b[0m\u001b[0;34m]\u001b[0m\u001b[0;34m\u001b[0m\u001b[0;34m\u001b[0m\u001b[0m\n\u001b[0m\u001b[1;32m     53\u001b[0m         \u001b[0;32melse\u001b[0m\u001b[0;34m:\u001b[0m\u001b[0;34m\u001b[0m\u001b[0;34m\u001b[0m\u001b[0m\n\u001b[1;32m     54\u001b[0m             \u001b[0mdata\u001b[0m \u001b[0;34m=\u001b[0m \u001b[0mself\u001b[0m\u001b[0;34m.\u001b[0m\u001b[0mdataset\u001b[0m\u001b[0;34m[\u001b[0m\u001b[0mpossibly_batched_index\u001b[0m\u001b[0;34m]\u001b[0m\u001b[0;34m\u001b[0m\u001b[0;34m\u001b[0m\u001b[0m\n",
            "\u001b[0;31mKeyboardInterrupt\u001b[0m: "
          ]
        }
      ]
    },
    {
      "cell_type": "markdown",
      "source": [],
      "metadata": {
        "id": "_NdDhBzQYmW8"
      }
    },
    {
      "cell_type": "code",
      "source": [
        "train_losses2, val_losses2, train_accuracies_y2, train_accuracies_y_c12, train_accuracies_y_c22, val_accuraci0es_y2, val_accuracies_y_c12, val_accuracies_y_c22, val_precisions, val_recalls, val_f1_scores = training(model_base_efficientnet2, optimizer, num_epochs, train_loader, val_loader, criterion_y, criterion_y_c1, criterion_y_c2, device)"
      ],
      "metadata": {
        "colab": {
          "base_uri": "https://localhost:8080/",
          "height": 1000
        },
        "id": "Z56YynOk4Xrt",
        "outputId": "549ffd9f-4eb2-44b5-ce82-198825d2362d"
      },
      "execution_count": 49,
      "outputs": [
        {
          "output_type": "stream",
          "name": "stdout",
          "text": [
            "\n",
            "Epoch [1/100] Training Loss: 8.1528, Accuracies Y/C1/C2: 12.95%, 35.72%, 24.02% | Validation Loss: 7.7370, Accuracies Y/C1/C2: 16.24%, 38.61%, 27.38%\n",
            "\n",
            "\n",
            "Epoch [2/100] Training Loss: 7.7059, Accuracies Y/C1/C2: 17.30%, 37.78%, 27.20% | Validation Loss: 7.6737, Accuracies Y/C1/C2: 16.87%, 37.71%, 27.87%\n",
            "\n",
            "\n",
            "Epoch [3/100] Training Loss: 7.6155, Accuracies Y/C1/C2: 18.04%, 38.53%, 27.95% | Validation Loss: 7.7199, Accuracies Y/C1/C2: 16.81%, 38.58%, 28.08%\n",
            "\n",
            "\n",
            "Epoch [4/100] Training Loss: 7.5704, Accuracies Y/C1/C2: 18.61%, 38.94%, 28.23% | Validation Loss: 7.7115, Accuracies Y/C1/C2: 16.56%, 37.41%, 28.11%\n",
            "\n",
            "\n",
            "Epoch [5/100] Training Loss: 7.5340, Accuracies Y/C1/C2: 18.91%, 38.93%, 28.50% | Validation Loss: 7.7098, Accuracies Y/C1/C2: 16.98%, 39.30%, 28.57%\n",
            "\n",
            "\n",
            "Epoch [6/100] Training Loss: 7.5130, Accuracies Y/C1/C2: 19.23%, 39.14%, 28.50% | Validation Loss: 7.7547, Accuracies Y/C1/C2: 16.90%, 38.68%, 28.34%\n",
            "\n",
            "\n",
            "Epoch [7/100] Training Loss: 7.4995, Accuracies Y/C1/C2: 19.20%, 39.21%, 28.95% | Validation Loss: 7.7466, Accuracies Y/C1/C2: 16.95%, 39.19%, 28.26%\n",
            "\n",
            "\n",
            "Epoch [8/100] Training Loss: 7.4709, Accuracies Y/C1/C2: 19.79%, 38.77%, 28.65% | Validation Loss: 7.7389, Accuracies Y/C1/C2: 17.12%, 39.44%, 27.87%\n",
            "\n",
            "\n",
            "Epoch [9/100] Training Loss: 7.4797, Accuracies Y/C1/C2: 19.59%, 38.87%, 28.96% | Validation Loss: 7.7335, Accuracies Y/C1/C2: 17.23%, 38.70%, 28.08%\n",
            "\n",
            "\n",
            "Epoch [10/100] Training Loss: 7.4741, Accuracies Y/C1/C2: 19.70%, 38.91%, 28.64% | Validation Loss: 7.7359, Accuracies Y/C1/C2: 17.19%, 40.05%, 28.34%\n",
            "\n",
            "\n",
            "Epoch [11/100] Training Loss: 7.4412, Accuracies Y/C1/C2: 19.84%, 39.42%, 28.91% | Validation Loss: 7.7863, Accuracies Y/C1/C2: 16.46%, 40.51%, 28.40%\n",
            "\n",
            "\n",
            "Epoch [12/100] Training Loss: 7.4460, Accuracies Y/C1/C2: 19.82%, 39.22%, 29.13% | Validation Loss: 7.8235, Accuracies Y/C1/C2: 16.54%, 40.22%, 28.17%\n",
            "\n",
            "\n",
            "Epoch [13/100] Training Loss: 7.4492, Accuracies Y/C1/C2: 19.91%, 39.42%, 29.01% | Validation Loss: 7.7817, Accuracies Y/C1/C2: 16.91%, 39.44%, 28.39%\n",
            "\n",
            "\n",
            "Epoch [14/100] Training Loss: 7.4351, Accuracies Y/C1/C2: 20.18%, 39.04%, 29.28% | Validation Loss: 7.8150, Accuracies Y/C1/C2: 16.87%, 39.72%, 27.95%\n",
            "\n",
            "\n",
            "Epoch [15/100] Training Loss: 7.4428, Accuracies Y/C1/C2: 20.07%, 39.23%, 28.95% | Validation Loss: 7.7888, Accuracies Y/C1/C2: 17.02%, 39.11%, 28.10%\n",
            "\n",
            "\n",
            "Epoch [16/100] Training Loss: 7.4305, Accuracies Y/C1/C2: 20.39%, 39.36%, 29.30% | Validation Loss: 7.8165, Accuracies Y/C1/C2: 16.72%, 41.11%, 27.65%\n",
            "\n",
            "\n",
            "Epoch [17/100] Training Loss: 7.4303, Accuracies Y/C1/C2: 20.10%, 39.41%, 29.21% | Validation Loss: 7.7646, Accuracies Y/C1/C2: 17.17%, 40.08%, 28.49%\n",
            "\n",
            "\n",
            "Epoch [18/100] Training Loss: 7.4423, Accuracies Y/C1/C2: 20.30%, 39.46%, 29.03% | Validation Loss: 7.8118, Accuracies Y/C1/C2: 16.78%, 38.52%, 28.01%\n",
            "\n",
            "\n",
            "Epoch [19/100] Training Loss: 7.4215, Accuracies Y/C1/C2: 20.25%, 39.46%, 29.14% | Validation Loss: 7.7822, Accuracies Y/C1/C2: 16.66%, 38.52%, 27.82%\n",
            "\n",
            "\n",
            "Epoch [20/100] Training Loss: 7.4426, Accuracies Y/C1/C2: 20.30%, 39.08%, 28.92% | Validation Loss: 7.8142, Accuracies Y/C1/C2: 16.88%, 39.34%, 27.94%\n",
            "\n",
            "\n",
            "Epoch [21/100] Training Loss: 7.4416, Accuracies Y/C1/C2: 20.51%, 39.11%, 29.13% | Validation Loss: 7.8654, Accuracies Y/C1/C2: 16.36%, 38.67%, 27.71%\n",
            "\n",
            "\n",
            "Epoch [22/100] Training Loss: 7.4333, Accuracies Y/C1/C2: 20.28%, 39.71%, 29.18% | Validation Loss: 7.8288, Accuracies Y/C1/C2: 16.52%, 39.78%, 28.17%\n",
            "\n",
            "\n",
            "Epoch [23/100] Training Loss: 7.4186, Accuracies Y/C1/C2: 20.44%, 39.60%, 29.29% | Validation Loss: 7.8319, Accuracies Y/C1/C2: 16.45%, 38.31%, 28.65%\n",
            "\n",
            "\n",
            "Epoch [24/100] Training Loss: 7.4277, Accuracies Y/C1/C2: 20.25%, 39.34%, 29.14% | Validation Loss: 7.8131, Accuracies Y/C1/C2: 16.26%, 39.52%, 27.74%\n",
            "\n",
            "\n",
            "Epoch [25/100] Training Loss: 7.4132, Accuracies Y/C1/C2: 20.64%, 39.27%, 29.30% | Validation Loss: 7.8598, Accuracies Y/C1/C2: 16.62%, 39.71%, 28.08%\n",
            "\n",
            "\n",
            "Epoch [26/100] Training Loss: 7.4331, Accuracies Y/C1/C2: 20.43%, 39.34%, 29.16% | Validation Loss: 7.8298, Accuracies Y/C1/C2: 16.20%, 39.76%, 27.67%\n",
            "\n",
            "\n",
            "Epoch [27/100] Training Loss: 7.4237, Accuracies Y/C1/C2: 20.51%, 39.53%, 29.05% | Validation Loss: 7.8288, Accuracies Y/C1/C2: 16.29%, 38.77%, 28.02%\n",
            "\n",
            "\n",
            "Epoch [28/100] Training Loss: 7.4259, Accuracies Y/C1/C2: 20.64%, 39.41%, 28.92% | Validation Loss: 7.8393, Accuracies Y/C1/C2: 17.26%, 39.29%, 28.49%\n",
            "\n",
            "\n",
            "Epoch [29/100] Training Loss: 7.4209, Accuracies Y/C1/C2: 20.62%, 39.51%, 28.82% | Validation Loss: 7.8470, Accuracies Y/C1/C2: 16.28%, 37.58%, 27.86%\n",
            "\n",
            "\n",
            "Epoch [30/100] Training Loss: 7.4266, Accuracies Y/C1/C2: 20.56%, 39.60%, 29.53% | Validation Loss: 7.8403, Accuracies Y/C1/C2: 16.74%, 39.41%, 28.71%\n",
            "\n",
            "\n",
            "Epoch [31/100] Training Loss: 7.4216, Accuracies Y/C1/C2: 20.30%, 39.32%, 29.26% | Validation Loss: 7.8443, Accuracies Y/C1/C2: 16.62%, 39.57%, 28.17%\n",
            "\n",
            "\n",
            "Epoch [32/100] Training Loss: 7.4087, Accuracies Y/C1/C2: 20.84%, 39.53%, 29.14% | Validation Loss: 7.8332, Accuracies Y/C1/C2: 16.07%, 38.42%, 28.13%\n",
            "\n",
            "\n",
            "Epoch [33/100] Training Loss: 7.4289, Accuracies Y/C1/C2: 20.43%, 39.35%, 29.40% | Validation Loss: 7.8112, Accuracies Y/C1/C2: 16.23%, 39.43%, 27.99%\n",
            "\n",
            "\n",
            "Epoch [34/100] Training Loss: 7.4187, Accuracies Y/C1/C2: 20.67%, 39.41%, 29.27% | Validation Loss: 7.8290, Accuracies Y/C1/C2: 16.87%, 39.13%, 28.56%\n",
            "\n",
            "\n",
            "Epoch [35/100] Training Loss: 7.4069, Accuracies Y/C1/C2: 20.75%, 39.56%, 29.66% | Validation Loss: 7.8424, Accuracies Y/C1/C2: 16.71%, 39.06%, 28.12%\n",
            "\n",
            "\n",
            "Epoch [36/100] Training Loss: 7.4220, Accuracies Y/C1/C2: 20.52%, 39.29%, 29.24% | Validation Loss: 7.8274, Accuracies Y/C1/C2: 16.36%, 38.25%, 28.31%\n",
            "\n",
            "\n",
            "Epoch [37/100] Training Loss: 7.4321, Accuracies Y/C1/C2: 20.33%, 39.14%, 28.97% | Validation Loss: 7.8456, Accuracies Y/C1/C2: 16.21%, 36.99%, 28.60%\n",
            "\n",
            "\n",
            "Epoch [38/100] Training Loss: 7.4142, Accuracies Y/C1/C2: 20.30%, 39.66%, 29.34% | Validation Loss: 7.8561, Accuracies Y/C1/C2: 16.43%, 39.11%, 28.24%\n",
            "\n",
            "\n",
            "Epoch [39/100] Training Loss: 7.4469, Accuracies Y/C1/C2: 20.48%, 39.21%, 29.22% | Validation Loss: 7.8015, Accuracies Y/C1/C2: 16.85%, 38.62%, 28.74%\n",
            "\n",
            "\n",
            "Epoch [40/100] Training Loss: 7.4204, Accuracies Y/C1/C2: 20.68%, 39.45%, 29.21% | Validation Loss: 7.8366, Accuracies Y/C1/C2: 16.52%, 39.19%, 28.60%\n",
            "\n",
            "\n",
            "Epoch [41/100] Training Loss: 7.4107, Accuracies Y/C1/C2: 20.63%, 39.35%, 29.28% | Validation Loss: 7.8560, Accuracies Y/C1/C2: 16.84%, 38.74%, 28.55%\n",
            "\n",
            "\n",
            "Epoch [42/100] Training Loss: 7.4181, Accuracies Y/C1/C2: 20.45%, 39.57%, 29.33% | Validation Loss: 7.8456, Accuracies Y/C1/C2: 16.69%, 38.38%, 28.43%\n",
            "\n",
            "\n",
            "Epoch [43/100] Training Loss: 7.3957, Accuracies Y/C1/C2: 20.60%, 39.56%, 29.60% | Validation Loss: 7.8741, Accuracies Y/C1/C2: 16.48%, 39.85%, 28.00%\n",
            "\n",
            "\n",
            "Epoch [44/100] Training Loss: 7.4250, Accuracies Y/C1/C2: 20.70%, 39.58%, 29.16% | Validation Loss: 7.8888, Accuracies Y/C1/C2: 16.42%, 39.35%, 28.00%\n",
            "\n",
            "\n",
            "Epoch [45/100] Training Loss: 7.4123, Accuracies Y/C1/C2: 20.71%, 39.45%, 29.11% | Validation Loss: 7.8368, Accuracies Y/C1/C2: 16.78%, 38.83%, 28.85%\n",
            "\n",
            "\n",
            "Epoch [46/100] Training Loss: 7.4254, Accuracies Y/C1/C2: 20.66%, 39.73%, 29.26% | Validation Loss: 7.8583, Accuracies Y/C1/C2: 16.31%, 39.97%, 28.57%\n",
            "\n",
            "\n",
            "Epoch [47/100] Training Loss: 7.4534, Accuracies Y/C1/C2: 20.43%, 39.12%, 29.05% | Validation Loss: 7.8420, Accuracies Y/C1/C2: 16.75%, 40.41%, 27.64%\n",
            "\n",
            "\n",
            "Epoch [48/100] Training Loss: 7.4164, Accuracies Y/C1/C2: 20.61%, 39.74%, 29.52% | Validation Loss: 7.8435, Accuracies Y/C1/C2: 16.39%, 40.15%, 28.23%\n",
            "\n",
            "\n",
            "Epoch [49/100] Training Loss: 7.4144, Accuracies Y/C1/C2: 20.58%, 39.75%, 29.38% | Validation Loss: 7.8167, Accuracies Y/C1/C2: 16.33%, 38.30%, 28.64%\n",
            "\n",
            "\n",
            "Epoch [50/100] Training Loss: 7.4100, Accuracies Y/C1/C2: 20.48%, 39.41%, 29.44% | Validation Loss: 7.8393, Accuracies Y/C1/C2: 16.91%, 38.35%, 27.73%\n",
            "\n",
            "\n",
            "Epoch [51/100] Training Loss: 7.4537, Accuracies Y/C1/C2: 20.29%, 39.01%, 29.00% | Validation Loss: 7.8296, Accuracies Y/C1/C2: 16.71%, 40.22%, 28.12%\n",
            "\n",
            "\n",
            "Epoch [52/100] Training Loss: 7.4160, Accuracies Y/C1/C2: 20.66%, 39.50%, 29.40% | Validation Loss: 7.8476, Accuracies Y/C1/C2: 16.69%, 40.36%, 28.39%\n",
            "\n",
            "\n",
            "Epoch [53/100] Training Loss: 7.4180, Accuracies Y/C1/C2: 20.33%, 39.74%, 29.12% | Validation Loss: 7.8515, Accuracies Y/C1/C2: 16.39%, 38.60%, 28.17%\n",
            "\n",
            "\n",
            "Epoch [54/100] Training Loss: 7.4302, Accuracies Y/C1/C2: 20.93%, 39.30%, 29.14% | Validation Loss: 7.8344, Accuracies Y/C1/C2: 16.03%, 40.34%, 28.05%\n",
            "\n",
            "\n",
            "Epoch [55/100] Training Loss: 7.4110, Accuracies Y/C1/C2: 20.53%, 39.00%, 29.14% | Validation Loss: 7.8932, Accuracies Y/C1/C2: 16.56%, 39.75%, 28.05%\n",
            "\n",
            "\n",
            "Epoch [56/100] Training Loss: 7.4406, Accuracies Y/C1/C2: 20.66%, 39.34%, 29.15% | Validation Loss: 7.8586, Accuracies Y/C1/C2: 16.14%, 39.37%, 28.30%\n",
            "\n",
            "\n",
            "Epoch [57/100] Training Loss: 7.4254, Accuracies Y/C1/C2: 20.75%, 39.22%, 29.12% | Validation Loss: 7.8578, Accuracies Y/C1/C2: 16.89%, 39.70%, 28.51%\n",
            "\n",
            "\n",
            "Epoch [58/100] Training Loss: 7.4240, Accuracies Y/C1/C2: 20.94%, 39.24%, 29.19% | Validation Loss: 7.8845, Accuracies Y/C1/C2: 16.16%, 40.30%, 27.88%\n",
            "\n",
            "\n",
            "Epoch [59/100] Training Loss: 7.4088, Accuracies Y/C1/C2: 20.88%, 39.88%, 29.29% | Validation Loss: 7.8570, Accuracies Y/C1/C2: 16.34%, 39.81%, 27.81%\n",
            "\n",
            "\n",
            "Epoch [60/100] Training Loss: 7.4147, Accuracies Y/C1/C2: 20.50%, 39.58%, 29.46% | Validation Loss: 7.8215, Accuracies Y/C1/C2: 16.73%, 39.52%, 27.52%\n",
            "\n",
            "\n",
            "Epoch [61/100] Training Loss: 7.4075, Accuracies Y/C1/C2: 20.48%, 39.49%, 29.20% | Validation Loss: 7.8676, Accuracies Y/C1/C2: 16.24%, 39.18%, 27.68%\n",
            "\n",
            "\n",
            "Epoch [62/100] Training Loss: 7.4162, Accuracies Y/C1/C2: 20.78%, 39.55%, 29.31% | Validation Loss: 7.8706, Accuracies Y/C1/C2: 16.41%, 38.72%, 28.12%\n",
            "\n",
            "\n",
            "Epoch [63/100] Training Loss: 7.4110, Accuracies Y/C1/C2: 20.43%, 39.67%, 29.02% | Validation Loss: 7.8578, Accuracies Y/C1/C2: 16.79%, 39.81%, 28.06%\n",
            "\n",
            "\n",
            "Epoch [64/100] Training Loss: 7.4168, Accuracies Y/C1/C2: 20.68%, 39.35%, 29.57% | Validation Loss: 7.8216, Accuracies Y/C1/C2: 16.81%, 39.55%, 28.43%\n",
            "\n",
            "\n",
            "Epoch [65/100] Training Loss: 7.4438, Accuracies Y/C1/C2: 20.56%, 39.22%, 29.12% | Validation Loss: 7.8516, Accuracies Y/C1/C2: 16.66%, 39.52%, 28.44%\n",
            "\n",
            "\n",
            "Epoch [66/100] Training Loss: 7.4156, Accuracies Y/C1/C2: 20.73%, 39.49%, 29.57% | Validation Loss: 7.8483, Accuracies Y/C1/C2: 17.32%, 38.96%, 28.56%\n",
            "\n",
            "\n",
            "Epoch [67/100] Training Loss: 7.4087, Accuracies Y/C1/C2: 20.94%, 39.79%, 29.55% | Validation Loss: 7.8815, Accuracies Y/C1/C2: 16.61%, 38.86%, 28.50%\n",
            "\n",
            "\n",
            "Epoch [68/100] Training Loss: 7.4361, Accuracies Y/C1/C2: 20.47%, 39.22%, 29.16% | Validation Loss: 7.8386, Accuracies Y/C1/C2: 16.88%, 40.59%, 28.95%\n",
            "\n",
            "\n",
            "Epoch [69/100] Training Loss: 7.4367, Accuracies Y/C1/C2: 20.19%, 39.24%, 29.22% | Validation Loss: 7.8617, Accuracies Y/C1/C2: 16.54%, 39.85%, 28.08%\n",
            "\n",
            "\n",
            "Epoch [70/100] Training Loss: 7.4164, Accuracies Y/C1/C2: 20.62%, 39.40%, 29.21% | Validation Loss: 7.8488, Accuracies Y/C1/C2: 16.63%, 40.02%, 28.09%\n",
            "\n",
            "\n",
            "Epoch [71/100] Training Loss: 7.4344, Accuracies Y/C1/C2: 20.61%, 39.42%, 29.09% | Validation Loss: 7.8437, Accuracies Y/C1/C2: 16.08%, 39.67%, 28.64%\n",
            "\n",
            "\n",
            "Epoch [72/100] Training Loss: 7.4242, Accuracies Y/C1/C2: 20.50%, 39.35%, 29.26% | Validation Loss: 7.8344, Accuracies Y/C1/C2: 16.93%, 38.86%, 28.56%\n",
            "\n",
            "\n",
            "Epoch [73/100] Training Loss: 7.4398, Accuracies Y/C1/C2: 20.71%, 39.34%, 29.10% | Validation Loss: 7.8514, Accuracies Y/C1/C2: 16.70%, 38.72%, 28.30%\n",
            "\n",
            "\n",
            "Epoch [74/100] Training Loss: 7.4238, Accuracies Y/C1/C2: 20.49%, 39.45%, 29.09% | Validation Loss: 7.8584, Accuracies Y/C1/C2: 16.40%, 39.44%, 28.36%\n",
            "\n",
            "\n",
            "Epoch [75/100] Training Loss: 7.4415, Accuracies Y/C1/C2: 20.47%, 39.12%, 29.02% | Validation Loss: 7.9194, Accuracies Y/C1/C2: 16.34%, 38.78%, 28.25%\n",
            "\n",
            "\n",
            "Epoch [76/100] Training Loss: 7.4185, Accuracies Y/C1/C2: 20.51%, 39.61%, 29.32% | Validation Loss: 7.8194, Accuracies Y/C1/C2: 16.78%, 39.13%, 28.19%\n",
            "\n",
            "\n",
            "Epoch [77/100] Training Loss: 7.4266, Accuracies Y/C1/C2: 20.59%, 39.38%, 29.45% | Validation Loss: 7.8775, Accuracies Y/C1/C2: 16.93%, 38.36%, 27.89%\n",
            "\n",
            "\n",
            "Epoch [78/100] Training Loss: 7.4287, Accuracies Y/C1/C2: 20.59%, 39.32%, 29.12% | Validation Loss: 7.8521, Accuracies Y/C1/C2: 15.93%, 38.55%, 28.24%\n",
            "\n",
            "\n",
            "Epoch [79/100] Training Loss: 7.4247, Accuracies Y/C1/C2: 20.67%, 39.34%, 29.07% | Validation Loss: 7.8521, Accuracies Y/C1/C2: 16.46%, 40.82%, 28.78%\n",
            "\n",
            "\n",
            "Epoch [80/100] Training Loss: 7.4238, Accuracies Y/C1/C2: 20.70%, 39.28%, 29.16% | Validation Loss: 7.9094, Accuracies Y/C1/C2: 16.71%, 38.53%, 28.50%\n",
            "\n",
            "\n",
            "Epoch [81/100] Training Loss: 7.4509, Accuracies Y/C1/C2: 20.49%, 39.25%, 29.18% | Validation Loss: 7.8678, Accuracies Y/C1/C2: 16.53%, 38.64%, 28.40%\n",
            "\n",
            "\n",
            "Epoch [82/100] Training Loss: 7.4398, Accuracies Y/C1/C2: 20.45%, 39.10%, 29.10% | Validation Loss: 7.8655, Accuracies Y/C1/C2: 16.23%, 40.00%, 27.99%\n",
            "\n",
            "\n",
            "Epoch [83/100] Training Loss: 7.4434, Accuracies Y/C1/C2: 20.45%, 39.56%, 29.05% | Validation Loss: 7.8633, Accuracies Y/C1/C2: 16.50%, 38.82%, 28.87%\n",
            "\n",
            "\n",
            "Epoch [84/100] Training Loss: 7.4339, Accuracies Y/C1/C2: 20.85%, 39.17%, 29.05% | Validation Loss: 7.8304, Accuracies Y/C1/C2: 16.60%, 39.91%, 28.64%\n",
            "\n",
            "\n",
            "Epoch [85/100] Training Loss: 7.4583, Accuracies Y/C1/C2: 20.27%, 38.85%, 29.04% | Validation Loss: 7.8916, Accuracies Y/C1/C2: 16.91%, 38.53%, 27.59%\n",
            "\n",
            "\n",
            "Epoch [86/100] Training Loss: 7.4356, Accuracies Y/C1/C2: 20.91%, 39.12%, 29.11% | Validation Loss: 7.8652, Accuracies Y/C1/C2: 16.17%, 40.51%, 28.23%\n",
            "\n",
            "\n",
            "Epoch [87/100] Training Loss: 7.4570, Accuracies Y/C1/C2: 20.30%, 39.17%, 28.85% | Validation Loss: 7.8598, Accuracies Y/C1/C2: 16.40%, 38.96%, 28.21%\n",
            "\n",
            "\n",
            "Epoch [88/100] Training Loss: 7.4350, Accuracies Y/C1/C2: 20.37%, 39.59%, 28.86% | Validation Loss: 7.8301, Accuracies Y/C1/C2: 16.62%, 38.57%, 28.41%\n",
            "\n",
            "\n",
            "Epoch [89/100] Training Loss: 7.4427, Accuracies Y/C1/C2: 20.44%, 39.26%, 29.21% | Validation Loss: 7.8440, Accuracies Y/C1/C2: 16.32%, 40.19%, 28.49%\n",
            "\n",
            "\n",
            "Epoch [90/100] Training Loss: 7.4220, Accuracies Y/C1/C2: 20.48%, 39.48%, 29.16% | Validation Loss: 7.8791, Accuracies Y/C1/C2: 17.09%, 39.65%, 27.76%\n",
            "\n",
            "\n",
            "Epoch [91/100] Training Loss: 7.4265, Accuracies Y/C1/C2: 20.75%, 39.13%, 29.00% | Validation Loss: 7.8710, Accuracies Y/C1/C2: 16.52%, 38.63%, 27.86%\n",
            "\n",
            "\n",
            "Epoch [92/100] Training Loss: 7.4307, Accuracies Y/C1/C2: 20.45%, 39.22%, 29.36% | Validation Loss: 7.8418, Accuracies Y/C1/C2: 16.50%, 39.43%, 28.27%\n",
            "\n",
            "\n",
            "Epoch [93/100] Training Loss: 7.4338, Accuracies Y/C1/C2: 20.58%, 39.38%, 29.27% | Validation Loss: 7.8545, Accuracies Y/C1/C2: 16.34%, 39.05%, 27.92%\n",
            "\n",
            "\n",
            "Epoch [94/100] Training Loss: 7.4515, Accuracies Y/C1/C2: 20.68%, 39.53%, 29.02% | Validation Loss: 7.8850, Accuracies Y/C1/C2: 16.58%, 39.39%, 27.86%\n",
            "\n",
            "\n",
            "Epoch [95/100] Training Loss: 7.4458, Accuracies Y/C1/C2: 20.59%, 39.19%, 29.16% | Validation Loss: 7.8940, Accuracies Y/C1/C2: 16.49%, 38.97%, 28.11%\n",
            "\n",
            "\n",
            "Epoch [96/100] Training Loss: 7.4419, Accuracies Y/C1/C2: 20.39%, 38.99%, 29.14% | Validation Loss: 7.8619, Accuracies Y/C1/C2: 15.98%, 38.12%, 28.41%\n",
            "\n",
            "\n",
            "Epoch [97/100] Training Loss: 7.4328, Accuracies Y/C1/C2: 20.85%, 39.08%, 29.06% | Validation Loss: 7.8890, Accuracies Y/C1/C2: 16.46%, 39.71%, 28.29%\n",
            "\n",
            "\n",
            "Epoch [98/100] Training Loss: 7.4179, Accuracies Y/C1/C2: 20.77%, 39.53%, 29.35% | Validation Loss: 7.8656, Accuracies Y/C1/C2: 16.16%, 39.46%, 27.85%\n",
            "\n",
            "\n",
            "Epoch [99/100] Training Loss: 7.4437, Accuracies Y/C1/C2: 20.54%, 39.02%, 29.26% | Validation Loss: 7.8721, Accuracies Y/C1/C2: 16.50%, 39.61%, 28.45%\n",
            "\n",
            "\n",
            "Epoch [100/100] Training Loss: 7.4332, Accuracies Y/C1/C2: 20.78%, 39.36%, 29.23% | Validation Loss: 7.8291, Accuracies Y/C1/C2: 16.70%, 38.16%, 27.78%\n",
            "\n"
          ]
        },
        {
          "output_type": "display_data",
          "data": {
            "text/plain": [
              "<Figure size 1200x500 with 2 Axes>"
            ],
            "image/png": "[encoded data removed]"
          },
          "metadata": {}
        }
      ]
    },
    {
      "cell_type": "code",
      "source": [
        "dropout = 0.2\n",
        "\n",
        "model_base_efficientnet_2_2 = HierarchicalEfficientNet2(efficient_net_model, dropout=dropout)\n",
        "\n",
        "optimizer = torch.optim.Adam(model_base_efficientnet2.parameters(), lr=0.001)"
      ],
      "metadata": {
        "id": "-qiWavhiUQZw"
      },
      "execution_count": 62,
      "outputs": []
    },
    {
      "cell_type": "code",
      "source": [
        "train_losses22, val_losses22, train_accuracies_y22, train_accuracies_y_c122, train_accuracies_y_c222, val_accuracies_y22, val_accuracies_y_c122, val_accuracies_y_c222, val_precisions22, val_recalls22, val_f1_scores22 = training(model_base_efficientnet_2_2, optimizer, num_epochs, train_loader, val_loader, criterion_y, criterion_y_c1, criterion_y_c2, device)\n"
      ],
      "metadata": {
        "colab": {
          "base_uri": "https://localhost:8080/",
          "height": 882
        },
        "id": "oBW7HpxiXjMd",
        "outputId": "69b5d842-86ea-4366-a17d-81efbd74d4ff"
      },
      "execution_count": 63,
      "outputs": [
        {
          "output_type": "stream",
          "name": "stdout",
          "text": [
            "\n",
            "Epoch [1/100] Training Loss: 9.8035, Accuracies Y/C1/C2: 1.02%, 12.90%, 4.94% | Validation Loss: 9.7802, Accuracies Y/C1/C2: 0.95%, 13.07%, 4.88%\n",
            "\n",
            "\n",
            "Epoch [2/100] Training Loss: 9.8071, Accuracies Y/C1/C2: 1.09%, 13.13%, 5.08% | Validation Loss: 9.7811, Accuracies Y/C1/C2: 0.93%, 13.03%, 5.07%\n",
            "\n",
            "\n",
            "Epoch [3/100] Training Loss: 9.8040, Accuracies Y/C1/C2: 1.08%, 13.24%, 4.99% | Validation Loss: 9.7833, Accuracies Y/C1/C2: 0.99%, 12.96%, 4.97%\n",
            "\n",
            "\n",
            "Epoch [4/100] Training Loss: 9.8011, Accuracies Y/C1/C2: 1.09%, 13.28%, 5.14% | Validation Loss: 9.7825, Accuracies Y/C1/C2: 1.01%, 13.35%, 4.70%\n",
            "\n",
            "\n",
            "Epoch [5/100] Training Loss: 9.8057, Accuracies Y/C1/C2: 0.99%, 12.97%, 5.14% | Validation Loss: 9.7790, Accuracies Y/C1/C2: 0.98%, 13.06%, 4.92%\n",
            "\n",
            "\n",
            "Epoch [6/100] Training Loss: 9.8030, Accuracies Y/C1/C2: 1.03%, 13.28%, 4.98% | Validation Loss: 9.7802, Accuracies Y/C1/C2: 0.99%, 13.50%, 4.89%\n",
            "\n",
            "\n",
            "Epoch [7/100] Training Loss: 9.8012, Accuracies Y/C1/C2: 1.03%, 12.87%, 5.00% | Validation Loss: 9.7789, Accuracies Y/C1/C2: 0.91%, 13.20%, 4.88%\n",
            "\n",
            "\n",
            "Epoch [8/100] Training Loss: 9.8023, Accuracies Y/C1/C2: 0.98%, 13.17%, 5.14% | Validation Loss: 9.7803, Accuracies Y/C1/C2: 1.01%, 13.10%, 4.87%\n",
            "\n",
            "\n",
            "Epoch [9/100] Training Loss: 9.8022, Accuracies Y/C1/C2: 1.04%, 13.32%, 5.09% | Validation Loss: 9.7821, Accuracies Y/C1/C2: 0.87%, 13.23%, 4.61%\n",
            "\n",
            "\n",
            "Epoch [10/100] Training Loss: 9.8015, Accuracies Y/C1/C2: 1.10%, 13.30%, 5.06% | Validation Loss: 9.7821, Accuracies Y/C1/C2: 0.98%, 13.08%, 5.01%\n",
            "\n"
          ]
        },
        {
          "output_type": "error",
          "ename": "KeyboardInterrupt",
          "evalue": "",
          "traceback": [
            "\u001b[0;31m---------------------------------------------------------------------------\u001b[0m",
            "\u001b[0;31mKeyboardInterrupt\u001b[0m                         Traceback (most recent call last)",
            "\u001b[0;32m<ipython-input-63-43a6e7374a9a>\u001b[0m in \u001b[0;36m<cell line: 1>\u001b[0;34m()\u001b[0m\n\u001b[0;32m----> 1\u001b[0;31m \u001b[0mtrain_losses22\u001b[0m\u001b[0;34m,\u001b[0m \u001b[0mval_losses22\u001b[0m\u001b[0;34m,\u001b[0m \u001b[0mtrain_accuracies_y22\u001b[0m\u001b[0;34m,\u001b[0m \u001b[0mtrain_accuracies_y_c122\u001b[0m\u001b[0;34m,\u001b[0m \u001b[0mtrain_accuracies_y_c222\u001b[0m\u001b[0;34m,\u001b[0m \u001b[0mval_accuracies_y22\u001b[0m\u001b[0;34m,\u001b[0m \u001b[0mval_accuracies_y_c122\u001b[0m\u001b[0;34m,\u001b[0m \u001b[0mval_accuracies_y_c222\u001b[0m\u001b[0;34m,\u001b[0m \u001b[0mval_precisions22\u001b[0m\u001b[0;34m,\u001b[0m \u001b[0mval_recalls22\u001b[0m\u001b[0;34m,\u001b[0m \u001b[0mval_f1_scores22\u001b[0m \u001b[0;34m=\u001b[0m \u001b[0mtraining\u001b[0m\u001b[0;34m(\u001b[0m\u001b[0mmodel_base_efficientnet_2_2\u001b[0m\u001b[0;34m,\u001b[0m \u001b[0moptimizer\u001b[0m\u001b[0;34m,\u001b[0m \u001b[0mnum_epochs\u001b[0m\u001b[0;34m,\u001b[0m \u001b[0mtrain_loader\u001b[0m\u001b[0;34m,\u001b[0m \u001b[0mval_loader\u001b[0m\u001b[0;34m,\u001b[0m \u001b[0mcriterion_y\u001b[0m\u001b[0;34m,\u001b[0m \u001b[0mcriterion_y_c1\u001b[0m\u001b[0;34m,\u001b[0m \u001b[0mcriterion_y_c2\u001b[0m\u001b[0;34m,\u001b[0m \u001b[0mdevice\u001b[0m\u001b[0;34m)\u001b[0m\u001b[0;34m\u001b[0m\u001b[0;34m\u001b[0m\u001b[0m\n\u001b[0m",
            "\u001b[0;32m<ipython-input-42-a924759e1d6d>\u001b[0m in \u001b[0;36mtraining\u001b[0;34m(model, optimizer, num_epochs, train_loader, val_loader, criterion_y, criterion_y_c1, criterion_y_c2, device)\u001b[0m\n\u001b[1;32m     24\u001b[0m \u001b[0;34m\u001b[0m\u001b[0m\n\u001b[1;32m     25\u001b[0m             \u001b[0;31m# Hacer una pasada hacia adelante\u001b[0m\u001b[0;34m\u001b[0m\u001b[0;34m\u001b[0m\u001b[0m\n\u001b[0;32m---> 26\u001b[0;31m             \u001b[0moutputs\u001b[0m \u001b[0;34m=\u001b[0m \u001b[0mmodel\u001b[0m\u001b[0;34m(\u001b[0m\u001b[0minputs\u001b[0m\u001b[0;34m)\u001b[0m\u001b[0;34m\u001b[0m\u001b[0;34m\u001b[0m\u001b[0m\n\u001b[0m\u001b[1;32m     27\u001b[0m \u001b[0;34m\u001b[0m\u001b[0m\n\u001b[1;32m     28\u001b[0m             \u001b[0;31m# Calcular las pérdidas\u001b[0m\u001b[0;34m\u001b[0m\u001b[0;34m\u001b[0m\u001b[0m\n",
            "\u001b[0;32m/usr/local/lib/python3.10/dist-packages/torch/nn/modules/module.py\u001b[0m in \u001b[0;36m_wrapped_call_impl\u001b[0;34m(self, *args, **kwargs)\u001b[0m\n\u001b[1;32m   1551\u001b[0m             \u001b[0;32mreturn\u001b[0m \u001b[0mself\u001b[0m\u001b[0;34m.\u001b[0m\u001b[0m_compiled_call_impl\u001b[0m\u001b[0;34m(\u001b[0m\u001b[0;34m*\u001b[0m\u001b[0margs\u001b[0m\u001b[0;34m,\u001b[0m \u001b[0;34m**\u001b[0m\u001b[0mkwargs\u001b[0m\u001b[0;34m)\u001b[0m  \u001b[0;31m# type: ignore[misc]\u001b[0m\u001b[0;34m\u001b[0m\u001b[0;34m\u001b[0m\u001b[0m\n\u001b[1;32m   1552\u001b[0m         \u001b[0;32melse\u001b[0m\u001b[0;34m:\u001b[0m\u001b[0;34m\u001b[0m\u001b[0;34m\u001b[0m\u001b[0m\n\u001b[0;32m-> 1553\u001b[0;31m             \u001b[0;32mreturn\u001b[0m \u001b[0mself\u001b[0m\u001b[0;34m.\u001b[0m\u001b[0m_call_impl\u001b[0m\u001b[0;34m(\u001b[0m\u001b[0;34m*\u001b[0m\u001b[0margs\u001b[0m\u001b[0;34m,\u001b[0m \u001b[0;34m**\u001b[0m\u001b[0mkwargs\u001b[0m\u001b[0;34m)\u001b[0m\u001b[0;34m\u001b[0m\u001b[0;34m\u001b[0m\u001b[0m\n\u001b[0m\u001b[1;32m   1554\u001b[0m \u001b[0;34m\u001b[0m\u001b[0m\n\u001b[1;32m   1555\u001b[0m     \u001b[0;32mdef\u001b[0m \u001b[0m_call_impl\u001b[0m\u001b[0;34m(\u001b[0m\u001b[0mself\u001b[0m\u001b[0;34m,\u001b[0m \u001b[0;34m*\u001b[0m\u001b[0margs\u001b[0m\u001b[0;34m,\u001b[0m \u001b[0;34m**\u001b[0m\u001b[0mkwargs\u001b[0m\u001b[0;34m)\u001b[0m\u001b[0;34m:\u001b[0m\u001b[0;34m\u001b[0m\u001b[0;34m\u001b[0m\u001b[0m\n",
            "\u001b[0;32m/usr/local/lib/python3.10/dist-packages/torch/nn/modules/module.py\u001b[0m in \u001b[0;36m_call_impl\u001b[0;34m(self, *args, **kwargs)\u001b[0m\n\u001b[1;32m   1560\u001b[0m                 \u001b[0;32mor\u001b[0m \u001b[0m_global_backward_pre_hooks\u001b[0m \u001b[0;32mor\u001b[0m \u001b[0m_global_backward_hooks\u001b[0m\u001b[0;34m\u001b[0m\u001b[0;34m\u001b[0m\u001b[0m\n\u001b[1;32m   1561\u001b[0m                 or _global_forward_hooks or _global_forward_pre_hooks):\n\u001b[0;32m-> 1562\u001b[0;31m             \u001b[0;32mreturn\u001b[0m \u001b[0mforward_call\u001b[0m\u001b[0;34m(\u001b[0m\u001b[0;34m*\u001b[0m\u001b[0margs\u001b[0m\u001b[0;34m,\u001b[0m \u001b[0;34m**\u001b[0m\u001b[0mkwargs\u001b[0m\u001b[0;34m)\u001b[0m\u001b[0;34m\u001b[0m\u001b[0;34m\u001b[0m\u001b[0m\n\u001b[0m\u001b[1;32m   1563\u001b[0m \u001b[0;34m\u001b[0m\u001b[0m\n\u001b[1;32m   1564\u001b[0m         \u001b[0;32mtry\u001b[0m\u001b[0;34m:\u001b[0m\u001b[0;34m\u001b[0m\u001b[0;34m\u001b[0m\u001b[0m\n",
            "\u001b[0;32m<ipython-input-50-04f962d9e125>\u001b[0m in \u001b[0;36mforward\u001b[0;34m(self, x)\u001b[0m\n\u001b[1;32m     17\u001b[0m     \u001b[0;32mdef\u001b[0m \u001b[0mforward\u001b[0m\u001b[0;34m(\u001b[0m\u001b[0mself\u001b[0m\u001b[0;34m,\u001b[0m \u001b[0mx\u001b[0m\u001b[0;34m)\u001b[0m\u001b[0;34m:\u001b[0m\u001b[0;34m\u001b[0m\u001b[0;34m\u001b[0m\u001b[0m\n\u001b[1;32m     18\u001b[0m         \u001b[0;31m# Extraer características de EfficientNet\u001b[0m\u001b[0;34m\u001b[0m\u001b[0;34m\u001b[0m\u001b[0m\n\u001b[0;32m---> 19\u001b[0;31m         \u001b[0mx\u001b[0m \u001b[0;34m=\u001b[0m \u001b[0mself\u001b[0m\u001b[0;34m.\u001b[0m\u001b[0mbase\u001b[0m\u001b[0;34m(\u001b[0m\u001b[0mx\u001b[0m\u001b[0;34m)\u001b[0m\u001b[0;34m\u001b[0m\u001b[0;34m\u001b[0m\u001b[0m\n\u001b[0m\u001b[1;32m     20\u001b[0m         \u001b[0mx\u001b[0m \u001b[0;34m=\u001b[0m \u001b[0mtorch\u001b[0m\u001b[0;34m.\u001b[0m\u001b[0mflatten\u001b[0m\u001b[0;34m(\u001b[0m\u001b[0mx\u001b[0m\u001b[0;34m,\u001b[0m \u001b[0;36m1\u001b[0m\u001b[0;34m)\u001b[0m\u001b[0;34m\u001b[0m\u001b[0;34m\u001b[0m\u001b[0m\n\u001b[1;32m     21\u001b[0m \u001b[0;34m\u001b[0m\u001b[0m\n",
            "\u001b[0;32m/usr/local/lib/python3.10/dist-packages/torch/nn/modules/module.py\u001b[0m in \u001b[0;36m_wrapped_call_impl\u001b[0;34m(self, *args, **kwargs)\u001b[0m\n\u001b[1;32m   1551\u001b[0m             \u001b[0;32mreturn\u001b[0m \u001b[0mself\u001b[0m\u001b[0;34m.\u001b[0m\u001b[0m_compiled_call_impl\u001b[0m\u001b[0;34m(\u001b[0m\u001b[0;34m*\u001b[0m\u001b[0margs\u001b[0m\u001b[0;34m,\u001b[0m \u001b[0;34m**\u001b[0m\u001b[0mkwargs\u001b[0m\u001b[0;34m)\u001b[0m  \u001b[0;31m# type: ignore[misc]\u001b[0m\u001b[0;34m\u001b[0m\u001b[0;34m\u001b[0m\u001b[0m\n\u001b[1;32m   1552\u001b[0m         \u001b[0;32melse\u001b[0m\u001b[0;34m:\u001b[0m\u001b[0;34m\u001b[0m\u001b[0;34m\u001b[0m\u001b[0m\n\u001b[0;32m-> 1553\u001b[0;31m             \u001b[0;32mreturn\u001b[0m \u001b[0mself\u001b[0m\u001b[0;34m.\u001b[0m\u001b[0m_call_impl\u001b[0m\u001b[0;34m(\u001b[0m\u001b[0;34m*\u001b[0m\u001b[0margs\u001b[0m\u001b[0;34m,\u001b[0m \u001b[0;34m**\u001b[0m\u001b[0mkwargs\u001b[0m\u001b[0;34m)\u001b[0m\u001b[0;34m\u001b[0m\u001b[0;34m\u001b[0m\u001b[0m\n\u001b[0m\u001b[1;32m   1554\u001b[0m \u001b[0;34m\u001b[0m\u001b[0m\n\u001b[1;32m   1555\u001b[0m     \u001b[0;32mdef\u001b[0m \u001b[0m_call_impl\u001b[0m\u001b[0;34m(\u001b[0m\u001b[0mself\u001b[0m\u001b[0;34m,\u001b[0m \u001b[0;34m*\u001b[0m\u001b[0margs\u001b[0m\u001b[0;34m,\u001b[0m \u001b[0;34m**\u001b[0m\u001b[0mkwargs\u001b[0m\u001b[0;34m)\u001b[0m\u001b[0;34m:\u001b[0m\u001b[0;34m\u001b[0m\u001b[0;34m\u001b[0m\u001b[0m\n",
            "\u001b[0;32m/usr/local/lib/python3.10/dist-packages/torch/nn/modules/module.py\u001b[0m in \u001b[0;36m_call_impl\u001b[0;34m(self, *args, **kwargs)\u001b[0m\n\u001b[1;32m   1560\u001b[0m                 \u001b[0;32mor\u001b[0m \u001b[0m_global_backward_pre_hooks\u001b[0m \u001b[0;32mor\u001b[0m \u001b[0m_global_backward_hooks\u001b[0m\u001b[0;34m\u001b[0m\u001b[0;34m\u001b[0m\u001b[0m\n\u001b[1;32m   1561\u001b[0m                 or _global_forward_hooks or _global_forward_pre_hooks):\n\u001b[0;32m-> 1562\u001b[0;31m             \u001b[0;32mreturn\u001b[0m \u001b[0mforward_call\u001b[0m\u001b[0;34m(\u001b[0m\u001b[0;34m*\u001b[0m\u001b[0margs\u001b[0m\u001b[0;34m,\u001b[0m \u001b[0;34m**\u001b[0m\u001b[0mkwargs\u001b[0m\u001b[0;34m)\u001b[0m\u001b[0;34m\u001b[0m\u001b[0;34m\u001b[0m\u001b[0m\n\u001b[0m\u001b[1;32m   1563\u001b[0m \u001b[0;34m\u001b[0m\u001b[0m\n\u001b[1;32m   1564\u001b[0m         \u001b[0;32mtry\u001b[0m\u001b[0;34m:\u001b[0m\u001b[0;34m\u001b[0m\u001b[0;34m\u001b[0m\u001b[0m\n",
            "\u001b[0;32m/usr/local/lib/python3.10/dist-packages/torch/nn/modules/container.py\u001b[0m in \u001b[0;36mforward\u001b[0;34m(self, input)\u001b[0m\n\u001b[1;32m    217\u001b[0m     \u001b[0;32mdef\u001b[0m \u001b[0mforward\u001b[0m\u001b[0;34m(\u001b[0m\u001b[0mself\u001b[0m\u001b[0;34m,\u001b[0m \u001b[0minput\u001b[0m\u001b[0;34m)\u001b[0m\u001b[0;34m:\u001b[0m\u001b[0;34m\u001b[0m\u001b[0;34m\u001b[0m\u001b[0m\n\u001b[1;32m    218\u001b[0m         \u001b[0;32mfor\u001b[0m \u001b[0mmodule\u001b[0m \u001b[0;32min\u001b[0m \u001b[0mself\u001b[0m\u001b[0;34m:\u001b[0m\u001b[0;34m\u001b[0m\u001b[0;34m\u001b[0m\u001b[0m\n\u001b[0;32m--> 219\u001b[0;31m             \u001b[0minput\u001b[0m \u001b[0;34m=\u001b[0m \u001b[0mmodule\u001b[0m\u001b[0;34m(\u001b[0m\u001b[0minput\u001b[0m\u001b[0;34m)\u001b[0m\u001b[0;34m\u001b[0m\u001b[0;34m\u001b[0m\u001b[0m\n\u001b[0m\u001b[1;32m    220\u001b[0m         \u001b[0;32mreturn\u001b[0m \u001b[0minput\u001b[0m\u001b[0;34m\u001b[0m\u001b[0;34m\u001b[0m\u001b[0m\n\u001b[1;32m    221\u001b[0m \u001b[0;34m\u001b[0m\u001b[0m\n",
            "\u001b[0;32m/usr/local/lib/python3.10/dist-packages/torch/nn/modules/module.py\u001b[0m in \u001b[0;36m_wrapped_call_impl\u001b[0;34m(self, *args, **kwargs)\u001b[0m\n\u001b[1;32m   1551\u001b[0m             \u001b[0;32mreturn\u001b[0m \u001b[0mself\u001b[0m\u001b[0;34m.\u001b[0m\u001b[0m_compiled_call_impl\u001b[0m\u001b[0;34m(\u001b[0m\u001b[0;34m*\u001b[0m\u001b[0margs\u001b[0m\u001b[0;34m,\u001b[0m \u001b[0;34m**\u001b[0m\u001b[0mkwargs\u001b[0m\u001b[0;34m)\u001b[0m  \u001b[0;31m# type: ignore[misc]\u001b[0m\u001b[0;34m\u001b[0m\u001b[0;34m\u001b[0m\u001b[0m\n\u001b[1;32m   1552\u001b[0m         \u001b[0;32melse\u001b[0m\u001b[0;34m:\u001b[0m\u001b[0;34m\u001b[0m\u001b[0;34m\u001b[0m\u001b[0m\n\u001b[0;32m-> 1553\u001b[0;31m             \u001b[0;32mreturn\u001b[0m \u001b[0mself\u001b[0m\u001b[0;34m.\u001b[0m\u001b[0m_call_impl\u001b[0m\u001b[0;34m(\u001b[0m\u001b[0;34m*\u001b[0m\u001b[0margs\u001b[0m\u001b[0;34m,\u001b[0m \u001b[0;34m**\u001b[0m\u001b[0mkwargs\u001b[0m\u001b[0;34m)\u001b[0m\u001b[0;34m\u001b[0m\u001b[0;34m\u001b[0m\u001b[0m\n\u001b[0m\u001b[1;32m   1554\u001b[0m \u001b[0;34m\u001b[0m\u001b[0m\n\u001b[1;32m   1555\u001b[0m     \u001b[0;32mdef\u001b[0m \u001b[0m_call_impl\u001b[0m\u001b[0;34m(\u001b[0m\u001b[0mself\u001b[0m\u001b[0;34m,\u001b[0m \u001b[0;34m*\u001b[0m\u001b[0margs\u001b[0m\u001b[0;34m,\u001b[0m \u001b[0;34m**\u001b[0m\u001b[0mkwargs\u001b[0m\u001b[0;34m)\u001b[0m\u001b[0;34m:\u001b[0m\u001b[0;34m\u001b[0m\u001b[0;34m\u001b[0m\u001b[0m\n",
            "\u001b[0;32m/usr/local/lib/python3.10/dist-packages/torch/nn/modules/module.py\u001b[0m in \u001b[0;36m_call_impl\u001b[0;34m(self, *args, **kwargs)\u001b[0m\n\u001b[1;32m   1560\u001b[0m                 \u001b[0;32mor\u001b[0m \u001b[0m_global_backward_pre_hooks\u001b[0m \u001b[0;32mor\u001b[0m \u001b[0m_global_backward_hooks\u001b[0m\u001b[0;34m\u001b[0m\u001b[0;34m\u001b[0m\u001b[0m\n\u001b[1;32m   1561\u001b[0m                 or _global_forward_hooks or _global_forward_pre_hooks):\n\u001b[0;32m-> 1562\u001b[0;31m             \u001b[0;32mreturn\u001b[0m \u001b[0mforward_call\u001b[0m\u001b[0;34m(\u001b[0m\u001b[0;34m*\u001b[0m\u001b[0margs\u001b[0m\u001b[0;34m,\u001b[0m \u001b[0;34m**\u001b[0m\u001b[0mkwargs\u001b[0m\u001b[0;34m)\u001b[0m\u001b[0;34m\u001b[0m\u001b[0;34m\u001b[0m\u001b[0m\n\u001b[0m\u001b[1;32m   1563\u001b[0m \u001b[0;34m\u001b[0m\u001b[0m\n\u001b[1;32m   1564\u001b[0m         \u001b[0;32mtry\u001b[0m\u001b[0;34m:\u001b[0m\u001b[0;34m\u001b[0m\u001b[0;34m\u001b[0m\u001b[0m\n",
            "\u001b[0;32m/usr/local/lib/python3.10/dist-packages/torch/nn/modules/container.py\u001b[0m in \u001b[0;36mforward\u001b[0;34m(self, input)\u001b[0m\n\u001b[1;32m    217\u001b[0m     \u001b[0;32mdef\u001b[0m \u001b[0mforward\u001b[0m\u001b[0;34m(\u001b[0m\u001b[0mself\u001b[0m\u001b[0;34m,\u001b[0m \u001b[0minput\u001b[0m\u001b[0;34m)\u001b[0m\u001b[0;34m:\u001b[0m\u001b[0;34m\u001b[0m\u001b[0;34m\u001b[0m\u001b[0m\n\u001b[1;32m    218\u001b[0m         \u001b[0;32mfor\u001b[0m \u001b[0mmodule\u001b[0m \u001b[0;32min\u001b[0m \u001b[0mself\u001b[0m\u001b[0;34m:\u001b[0m\u001b[0;34m\u001b[0m\u001b[0;34m\u001b[0m\u001b[0m\n\u001b[0;32m--> 219\u001b[0;31m             \u001b[0minput\u001b[0m \u001b[0;34m=\u001b[0m \u001b[0mmodule\u001b[0m\u001b[0;34m(\u001b[0m\u001b[0minput\u001b[0m\u001b[0;34m)\u001b[0m\u001b[0;34m\u001b[0m\u001b[0;34m\u001b[0m\u001b[0m\n\u001b[0m\u001b[1;32m    220\u001b[0m         \u001b[0;32mreturn\u001b[0m \u001b[0minput\u001b[0m\u001b[0;34m\u001b[0m\u001b[0;34m\u001b[0m\u001b[0m\n\u001b[1;32m    221\u001b[0m \u001b[0;34m\u001b[0m\u001b[0m\n",
            "\u001b[0;32m/usr/local/lib/python3.10/dist-packages/torch/nn/modules/module.py\u001b[0m in \u001b[0;36m_wrapped_call_impl\u001b[0;34m(self, *args, **kwargs)\u001b[0m\n\u001b[1;32m   1551\u001b[0m             \u001b[0;32mreturn\u001b[0m \u001b[0mself\u001b[0m\u001b[0;34m.\u001b[0m\u001b[0m_compiled_call_impl\u001b[0m\u001b[0;34m(\u001b[0m\u001b[0;34m*\u001b[0m\u001b[0margs\u001b[0m\u001b[0;34m,\u001b[0m \u001b[0;34m**\u001b[0m\u001b[0mkwargs\u001b[0m\u001b[0;34m)\u001b[0m  \u001b[0;31m# type: ignore[misc]\u001b[0m\u001b[0;34m\u001b[0m\u001b[0;34m\u001b[0m\u001b[0m\n\u001b[1;32m   1552\u001b[0m         \u001b[0;32melse\u001b[0m\u001b[0;34m:\u001b[0m\u001b[0;34m\u001b[0m\u001b[0;34m\u001b[0m\u001b[0m\n\u001b[0;32m-> 1553\u001b[0;31m             \u001b[0;32mreturn\u001b[0m \u001b[0mself\u001b[0m\u001b[0;34m.\u001b[0m\u001b[0m_call_impl\u001b[0m\u001b[0;34m(\u001b[0m\u001b[0;34m*\u001b[0m\u001b[0margs\u001b[0m\u001b[0;34m,\u001b[0m \u001b[0;34m**\u001b[0m\u001b[0mkwargs\u001b[0m\u001b[0;34m)\u001b[0m\u001b[0;34m\u001b[0m\u001b[0;34m\u001b[0m\u001b[0m\n\u001b[0m\u001b[1;32m   1554\u001b[0m \u001b[0;34m\u001b[0m\u001b[0m\n\u001b[1;32m   1555\u001b[0m     \u001b[0;32mdef\u001b[0m \u001b[0m_call_impl\u001b[0m\u001b[0;34m(\u001b[0m\u001b[0mself\u001b[0m\u001b[0;34m,\u001b[0m \u001b[0;34m*\u001b[0m\u001b[0margs\u001b[0m\u001b[0;34m,\u001b[0m \u001b[0;34m**\u001b[0m\u001b[0mkwargs\u001b[0m\u001b[0;34m)\u001b[0m\u001b[0;34m:\u001b[0m\u001b[0;34m\u001b[0m\u001b[0;34m\u001b[0m\u001b[0m\n",
            "\u001b[0;32m/usr/local/lib/python3.10/dist-packages/torch/nn/modules/module.py\u001b[0m in \u001b[0;36m_call_impl\u001b[0;34m(self, *args, **kwargs)\u001b[0m\n\u001b[1;32m   1560\u001b[0m                 \u001b[0;32mor\u001b[0m \u001b[0m_global_backward_pre_hooks\u001b[0m \u001b[0;32mor\u001b[0m \u001b[0m_global_backward_hooks\u001b[0m\u001b[0;34m\u001b[0m\u001b[0;34m\u001b[0m\u001b[0m\n\u001b[1;32m   1561\u001b[0m                 or _global_forward_hooks or _global_forward_pre_hooks):\n\u001b[0;32m-> 1562\u001b[0;31m             \u001b[0;32mreturn\u001b[0m \u001b[0mforward_call\u001b[0m\u001b[0;34m(\u001b[0m\u001b[0;34m*\u001b[0m\u001b[0margs\u001b[0m\u001b[0;34m,\u001b[0m \u001b[0;34m**\u001b[0m\u001b[0mkwargs\u001b[0m\u001b[0;34m)\u001b[0m\u001b[0;34m\u001b[0m\u001b[0;34m\u001b[0m\u001b[0m\n\u001b[0m\u001b[1;32m   1563\u001b[0m \u001b[0;34m\u001b[0m\u001b[0m\n\u001b[1;32m   1564\u001b[0m         \u001b[0;32mtry\u001b[0m\u001b[0;34m:\u001b[0m\u001b[0;34m\u001b[0m\u001b[0;34m\u001b[0m\u001b[0m\n",
            "\u001b[0;32m/usr/local/lib/python3.10/dist-packages/torch/nn/modules/container.py\u001b[0m in \u001b[0;36mforward\u001b[0;34m(self, input)\u001b[0m\n\u001b[1;32m    217\u001b[0m     \u001b[0;32mdef\u001b[0m \u001b[0mforward\u001b[0m\u001b[0;34m(\u001b[0m\u001b[0mself\u001b[0m\u001b[0;34m,\u001b[0m \u001b[0minput\u001b[0m\u001b[0;34m)\u001b[0m\u001b[0;34m:\u001b[0m\u001b[0;34m\u001b[0m\u001b[0;34m\u001b[0m\u001b[0m\n\u001b[1;32m    218\u001b[0m         \u001b[0;32mfor\u001b[0m \u001b[0mmodule\u001b[0m \u001b[0;32min\u001b[0m \u001b[0mself\u001b[0m\u001b[0;34m:\u001b[0m\u001b[0;34m\u001b[0m\u001b[0;34m\u001b[0m\u001b[0m\n\u001b[0;32m--> 219\u001b[0;31m             \u001b[0minput\u001b[0m \u001b[0;34m=\u001b[0m \u001b[0mmodule\u001b[0m\u001b[0;34m(\u001b[0m\u001b[0minput\u001b[0m\u001b[0;34m)\u001b[0m\u001b[0;34m\u001b[0m\u001b[0;34m\u001b[0m\u001b[0m\n\u001b[0m\u001b[1;32m    220\u001b[0m         \u001b[0;32mreturn\u001b[0m \u001b[0minput\u001b[0m\u001b[0;34m\u001b[0m\u001b[0;34m\u001b[0m\u001b[0m\n\u001b[1;32m    221\u001b[0m \u001b[0;34m\u001b[0m\u001b[0m\n",
            "\u001b[0;32m/usr/local/lib/python3.10/dist-packages/torch/nn/modules/module.py\u001b[0m in \u001b[0;36m_wrapped_call_impl\u001b[0;34m(self, *args, **kwargs)\u001b[0m\n\u001b[1;32m   1551\u001b[0m             \u001b[0;32mreturn\u001b[0m \u001b[0mself\u001b[0m\u001b[0;34m.\u001b[0m\u001b[0m_compiled_call_impl\u001b[0m\u001b[0;34m(\u001b[0m\u001b[0;34m*\u001b[0m\u001b[0margs\u001b[0m\u001b[0;34m,\u001b[0m \u001b[0;34m**\u001b[0m\u001b[0mkwargs\u001b[0m\u001b[0;34m)\u001b[0m  \u001b[0;31m# type: ignore[misc]\u001b[0m\u001b[0;34m\u001b[0m\u001b[0;34m\u001b[0m\u001b[0m\n\u001b[1;32m   1552\u001b[0m         \u001b[0;32melse\u001b[0m\u001b[0;34m:\u001b[0m\u001b[0;34m\u001b[0m\u001b[0;34m\u001b[0m\u001b[0m\n\u001b[0;32m-> 1553\u001b[0;31m             \u001b[0;32mreturn\u001b[0m \u001b[0mself\u001b[0m\u001b[0;34m.\u001b[0m\u001b[0m_call_impl\u001b[0m\u001b[0;34m(\u001b[0m\u001b[0;34m*\u001b[0m\u001b[0margs\u001b[0m\u001b[0;34m,\u001b[0m \u001b[0;34m**\u001b[0m\u001b[0mkwargs\u001b[0m\u001b[0;34m)\u001b[0m\u001b[0;34m\u001b[0m\u001b[0;34m\u001b[0m\u001b[0m\n\u001b[0m\u001b[1;32m   1554\u001b[0m \u001b[0;34m\u001b[0m\u001b[0m\n\u001b[1;32m   1555\u001b[0m     \u001b[0;32mdef\u001b[0m \u001b[0m_call_impl\u001b[0m\u001b[0;34m(\u001b[0m\u001b[0mself\u001b[0m\u001b[0;34m,\u001b[0m \u001b[0;34m*\u001b[0m\u001b[0margs\u001b[0m\u001b[0;34m,\u001b[0m \u001b[0;34m**\u001b[0m\u001b[0mkwargs\u001b[0m\u001b[0;34m)\u001b[0m\u001b[0;34m:\u001b[0m\u001b[0;34m\u001b[0m\u001b[0;34m\u001b[0m\u001b[0m\n",
            "\u001b[0;32m/usr/local/lib/python3.10/dist-packages/torch/nn/modules/module.py\u001b[0m in \u001b[0;36m_call_impl\u001b[0;34m(self, *args, **kwargs)\u001b[0m\n\u001b[1;32m   1560\u001b[0m                 \u001b[0;32mor\u001b[0m \u001b[0m_global_backward_pre_hooks\u001b[0m \u001b[0;32mor\u001b[0m \u001b[0m_global_backward_hooks\u001b[0m\u001b[0;34m\u001b[0m\u001b[0;34m\u001b[0m\u001b[0m\n\u001b[1;32m   1561\u001b[0m                 or _global_forward_hooks or _global_forward_pre_hooks):\n\u001b[0;32m-> 1562\u001b[0;31m             \u001b[0;32mreturn\u001b[0m \u001b[0mforward_call\u001b[0m\u001b[0;34m(\u001b[0m\u001b[0;34m*\u001b[0m\u001b[0margs\u001b[0m\u001b[0;34m,\u001b[0m \u001b[0;34m**\u001b[0m\u001b[0mkwargs\u001b[0m\u001b[0;34m)\u001b[0m\u001b[0;34m\u001b[0m\u001b[0;34m\u001b[0m\u001b[0m\n\u001b[0m\u001b[1;32m   1563\u001b[0m \u001b[0;34m\u001b[0m\u001b[0m\n\u001b[1;32m   1564\u001b[0m         \u001b[0;32mtry\u001b[0m\u001b[0;34m:\u001b[0m\u001b[0;34m\u001b[0m\u001b[0;34m\u001b[0m\u001b[0m\n",
            "\u001b[0;32m/usr/local/lib/python3.10/dist-packages/torchvision/models/efficientnet.py\u001b[0m in \u001b[0;36mforward\u001b[0;34m(self, input)\u001b[0m\n\u001b[1;32m    162\u001b[0m \u001b[0;34m\u001b[0m\u001b[0m\n\u001b[1;32m    163\u001b[0m     \u001b[0;32mdef\u001b[0m \u001b[0mforward\u001b[0m\u001b[0;34m(\u001b[0m\u001b[0mself\u001b[0m\u001b[0;34m,\u001b[0m \u001b[0minput\u001b[0m\u001b[0;34m:\u001b[0m \u001b[0mTensor\u001b[0m\u001b[0;34m)\u001b[0m \u001b[0;34m->\u001b[0m \u001b[0mTensor\u001b[0m\u001b[0;34m:\u001b[0m\u001b[0;34m\u001b[0m\u001b[0;34m\u001b[0m\u001b[0m\n\u001b[0;32m--> 164\u001b[0;31m         \u001b[0mresult\u001b[0m \u001b[0;34m=\u001b[0m \u001b[0mself\u001b[0m\u001b[0;34m.\u001b[0m\u001b[0mblock\u001b[0m\u001b[0;34m(\u001b[0m\u001b[0minput\u001b[0m\u001b[0;34m)\u001b[0m\u001b[0;34m\u001b[0m\u001b[0;34m\u001b[0m\u001b[0m\n\u001b[0m\u001b[1;32m    165\u001b[0m         \u001b[0;32mif\u001b[0m \u001b[0mself\u001b[0m\u001b[0;34m.\u001b[0m\u001b[0muse_res_connect\u001b[0m\u001b[0;34m:\u001b[0m\u001b[0;34m\u001b[0m\u001b[0;34m\u001b[0m\u001b[0m\n\u001b[1;32m    166\u001b[0m             \u001b[0mresult\u001b[0m \u001b[0;34m=\u001b[0m \u001b[0mself\u001b[0m\u001b[0;34m.\u001b[0m\u001b[0mstochastic_depth\u001b[0m\u001b[0;34m(\u001b[0m\u001b[0mresult\u001b[0m\u001b[0;34m)\u001b[0m\u001b[0;34m\u001b[0m\u001b[0;34m\u001b[0m\u001b[0m\n",
            "\u001b[0;32m/usr/local/lib/python3.10/dist-packages/torch/nn/modules/module.py\u001b[0m in \u001b[0;36m_wrapped_call_impl\u001b[0;34m(self, *args, **kwargs)\u001b[0m\n\u001b[1;32m   1551\u001b[0m             \u001b[0;32mreturn\u001b[0m \u001b[0mself\u001b[0m\u001b[0;34m.\u001b[0m\u001b[0m_compiled_call_impl\u001b[0m\u001b[0;34m(\u001b[0m\u001b[0;34m*\u001b[0m\u001b[0margs\u001b[0m\u001b[0;34m,\u001b[0m \u001b[0;34m**\u001b[0m\u001b[0mkwargs\u001b[0m\u001b[0;34m)\u001b[0m  \u001b[0;31m# type: ignore[misc]\u001b[0m\u001b[0;34m\u001b[0m\u001b[0;34m\u001b[0m\u001b[0m\n\u001b[1;32m   1552\u001b[0m         \u001b[0;32melse\u001b[0m\u001b[0;34m:\u001b[0m\u001b[0;34m\u001b[0m\u001b[0;34m\u001b[0m\u001b[0m\n\u001b[0;32m-> 1553\u001b[0;31m             \u001b[0;32mreturn\u001b[0m \u001b[0mself\u001b[0m\u001b[0;34m.\u001b[0m\u001b[0m_call_impl\u001b[0m\u001b[0;34m(\u001b[0m\u001b[0;34m*\u001b[0m\u001b[0margs\u001b[0m\u001b[0;34m,\u001b[0m \u001b[0;34m**\u001b[0m\u001b[0mkwargs\u001b[0m\u001b[0;34m)\u001b[0m\u001b[0;34m\u001b[0m\u001b[0;34m\u001b[0m\u001b[0m\n\u001b[0m\u001b[1;32m   1554\u001b[0m \u001b[0;34m\u001b[0m\u001b[0m\n\u001b[1;32m   1555\u001b[0m     \u001b[0;32mdef\u001b[0m \u001b[0m_call_impl\u001b[0m\u001b[0;34m(\u001b[0m\u001b[0mself\u001b[0m\u001b[0;34m,\u001b[0m \u001b[0;34m*\u001b[0m\u001b[0margs\u001b[0m\u001b[0;34m,\u001b[0m \u001b[0;34m**\u001b[0m\u001b[0mkwargs\u001b[0m\u001b[0;34m)\u001b[0m\u001b[0;34m:\u001b[0m\u001b[0;34m\u001b[0m\u001b[0;34m\u001b[0m\u001b[0m\n",
            "\u001b[0;32m/usr/local/lib/python3.10/dist-packages/torch/nn/modules/module.py\u001b[0m in \u001b[0;36m_call_impl\u001b[0;34m(self, *args, **kwargs)\u001b[0m\n\u001b[1;32m   1560\u001b[0m                 \u001b[0;32mor\u001b[0m \u001b[0m_global_backward_pre_hooks\u001b[0m \u001b[0;32mor\u001b[0m \u001b[0m_global_backward_hooks\u001b[0m\u001b[0;34m\u001b[0m\u001b[0;34m\u001b[0m\u001b[0m\n\u001b[1;32m   1561\u001b[0m                 or _global_forward_hooks or _global_forward_pre_hooks):\n\u001b[0;32m-> 1562\u001b[0;31m             \u001b[0;32mreturn\u001b[0m \u001b[0mforward_call\u001b[0m\u001b[0;34m(\u001b[0m\u001b[0;34m*\u001b[0m\u001b[0margs\u001b[0m\u001b[0;34m,\u001b[0m \u001b[0;34m**\u001b[0m\u001b[0mkwargs\u001b[0m\u001b[0;34m)\u001b[0m\u001b[0;34m\u001b[0m\u001b[0;34m\u001b[0m\u001b[0m\n\u001b[0m\u001b[1;32m   1563\u001b[0m \u001b[0;34m\u001b[0m\u001b[0m\n\u001b[1;32m   1564\u001b[0m         \u001b[0;32mtry\u001b[0m\u001b[0;34m:\u001b[0m\u001b[0;34m\u001b[0m\u001b[0;34m\u001b[0m\u001b[0m\n",
            "\u001b[0;32m/usr/local/lib/python3.10/dist-packages/torch/nn/modules/container.py\u001b[0m in \u001b[0;36mforward\u001b[0;34m(self, input)\u001b[0m\n\u001b[1;32m    217\u001b[0m     \u001b[0;32mdef\u001b[0m \u001b[0mforward\u001b[0m\u001b[0;34m(\u001b[0m\u001b[0mself\u001b[0m\u001b[0;34m,\u001b[0m \u001b[0minput\u001b[0m\u001b[0;34m)\u001b[0m\u001b[0;34m:\u001b[0m\u001b[0;34m\u001b[0m\u001b[0;34m\u001b[0m\u001b[0m\n\u001b[1;32m    218\u001b[0m         \u001b[0;32mfor\u001b[0m \u001b[0mmodule\u001b[0m \u001b[0;32min\u001b[0m \u001b[0mself\u001b[0m\u001b[0;34m:\u001b[0m\u001b[0;34m\u001b[0m\u001b[0;34m\u001b[0m\u001b[0m\n\u001b[0;32m--> 219\u001b[0;31m             \u001b[0minput\u001b[0m \u001b[0;34m=\u001b[0m \u001b[0mmodule\u001b[0m\u001b[0;34m(\u001b[0m\u001b[0minput\u001b[0m\u001b[0;34m)\u001b[0m\u001b[0;34m\u001b[0m\u001b[0;34m\u001b[0m\u001b[0m\n\u001b[0m\u001b[1;32m    220\u001b[0m         \u001b[0;32mreturn\u001b[0m \u001b[0minput\u001b[0m\u001b[0;34m\u001b[0m\u001b[0;34m\u001b[0m\u001b[0m\n\u001b[1;32m    221\u001b[0m \u001b[0;34m\u001b[0m\u001b[0m\n",
            "\u001b[0;32m/usr/local/lib/python3.10/dist-packages/torch/nn/modules/module.py\u001b[0m in \u001b[0;36m_wrapped_call_impl\u001b[0;34m(self, *args, **kwargs)\u001b[0m\n\u001b[1;32m   1551\u001b[0m             \u001b[0;32mreturn\u001b[0m \u001b[0mself\u001b[0m\u001b[0;34m.\u001b[0m\u001b[0m_compiled_call_impl\u001b[0m\u001b[0;34m(\u001b[0m\u001b[0;34m*\u001b[0m\u001b[0margs\u001b[0m\u001b[0;34m,\u001b[0m \u001b[0;34m**\u001b[0m\u001b[0mkwargs\u001b[0m\u001b[0;34m)\u001b[0m  \u001b[0;31m# type: ignore[misc]\u001b[0m\u001b[0;34m\u001b[0m\u001b[0;34m\u001b[0m\u001b[0m\n\u001b[1;32m   1552\u001b[0m         \u001b[0;32melse\u001b[0m\u001b[0;34m:\u001b[0m\u001b[0;34m\u001b[0m\u001b[0;34m\u001b[0m\u001b[0m\n\u001b[0;32m-> 1553\u001b[0;31m             \u001b[0;32mreturn\u001b[0m \u001b[0mself\u001b[0m\u001b[0;34m.\u001b[0m\u001b[0m_call_impl\u001b[0m\u001b[0;34m(\u001b[0m\u001b[0;34m*\u001b[0m\u001b[0margs\u001b[0m\u001b[0;34m,\u001b[0m \u001b[0;34m**\u001b[0m\u001b[0mkwargs\u001b[0m\u001b[0;34m)\u001b[0m\u001b[0;34m\u001b[0m\u001b[0;34m\u001b[0m\u001b[0m\n\u001b[0m\u001b[1;32m   1554\u001b[0m \u001b[0;34m\u001b[0m\u001b[0m\n\u001b[1;32m   1555\u001b[0m     \u001b[0;32mdef\u001b[0m \u001b[0m_call_impl\u001b[0m\u001b[0;34m(\u001b[0m\u001b[0mself\u001b[0m\u001b[0;34m,\u001b[0m \u001b[0;34m*\u001b[0m\u001b[0margs\u001b[0m\u001b[0;34m,\u001b[0m \u001b[0;34m**\u001b[0m\u001b[0mkwargs\u001b[0m\u001b[0;34m)\u001b[0m\u001b[0;34m:\u001b[0m\u001b[0;34m\u001b[0m\u001b[0;34m\u001b[0m\u001b[0m\n",
            "\u001b[0;32m/usr/local/lib/python3.10/dist-packages/torch/nn/modules/module.py\u001b[0m in \u001b[0;36m_call_impl\u001b[0;34m(self, *args, **kwargs)\u001b[0m\n\u001b[1;32m   1560\u001b[0m                 \u001b[0;32mor\u001b[0m \u001b[0m_global_backward_pre_hooks\u001b[0m \u001b[0;32mor\u001b[0m \u001b[0m_global_backward_hooks\u001b[0m\u001b[0;34m\u001b[0m\u001b[0;34m\u001b[0m\u001b[0m\n\u001b[1;32m   1561\u001b[0m                 or _global_forward_hooks or _global_forward_pre_hooks):\n\u001b[0;32m-> 1562\u001b[0;31m             \u001b[0;32mreturn\u001b[0m \u001b[0mforward_call\u001b[0m\u001b[0;34m(\u001b[0m\u001b[0;34m*\u001b[0m\u001b[0margs\u001b[0m\u001b[0;34m,\u001b[0m \u001b[0;34m**\u001b[0m\u001b[0mkwargs\u001b[0m\u001b[0;34m)\u001b[0m\u001b[0;34m\u001b[0m\u001b[0;34m\u001b[0m\u001b[0m\n\u001b[0m\u001b[1;32m   1563\u001b[0m \u001b[0;34m\u001b[0m\u001b[0m\n\u001b[1;32m   1564\u001b[0m         \u001b[0;32mtry\u001b[0m\u001b[0;34m:\u001b[0m\u001b[0;34m\u001b[0m\u001b[0;34m\u001b[0m\u001b[0m\n",
            "\u001b[0;32m/usr/local/lib/python3.10/dist-packages/torchvision/ops/misc.py\u001b[0m in \u001b[0;36mforward\u001b[0;34m(self, input)\u001b[0m\n\u001b[1;32m    257\u001b[0m \u001b[0;34m\u001b[0m\u001b[0m\n\u001b[1;32m    258\u001b[0m     \u001b[0;32mdef\u001b[0m \u001b[0mforward\u001b[0m\u001b[0;34m(\u001b[0m\u001b[0mself\u001b[0m\u001b[0;34m,\u001b[0m \u001b[0minput\u001b[0m\u001b[0;34m:\u001b[0m \u001b[0mTensor\u001b[0m\u001b[0;34m)\u001b[0m \u001b[0;34m->\u001b[0m \u001b[0mTensor\u001b[0m\u001b[0;34m:\u001b[0m\u001b[0;34m\u001b[0m\u001b[0;34m\u001b[0m\u001b[0m\n\u001b[0;32m--> 259\u001b[0;31m         \u001b[0mscale\u001b[0m \u001b[0;34m=\u001b[0m \u001b[0mself\u001b[0m\u001b[0;34m.\u001b[0m\u001b[0m_scale\u001b[0m\u001b[0;34m(\u001b[0m\u001b[0minput\u001b[0m\u001b[0;34m)\u001b[0m\u001b[0;34m\u001b[0m\u001b[0;34m\u001b[0m\u001b[0m\n\u001b[0m\u001b[1;32m    260\u001b[0m         \u001b[0;32mreturn\u001b[0m \u001b[0mscale\u001b[0m \u001b[0;34m*\u001b[0m \u001b[0minput\u001b[0m\u001b[0;34m\u001b[0m\u001b[0;34m\u001b[0m\u001b[0m\n\u001b[1;32m    261\u001b[0m \u001b[0;34m\u001b[0m\u001b[0m\n",
            "\u001b[0;32m/usr/local/lib/python3.10/dist-packages/torchvision/ops/misc.py\u001b[0m in \u001b[0;36m_scale\u001b[0;34m(self, input)\u001b[0m\n\u001b[1;32m    251\u001b[0m     \u001b[0;32mdef\u001b[0m \u001b[0m_scale\u001b[0m\u001b[0;34m(\u001b[0m\u001b[0mself\u001b[0m\u001b[0;34m,\u001b[0m \u001b[0minput\u001b[0m\u001b[0;34m:\u001b[0m \u001b[0mTensor\u001b[0m\u001b[0;34m)\u001b[0m \u001b[0;34m->\u001b[0m \u001b[0mTensor\u001b[0m\u001b[0;34m:\u001b[0m\u001b[0;34m\u001b[0m\u001b[0;34m\u001b[0m\u001b[0m\n\u001b[1;32m    252\u001b[0m         \u001b[0mscale\u001b[0m \u001b[0;34m=\u001b[0m \u001b[0mself\u001b[0m\u001b[0;34m.\u001b[0m\u001b[0mavgpool\u001b[0m\u001b[0;34m(\u001b[0m\u001b[0minput\u001b[0m\u001b[0;34m)\u001b[0m\u001b[0;34m\u001b[0m\u001b[0;34m\u001b[0m\u001b[0m\n\u001b[0;32m--> 253\u001b[0;31m         \u001b[0mscale\u001b[0m \u001b[0;34m=\u001b[0m \u001b[0mself\u001b[0m\u001b[0;34m.\u001b[0m\u001b[0mfc1\u001b[0m\u001b[0;34m(\u001b[0m\u001b[0mscale\u001b[0m\u001b[0;34m)\u001b[0m\u001b[0;34m\u001b[0m\u001b[0;34m\u001b[0m\u001b[0m\n\u001b[0m\u001b[1;32m    254\u001b[0m         \u001b[0mscale\u001b[0m \u001b[0;34m=\u001b[0m \u001b[0mself\u001b[0m\u001b[0;34m.\u001b[0m\u001b[0mactivation\u001b[0m\u001b[0;34m(\u001b[0m\u001b[0mscale\u001b[0m\u001b[0;34m)\u001b[0m\u001b[0;34m\u001b[0m\u001b[0;34m\u001b[0m\u001b[0m\n\u001b[1;32m    255\u001b[0m         \u001b[0mscale\u001b[0m \u001b[0;34m=\u001b[0m \u001b[0mself\u001b[0m\u001b[0;34m.\u001b[0m\u001b[0mfc2\u001b[0m\u001b[0;34m(\u001b[0m\u001b[0mscale\u001b[0m\u001b[0;34m)\u001b[0m\u001b[0;34m\u001b[0m\u001b[0;34m\u001b[0m\u001b[0m\n",
            "\u001b[0;32m/usr/local/lib/python3.10/dist-packages/torch/nn/modules/module.py\u001b[0m in \u001b[0;36m_wrapped_call_impl\u001b[0;34m(self, *args, **kwargs)\u001b[0m\n\u001b[1;32m   1551\u001b[0m             \u001b[0;32mreturn\u001b[0m \u001b[0mself\u001b[0m\u001b[0;34m.\u001b[0m\u001b[0m_compiled_call_impl\u001b[0m\u001b[0;34m(\u001b[0m\u001b[0;34m*\u001b[0m\u001b[0margs\u001b[0m\u001b[0;34m,\u001b[0m \u001b[0;34m**\u001b[0m\u001b[0mkwargs\u001b[0m\u001b[0;34m)\u001b[0m  \u001b[0;31m# type: ignore[misc]\u001b[0m\u001b[0;34m\u001b[0m\u001b[0;34m\u001b[0m\u001b[0m\n\u001b[1;32m   1552\u001b[0m         \u001b[0;32melse\u001b[0m\u001b[0;34m:\u001b[0m\u001b[0;34m\u001b[0m\u001b[0;34m\u001b[0m\u001b[0m\n\u001b[0;32m-> 1553\u001b[0;31m             \u001b[0;32mreturn\u001b[0m \u001b[0mself\u001b[0m\u001b[0;34m.\u001b[0m\u001b[0m_call_impl\u001b[0m\u001b[0;34m(\u001b[0m\u001b[0;34m*\u001b[0m\u001b[0margs\u001b[0m\u001b[0;34m,\u001b[0m \u001b[0;34m**\u001b[0m\u001b[0mkwargs\u001b[0m\u001b[0;34m)\u001b[0m\u001b[0;34m\u001b[0m\u001b[0;34m\u001b[0m\u001b[0m\n\u001b[0m\u001b[1;32m   1554\u001b[0m \u001b[0;34m\u001b[0m\u001b[0m\n\u001b[1;32m   1555\u001b[0m     \u001b[0;32mdef\u001b[0m \u001b[0m_call_impl\u001b[0m\u001b[0;34m(\u001b[0m\u001b[0mself\u001b[0m\u001b[0;34m,\u001b[0m \u001b[0;34m*\u001b[0m\u001b[0margs\u001b[0m\u001b[0;34m,\u001b[0m \u001b[0;34m**\u001b[0m\u001b[0mkwargs\u001b[0m\u001b[0;34m)\u001b[0m\u001b[0;34m:\u001b[0m\u001b[0;34m\u001b[0m\u001b[0;34m\u001b[0m\u001b[0m\n",
            "\u001b[0;32m/usr/local/lib/python3.10/dist-packages/torch/nn/modules/module.py\u001b[0m in \u001b[0;36m_call_impl\u001b[0;34m(self, *args, **kwargs)\u001b[0m\n\u001b[1;32m   1560\u001b[0m                 \u001b[0;32mor\u001b[0m \u001b[0m_global_backward_pre_hooks\u001b[0m \u001b[0;32mor\u001b[0m \u001b[0m_global_backward_hooks\u001b[0m\u001b[0;34m\u001b[0m\u001b[0;34m\u001b[0m\u001b[0m\n\u001b[1;32m   1561\u001b[0m                 or _global_forward_hooks or _global_forward_pre_hooks):\n\u001b[0;32m-> 1562\u001b[0;31m             \u001b[0;32mreturn\u001b[0m \u001b[0mforward_call\u001b[0m\u001b[0;34m(\u001b[0m\u001b[0;34m*\u001b[0m\u001b[0margs\u001b[0m\u001b[0;34m,\u001b[0m \u001b[0;34m**\u001b[0m\u001b[0mkwargs\u001b[0m\u001b[0;34m)\u001b[0m\u001b[0;34m\u001b[0m\u001b[0;34m\u001b[0m\u001b[0m\n\u001b[0m\u001b[1;32m   1563\u001b[0m \u001b[0;34m\u001b[0m\u001b[0m\n\u001b[1;32m   1564\u001b[0m         \u001b[0;32mtry\u001b[0m\u001b[0;34m:\u001b[0m\u001b[0;34m\u001b[0m\u001b[0;34m\u001b[0m\u001b[0m\n",
            "\u001b[0;32m/usr/local/lib/python3.10/dist-packages/torch/nn/modules/conv.py\u001b[0m in \u001b[0;36mforward\u001b[0;34m(self, input)\u001b[0m\n\u001b[1;32m    456\u001b[0m \u001b[0;34m\u001b[0m\u001b[0m\n\u001b[1;32m    457\u001b[0m     \u001b[0;32mdef\u001b[0m \u001b[0mforward\u001b[0m\u001b[0;34m(\u001b[0m\u001b[0mself\u001b[0m\u001b[0;34m,\u001b[0m \u001b[0minput\u001b[0m\u001b[0;34m:\u001b[0m \u001b[0mTensor\u001b[0m\u001b[0;34m)\u001b[0m \u001b[0;34m->\u001b[0m \u001b[0mTensor\u001b[0m\u001b[0;34m:\u001b[0m\u001b[0;34m\u001b[0m\u001b[0;34m\u001b[0m\u001b[0m\n\u001b[0;32m--> 458\u001b[0;31m         \u001b[0;32mreturn\u001b[0m \u001b[0mself\u001b[0m\u001b[0;34m.\u001b[0m\u001b[0m_conv_forward\u001b[0m\u001b[0;34m(\u001b[0m\u001b[0minput\u001b[0m\u001b[0;34m,\u001b[0m \u001b[0mself\u001b[0m\u001b[0;34m.\u001b[0m\u001b[0mweight\u001b[0m\u001b[0;34m,\u001b[0m \u001b[0mself\u001b[0m\u001b[0;34m.\u001b[0m\u001b[0mbias\u001b[0m\u001b[0;34m)\u001b[0m\u001b[0;34m\u001b[0m\u001b[0;34m\u001b[0m\u001b[0m\n\u001b[0m\u001b[1;32m    459\u001b[0m \u001b[0;34m\u001b[0m\u001b[0m\n\u001b[1;32m    460\u001b[0m \u001b[0;32mclass\u001b[0m \u001b[0mConv3d\u001b[0m\u001b[0;34m(\u001b[0m\u001b[0m_ConvNd\u001b[0m\u001b[0;34m)\u001b[0m\u001b[0;34m:\u001b[0m\u001b[0;34m\u001b[0m\u001b[0;34m\u001b[0m\u001b[0m\n",
            "\u001b[0;32m/usr/local/lib/python3.10/dist-packages/torch/nn/modules/conv.py\u001b[0m in \u001b[0;36m_conv_forward\u001b[0;34m(self, input, weight, bias)\u001b[0m\n\u001b[1;32m    452\u001b[0m                             \u001b[0mweight\u001b[0m\u001b[0;34m,\u001b[0m \u001b[0mbias\u001b[0m\u001b[0;34m,\u001b[0m \u001b[0mself\u001b[0m\u001b[0;34m.\u001b[0m\u001b[0mstride\u001b[0m\u001b[0;34m,\u001b[0m\u001b[0;34m\u001b[0m\u001b[0;34m\u001b[0m\u001b[0m\n\u001b[1;32m    453\u001b[0m                             _pair(0), self.dilation, self.groups)\n\u001b[0;32m--> 454\u001b[0;31m         return F.conv2d(input, weight, bias, self.stride,\n\u001b[0m\u001b[1;32m    455\u001b[0m                         self.padding, self.dilation, self.groups)\n\u001b[1;32m    456\u001b[0m \u001b[0;34m\u001b[0m\u001b[0m\n",
            "\u001b[0;31mKeyboardInterrupt\u001b[0m: "
          ]
        }
      ]
    }
  ]
}