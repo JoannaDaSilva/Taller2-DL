{
 "cells": [
  {
   "cell_type": "code",
   "execution_count": 1,
   "metadata": {},
   "outputs": [],
   "source": [
    "import numpy as np\n",
    "import pandas as pd\n",
    "import matplotlib.pyplot as plt\n",
    "import torch\n",
    "from sklearn.model_selection import train_test_split\n",
    "from torch.utils.data import DataLoader, Dataset\n",
    "import torch.nn as nn\n",
    "import torch.nn.functional as F\n",
    "from torchvision import models\n",
    "from torch.optim import Adam\n",
    "from sklearn.metrics import precision_recall_fscore_support"
   ]
  },
  {
   "cell_type": "code",
   "execution_count": 2,
   "metadata": {},
   "outputs": [
    {
     "data": {
      "text/plain": [
       "device(type='cpu')"
      ]
     },
     "execution_count": 2,
     "metadata": {},
     "output_type": "execute_result"
    }
   ],
   "source": [
    "device = torch.device(\"cuda\" if torch.cuda.is_available() else \"cpu\")\n",
    "device"
   ]
  },
  {
   "cell_type": "code",
   "execution_count": 3,
   "metadata": {},
   "outputs": [],
   "source": [
    "x_train = np.load('./datos/x_train.npy')\n",
    "x_test = np.load('./datos/x_test.npy')\n",
    "y_train = np.load('./datos/y_train.npy')\n",
    "y_c1_train = np.load('./datos/y_c1_train.npy')\n",
    "y_c2_train = np.load('./datos/y_c2_train.npy')"
   ]
  },
  {
   "cell_type": "code",
   "execution_count": 4,
   "metadata": {},
   "outputs": [
    {
     "name": "stdout",
     "output_type": "stream",
     "text": [
      "Cantidad de imágenes por clase en y_train: [500. 500. 500. 500. 500. 500. 500. 500. 500. 500. 500. 500. 500. 500.\n",
      " 500. 500. 500. 500. 500. 500. 500. 500. 500. 500. 500. 500. 500. 500.\n",
      " 500. 500. 500. 500. 500. 500. 500. 500. 500. 500. 500. 500. 500. 500.\n",
      " 500. 500. 500. 500. 500. 500. 500. 500. 500. 500. 500. 500. 500. 500.\n",
      " 500. 500. 500. 500. 500. 500. 500. 500. 500. 500. 500. 500. 500. 500.\n",
      " 500. 500. 500. 500. 500. 500. 500. 500. 500. 500. 500. 500. 500. 500.\n",
      " 500. 500. 500. 500. 500. 500. 500. 500. 500. 500. 500. 500. 500. 500.\n",
      " 500. 500.]\n",
      "Cantidad de imágenes por clase en y_c1_train: [ 5000.  7500.  7500.  5000. 12500.  5000.  2500.  5000.]\n",
      "Cantidad de imágenes por clase en y_c2_train: [2500. 2500. 2500. 2500. 2500. 2500. 2500. 2500. 2500. 2500. 2500. 2500.\n",
      " 2500. 2500. 2500. 2500. 2500. 2500. 2500. 2500.]\n"
     ]
    }
   ],
   "source": [
    "def count_classes(y):\n",
    "    return np.sum(y, axis=0)\n",
    "\n",
    "class_counts_y_train = count_classes(y_train)\n",
    "class_counts_y_c1_train = count_classes(y_c1_train)\n",
    "class_counts_y_c2_train = count_classes(y_c2_train)\n",
    "\n",
    "print(\"Cantidad de imágenes por clase en y_train:\", class_counts_y_train)\n",
    "print(\"Cantidad de imágenes por clase en y_c1_train:\", class_counts_y_c1_train)\n",
    "print(\"Cantidad de imágenes por clase en y_c2_train:\", class_counts_y_c2_train)"
   ]
  },
  {
   "cell_type": "code",
   "execution_count": 5,
   "metadata": {},
   "outputs": [],
   "source": [
    "total_count_c1 = sum(class_counts_y_c1_train)\n",
    "class_weights_c1 = [total_count_c1 / (len(class_counts_y_c1_train) * count) for count in class_counts_y_c1_train]\n",
    "class_weights_tensor_c1 = torch.FloatTensor(class_weights_c1).to(device)"
   ]
  },
  {
   "cell_type": "code",
   "execution_count": 8,
   "metadata": {},
   "outputs": [],
   "source": [
    "X_train, X_val, y_train, y_val, y_c1_train, y_c1_val, y_c2_train, y_c2_val = train_test_split(\n",
    "    x_train, y_train, y_c1_train, y_c2_train,\n",
    "    test_size=0.2,\n",
    "    random_state=42,\n",
    "    stratify=y_train\n",
    ")"
   ]
  },
  {
   "cell_type": "code",
   "execution_count": 9,
   "metadata": {},
   "outputs": [],
   "source": [
    "class HierarchicalDataset(Dataset):\n",
    "    def __init__(self, x_data, y_data, y_c1_data, y_c2_data):\n",
    "        self.x_data = torch.tensor(x_data, dtype=torch.float32).permute(0, 3, 1, 2) # Permutamos para el formato [batch, channels, height, width] que es el que ocupan las capas Conv2D\n",
    "        self.y_data = torch.tensor(y_data, dtype=torch.float32)\n",
    "        self.y_c1_data = torch.tensor(y_c1_data, dtype=torch.float32)\n",
    "        self.y_c2_data = torch.tensor(y_c2_data, dtype=torch.float32)\n",
    "\n",
    "    def __len__(self):\n",
    "        return len(self.x_data)\n",
    "\n",
    "    def __getitem__(self, idx):\n",
    "        # Devuelve una muestra junto con sus tres etiquetas\n",
    "        return self.x_data[idx], self.y_data[idx], self.y_c1_data[idx], self.y_c2_data[idx]\n",
    "\n",
    "    def shape(self):\n",
    "        print('x_data shape:', self.x_data.shape, 'tipo dato:', self.x_data.dtype)\n",
    "        print('y_data shape:', self.y_data.shape, 'tipo dato:', self.y_data.dtype)\n",
    "        print('y_c1_data shape:', self.y_c1_data.shape, 'tipo dato:', self.y_c1_data.dtype)\n",
    "        print('y_c2_data shape:', self.y_c2_data.shape, 'tipo dato:', self.y_c2_data.dtype)\n",
    "\n",
    "train_dataset = HierarchicalDataset(X_train, y_train, y_c1_train, y_c2_train)\n",
    "val_dataset = HierarchicalDataset(X_val, y_val, y_c1_val, y_c2_val)"
   ]
  },
  {
   "cell_type": "code",
   "execution_count": 18,
   "metadata": {},
   "outputs": [
    {
     "name": "stderr",
     "output_type": "stream",
     "text": [
      "Downloading: \"https://download.pytorch.org/models/efficientnet_b4_rwightman-23ab8bcd.pth\" to C:\\Users\\joann/.cache\\torch\\hub\\checkpoints\\efficientnet_b4_rwightman-23ab8bcd.pth\n",
      "100%|██████████| 74.5M/74.5M [00:03<00:00, 25.8MB/s]\n"
     ]
    }
   ],
   "source": [
    "efficient_net_model =  models.efficientnet_b4(weights=models.EfficientNet_B4_Weights.DEFAULT)"
   ]
  },
  {
   "cell_type": "code",
   "execution_count": 19,
   "metadata": {},
   "outputs": [],
   "source": [
    "def freeze_model(base_model):\n",
    "  for param in base_model.parameters():\n",
    "    param.requires_grad = False\n",
    "  return base_model"
   ]
  },
  {
   "cell_type": "code",
   "execution_count": 20,
   "metadata": {},
   "outputs": [],
   "source": [
    "efficient_net_model = freeze_model(efficient_net_model)"
   ]
  },
  {
   "cell_type": "code",
   "execution_count": 22,
   "metadata": {},
   "outputs": [
    {
     "data": {
      "text/plain": [
       "Linear(in_features=1792, out_features=1000, bias=True)"
      ]
     },
     "execution_count": 22,
     "metadata": {},
     "output_type": "execute_result"
    }
   ],
   "source": [
    "efficient_net_model.classifier[1]"
   ]
  },
  {
   "cell_type": "code",
   "execution_count": 28,
   "metadata": {},
   "outputs": [],
   "source": [
    "class HierarchicalEfficientNet2(nn.Module):\n",
    "    def __init__(self, base_model, dropout):\n",
    "        super(HierarchicalEfficientNet2, self).__init__()\n",
    "\n",
    "        self.base = nn.Sequential(*list(base_model.children())[:-1])  # Última capa convolucional\n",
    "        self.global_pool = nn.AdaptiveAvgPool2d(1)\n",
    "\n",
    "        self.fc_y1 = nn.Linear(1792, 600)\n",
    "        self.relu_y1 = nn.ReLU()\n",
    "        self.fc_y2 = nn.Linear(600, 100)    # Para y_train (100 clases)\n",
    "        \n",
    "        self.fc_yc1_1 = nn.Linear(1792, 264)\n",
    "        self.relu_yc1 = nn.ReLU()\n",
    "        self.fc_yc1_2 = nn.Linear(264, 8)   # Para y_c1_train (8 clases)\n",
    "        \n",
    "        self.fc_yc2_1 = nn.Linear(1792, 264)\n",
    "        self.relu_yc2 = nn.ReLU()\n",
    "        self.fc_yc2_2 = nn.Linear(264, 20)  # Para y_c2_train (20 clases)\n",
    "        \n",
    "        self.dropout = nn.Dropout(dropout)\n",
    "\n",
    "    def forward(self, x):\n",
    "\n",
    "        x = self.base(x)\n",
    "        x = self.global_pool(x)  # Aplicar Global Average Pooling\n",
    "        x = torch.flatten(x, 1)  # Aplanar\n",
    "\n",
    "        # Predicciones para cada etiqueta jerárquica\n",
    "        y_pred = self.fc_y1(x)\n",
    "        y_pred = self.relu_y1(y_pred)\n",
    "        y_pred = self.dropout(y_pred)\n",
    "        y_pred = self.fc_y2(y_pred)\n",
    "        y_pred = F.softmax(y_pred, dim=1)\n",
    "\n",
    "        y_c1_pred = self.fc_yc1_1(x)\n",
    "        y_c1_pred = self.relu_yc1(y_c1_pred)\n",
    "        y_c1_pred = self.dropout(y_c1_pred)\n",
    "        y_c1_pred = self.fc_yc1_2(y_c1_pred)\n",
    "        y_c1_pred = F.softmax(y_c1_pred, dim=1)\n",
    "\n",
    "        y_c2_pred = self.fc_yc2_1(x)\n",
    "        y_c2_pred = self.relu_yc2(y_c2_pred)\n",
    "        y_c2_pred = self.dropout(y_c2_pred)\n",
    "        y_c2_pred = self.fc_yc2_2(y_c2_pred)\n",
    "        y_c2_pred = F.softmax(y_c2_pred, dim=1)\n",
    "\n",
    "        return y_pred, y_c1_pred, y_c2_pred"
   ]
  },
  {
   "cell_type": "code",
   "execution_count": 29,
   "metadata": {},
   "outputs": [],
   "source": [
    "def training(model, optimizer, num_epochs, train_loader, val_loader, criterion_y, criterion_y_c1, criterion_y_c2, device):\n",
    "    # Mover el modelo al dispositivo\n",
    "    model.to(device)\n",
    "\n",
    "    # Inicializar listas para almacenar los valores de loss, accuracy, precision, recall y F1\n",
    "    train_losses, val_losses = [], []\n",
    "    train_accuracies_y, train_accuracies_y_c1, train_accuracies_y_c2 = [], [], []\n",
    "    val_accuracies_y, val_accuracies_y_c1, val_accuracies_y_c2 = [], [], []\n",
    "    val_precisions, val_recalls, val_f1_scores = [], [], []\n",
    "\n",
    "    for epoch in range(num_epochs):\n",
    "        model.train()\n",
    "        running_loss = 0.0\n",
    "        correct_y, correct_y_c1, correct_y_c2 = 0, 0, 0\n",
    "        total = 0\n",
    "\n",
    "        for batch in train_loader:\n",
    "            inputs, labels_y, labels_y_c1, labels_y_c2 = batch  # Desempaquetar el batch\n",
    "\n",
    "            # Mover los datos al dispositivo\n",
    "            inputs, labels_y, labels_y_c1, labels_y_c2 = inputs.to(device), labels_y.to(device), labels_y_c1.to(device), labels_y_c2.to(device)\n",
    "\n",
    "            optimizer.zero_grad()  # Limpiar los gradientes\n",
    "\n",
    "            # Hacer una pasada hacia adelante\n",
    "            outputs = model(inputs)\n",
    "\n",
    "            # Calcular las pérdidas\n",
    "            loss_y = criterion_y(outputs[0], labels_y)\n",
    "            loss_y_c1 = criterion_y_c1(outputs[1], labels_y_c1)\n",
    "            loss_y_c2 = criterion_y_c2(outputs[2], labels_y_c2)\n",
    "            loss = loss_y + loss_y_c1 + loss_y_c2\n",
    "            loss.backward()  # Retropropagación\n",
    "            optimizer.step()  # Actualizar los pesos\n",
    "\n",
    "            running_loss += loss.item()\n",
    "\n",
    "            # Obtener las predicciones\n",
    "            _, predicted_y = torch.max(outputs[0].data, 1)\n",
    "            _, predicted_y_c1 = torch.max(outputs[1].data, 1)\n",
    "            _, predicted_y_c2 = torch.max(outputs[2].data, 1)\n",
    "\n",
    "            # Convertir labels a índices de clases\n",
    "            labels_y = torch.argmax(labels_y, dim=1).to(device)\n",
    "            labels_y_c1 = torch.argmax(labels_y_c1, dim=1).to(device)\n",
    "            labels_y_c2 = torch.argmax(labels_y_c2, dim=1).to(device)\n",
    "\n",
    "            total += labels_y.size(0)\n",
    "            correct_y += (predicted_y == labels_y).sum().item()\n",
    "            correct_y_c1 += (predicted_y_c1 == labels_y_c1).sum().item()\n",
    "            correct_y_c2 += (predicted_y_c2 == labels_y_c2).sum().item()\n",
    "\n",
    "        # Calcular y almacenar el loss y accuracy promedio para el entrenamiento\n",
    "        avg_train_loss = running_loss / len(train_loader)\n",
    "        avg_train_accuracy_y = 100 * correct_y / total\n",
    "        avg_train_accuracy_y_c1 = 100 * correct_y_c1 / total\n",
    "        avg_train_accuracy_y_c2 = 100 * correct_y_c2 / total\n",
    "        train_losses.append(avg_train_loss)\n",
    "        train_accuracies_y.append(avg_train_accuracy_y)\n",
    "        train_accuracies_y_c1.append(avg_train_accuracy_y_c1)\n",
    "        train_accuracies_y_c2.append(avg_train_accuracy_y_c2)\n",
    "\n",
    "        # Evaluar el modelo en el conjunto de validación\n",
    "        model.eval()\n",
    "        val_running_loss = 0.0\n",
    "        val_correct_y, val_correct_y_c1, val_correct_y_c2 = 0, 0, 0\n",
    "        val_total = 0\n",
    "        val_all_preds_y, val_all_labels_y = [], []\n",
    "        val_all_preds_y_c1, val_all_labels_y_c1 = [], []\n",
    "        val_all_preds_y_c2, val_all_labels_y_c2 = [], []\n",
    "\n",
    "        with torch.no_grad():\n",
    "            for val_batch in val_loader:\n",
    "                val_inputs, val_labels_y, val_labels_y_c1, val_labels_y_c2 = val_batch\n",
    "\n",
    "                # Mover los datos de validación al dispositivo\n",
    "                val_inputs, val_labels_y, val_labels_y_c1, val_labels_y_c2 = val_inputs.to(device), val_labels_y.to(device), val_labels_y_c1.to(device), val_labels_y_c2.to(device)\n",
    "\n",
    "                val_outputs = model(val_inputs)\n",
    "\n",
    "                # Calcular las pérdidas\n",
    "                val_loss_y = criterion_y(val_outputs[0], val_labels_y)\n",
    "                val_loss_y_c1 = criterion_y_c1(val_outputs[1], val_labels_y_c1)\n",
    "                val_loss_y_c2 = criterion_y_c2(val_outputs[2], val_labels_y_c2)\n",
    "                val_loss = val_loss_y + val_loss_y_c1 + val_loss_y_c2\n",
    "                val_running_loss += val_loss.item()\n",
    "\n",
    "                # Obtener las predicciones de validación\n",
    "                _, val_predicted_y = torch.max(val_outputs[0].data, 1)\n",
    "                _, val_predicted_y_c1 = torch.max(val_outputs[1].data, 1)\n",
    "                _, val_predicted_y_c2 = torch.max(val_outputs[2].data, 1)\n",
    "\n",
    "                # Convertir labels a índices de clases\n",
    "                val_labels_y = torch.argmax(val_labels_y, dim=1).to(device)\n",
    "                val_labels_y_c1 = torch.argmax(val_labels_y_c1, dim=1).to(device)\n",
    "                val_labels_y_c2 = torch.argmax(val_labels_y_c2, dim=1).to(device)\n",
    "\n",
    "                val_total += val_labels_y.size(0)\n",
    "                val_correct_y += (val_predicted_y == val_labels_y).sum().item()\n",
    "                val_correct_y_c1 += (val_predicted_y_c1 == val_labels_y_c1).sum().item()\n",
    "                val_correct_y_c2 += (val_predicted_y_c2 == val_labels_y_c2).sum().item()\n",
    "\n",
    "                # Almacenar todas las predicciones y etiquetas de validación\n",
    "                val_all_preds_y.extend(val_predicted_y.cpu().numpy())\n",
    "                val_all_labels_y.extend(val_labels_y.cpu().numpy())\n",
    "                val_all_preds_y_c1.extend(val_predicted_y_c1.cpu().numpy())\n",
    "                val_all_labels_y_c1.extend(val_labels_y_c1.cpu().numpy())\n",
    "                val_all_preds_y_c2.extend(val_predicted_y_c2.cpu().numpy())\n",
    "                val_all_labels_y_c2.extend(val_labels_y_c2.cpu().numpy())\n",
    "\n",
    "        # Calcular y almacenar el loss y accuracy promedio para la validación\n",
    "        avg_val_loss = val_running_loss / len(val_loader)\n",
    "        avg_val_accuracy_y = 100 * val_correct_y / val_total\n",
    "        avg_val_accuracy_y_c1 = 100 * val_correct_y_c1 / val_total\n",
    "        avg_val_accuracy_y_c2 = 100 * val_correct_y_c2 / val_total\n",
    "        val_losses.append(avg_val_loss)\n",
    "        val_accuracies_y.append(avg_val_accuracy_y)\n",
    "        val_accuracies_y_c1.append(avg_val_accuracy_y_c1)\n",
    "        val_accuracies_y_c2.append(avg_val_accuracy_y_c2)\n",
    "\n",
    "        # Calcular precisión, recall, F1 y soporte para cada nivel\n",
    "        precision_y, recall_y, f1_y, _ = precision_recall_fscore_support(val_all_labels_y, val_all_preds_y, average='weighted')\n",
    "        precision_y_c1, recall_y_c1, f1_y_c1, _ = precision_recall_fscore_support(val_all_labels_y_c1, val_all_preds_y_c1, average='weighted')\n",
    "        precision_y_c2, recall_y_c2, f1_y_c2, _ = precision_recall_fscore_support(val_all_labels_y_c2, val_all_preds_y_c2, average='weighted')\n",
    "        val_precisions.append((precision_y, precision_y_c1, precision_y_c2))\n",
    "        val_recalls.append((recall_y, recall_y_c1, recall_y_c2))\n",
    "        val_f1_scores.append((f1_y, f1_y_c1, f1_y_c2))\n",
    "\n",
    "        # Imprimir resultados finales de la época\n",
    "        print(f'\\nEpoch [{epoch+1}/{num_epochs}] Training Loss: {avg_train_loss:.4f}, Accuracies Y/C1/C2: {avg_train_accuracy_y:.2f}%, {avg_train_accuracy_y_c1:.2f}%, {avg_train_accuracy_y_c2:.2f}%'\n",
    "              f' | Validation Loss: {avg_val_loss:.4f}, Accuracies Y/C1/C2: {avg_val_accuracy_y:.2f}%, {avg_val_accuracy_y_c1:.2f}%, {avg_val_accuracy_y_c2:.2f}%\\n')\n",
    "\n",
    "    # Graficar los resultados\n",
    "    plt.figure(figsize=(12, 5))\n",
    "\n",
    "    # Gráfico de pérdidas\n",
    "    plt.subplot(1, 2, 1)\n",
    "    plt.plot(train_losses, label='Training Loss')\n",
    "    plt.plot(val_losses, label='Validation Loss')\n",
    "    plt.title('Loss vs Epochs')\n",
    "    plt.xlabel('Epochs')\n",
    "    plt.ylabel('Loss')\n",
    "    plt.legend()\n",
    "\n",
    "    # Gráfico de accuracies de cada nivel\n",
    "    plt.subplot(1, 2, 2)\n",
    "    plt.plot(train_accuracies_y, label='Training Accuracy Y')\n",
    "    plt.plot(train_accuracies_y_c1, label='Training Accuracy Y_c1')\n",
    "    plt.plot(train_accuracies_y_c2, label='Training Accuracy Y_c2')\n",
    "    plt.plot(val_accuracies_y, label='Validation Accuracy Y')\n",
    "    plt.plot(val_accuracies_y_c1, label='Validation Accuracy Y_c1')\n",
    "    plt.plot(val_accuracies_y_c2, label='Validation Accuracy Y_c2')\n",
    "    plt.title('Accuracy vs Epochs')\n",
    "    plt.xlabel('Epochs')\n",
    "    plt.ylabel('Accuracy')\n",
    "    plt.legend()\n",
    "\n",
    "    plt.show()\n",
    "\n",
    "    return train_losses, val_losses, train_accuracies_y, train_accuracies_y_c1, train_accuracies_y_c2, val_accuracies_y, val_accuracies_y_c1, val_accuracies_y_c2, val_precisions, val_recalls, val_f1_scores\n",
    "\n"
   ]
  },
  {
   "cell_type": "code",
   "execution_count": 30,
   "metadata": {},
   "outputs": [],
   "source": [
    "dropout = 0.2\n",
    "model_1 = HierarchicalEfficientNet2(efficient_net_model, dropout)"
   ]
  },
  {
   "cell_type": "code",
   "execution_count": 34,
   "metadata": {},
   "outputs": [],
   "source": [
    "learning_rate = 0.001\n",
    "num_epochs = 20\n",
    "batch_size = 164\n",
    "train_loader = DataLoader(train_dataset, batch_size=batch_size, shuffle=True)\n",
    "val_loader = DataLoader(val_dataset, batch_size=batch_size, shuffle=False)\n",
    "criterion_y = nn.CrossEntropyLoss()\n",
    "criterion_y_c1 = nn.CrossEntropyLoss(weight=class_weights_tensor_c1)\n",
    "criterion_y_c2 = nn.CrossEntropyLoss()\n",
    "optimizer = torch.optim.Adam(model_1.parameters(), lr=learning_rate)"
   ]
  },
  {
   "cell_type": "code",
   "execution_count": 35,
   "metadata": {},
   "outputs": [
    {
     "name": "stderr",
     "output_type": "stream",
     "text": [
      "C:\\Users\\joann\\AppData\\Local\\Packages\\PythonSoftwareFoundation.Python.3.11_qbz5n2kfra8p0\\LocalCache\\local-packages\\Python311\\site-packages\\sklearn\\metrics\\_classification.py:1531: UndefinedMetricWarning: Precision is ill-defined and being set to 0.0 in labels with no predicted samples. Use `zero_division` parameter to control this behavior.\n",
      "  _warn_prf(average, modifier, f\"{metric.capitalize()} is\", len(result))\n",
      "C:\\Users\\joann\\AppData\\Local\\Packages\\PythonSoftwareFoundation.Python.3.11_qbz5n2kfra8p0\\LocalCache\\local-packages\\Python311\\site-packages\\sklearn\\metrics\\_classification.py:1531: UndefinedMetricWarning: Precision is ill-defined and being set to 0.0 in labels with no predicted samples. Use `zero_division` parameter to control this behavior.\n",
      "  _warn_prf(average, modifier, f\"{metric.capitalize()} is\", len(result))\n"
     ]
    },
    {
     "name": "stdout",
     "output_type": "stream",
     "text": [
      "\n",
      "Epoch [1/20] Training Loss: 9.5088, Accuracies Y/C1/C2: 3.35%, 28.77%, 14.13% | Validation Loss: 9.4261, Accuracies Y/C1/C2: 4.13%, 28.89%, 15.79%\n",
      "\n"
     ]
    },
    {
     "name": "stderr",
     "output_type": "stream",
     "text": [
      "C:\\Users\\joann\\AppData\\Local\\Packages\\PythonSoftwareFoundation.Python.3.11_qbz5n2kfra8p0\\LocalCache\\local-packages\\Python311\\site-packages\\sklearn\\metrics\\_classification.py:1531: UndefinedMetricWarning: Precision is ill-defined and being set to 0.0 in labels with no predicted samples. Use `zero_division` parameter to control this behavior.\n",
      "  _warn_prf(average, modifier, f\"{metric.capitalize()} is\", len(result))\n",
      "C:\\Users\\joann\\AppData\\Local\\Packages\\PythonSoftwareFoundation.Python.3.11_qbz5n2kfra8p0\\LocalCache\\local-packages\\Python311\\site-packages\\sklearn\\metrics\\_classification.py:1531: UndefinedMetricWarning: Precision is ill-defined and being set to 0.0 in labels with no predicted samples. Use `zero_division` parameter to control this behavior.\n",
      "  _warn_prf(average, modifier, f\"{metric.capitalize()} is\", len(result))\n"
     ]
    },
    {
     "name": "stdout",
     "output_type": "stream",
     "text": [
      "\n",
      "Epoch [2/20] Training Loss: 9.4598, Accuracies Y/C1/C2: 4.63%, 29.95%, 15.85% | Validation Loss: 9.3942, Accuracies Y/C1/C2: 5.60%, 31.81%, 17.14%\n",
      "\n"
     ]
    },
    {
     "name": "stderr",
     "output_type": "stream",
     "text": [
      "C:\\Users\\joann\\AppData\\Local\\Packages\\PythonSoftwareFoundation.Python.3.11_qbz5n2kfra8p0\\LocalCache\\local-packages\\Python311\\site-packages\\sklearn\\metrics\\_classification.py:1531: UndefinedMetricWarning: Precision is ill-defined and being set to 0.0 in labels with no predicted samples. Use `zero_division` parameter to control this behavior.\n",
      "  _warn_prf(average, modifier, f\"{metric.capitalize()} is\", len(result))\n",
      "C:\\Users\\joann\\AppData\\Local\\Packages\\PythonSoftwareFoundation.Python.3.11_qbz5n2kfra8p0\\LocalCache\\local-packages\\Python311\\site-packages\\sklearn\\metrics\\_classification.py:1531: UndefinedMetricWarning: Precision is ill-defined and being set to 0.0 in labels with no predicted samples. Use `zero_division` parameter to control this behavior.\n",
      "  _warn_prf(average, modifier, f\"{metric.capitalize()} is\", len(result))\n"
     ]
    },
    {
     "name": "stdout",
     "output_type": "stream",
     "text": [
      "\n",
      "Epoch [3/20] Training Loss: 9.4402, Accuracies Y/C1/C2: 5.04%, 29.30%, 16.75% | Validation Loss: 9.3927, Accuracies Y/C1/C2: 5.61%, 33.13%, 18.47%\n",
      "\n"
     ]
    },
    {
     "name": "stderr",
     "output_type": "stream",
     "text": [
      "C:\\Users\\joann\\AppData\\Local\\Packages\\PythonSoftwareFoundation.Python.3.11_qbz5n2kfra8p0\\LocalCache\\local-packages\\Python311\\site-packages\\sklearn\\metrics\\_classification.py:1531: UndefinedMetricWarning: Precision is ill-defined and being set to 0.0 in labels with no predicted samples. Use `zero_division` parameter to control this behavior.\n",
      "  _warn_prf(average, modifier, f\"{metric.capitalize()} is\", len(result))\n",
      "C:\\Users\\joann\\AppData\\Local\\Packages\\PythonSoftwareFoundation.Python.3.11_qbz5n2kfra8p0\\LocalCache\\local-packages\\Python311\\site-packages\\sklearn\\metrics\\_classification.py:1531: UndefinedMetricWarning: Precision is ill-defined and being set to 0.0 in labels with no predicted samples. Use `zero_division` parameter to control this behavior.\n",
      "  _warn_prf(average, modifier, f\"{metric.capitalize()} is\", len(result))\n"
     ]
    },
    {
     "name": "stdout",
     "output_type": "stream",
     "text": [
      "\n",
      "Epoch [4/20] Training Loss: 9.4269, Accuracies Y/C1/C2: 5.23%, 31.04%, 16.79% | Validation Loss: 9.3552, Accuracies Y/C1/C2: 6.05%, 31.25%, 19.76%\n",
      "\n"
     ]
    },
    {
     "name": "stderr",
     "output_type": "stream",
     "text": [
      "C:\\Users\\joann\\AppData\\Local\\Packages\\PythonSoftwareFoundation.Python.3.11_qbz5n2kfra8p0\\LocalCache\\local-packages\\Python311\\site-packages\\sklearn\\metrics\\_classification.py:1531: UndefinedMetricWarning: Precision is ill-defined and being set to 0.0 in labels with no predicted samples. Use `zero_division` parameter to control this behavior.\n",
      "  _warn_prf(average, modifier, f\"{metric.capitalize()} is\", len(result))\n",
      "C:\\Users\\joann\\AppData\\Local\\Packages\\PythonSoftwareFoundation.Python.3.11_qbz5n2kfra8p0\\LocalCache\\local-packages\\Python311\\site-packages\\sklearn\\metrics\\_classification.py:1531: UndefinedMetricWarning: Precision is ill-defined and being set to 0.0 in labels with no predicted samples. Use `zero_division` parameter to control this behavior.\n",
      "  _warn_prf(average, modifier, f\"{metric.capitalize()} is\", len(result))\n"
     ]
    },
    {
     "name": "stdout",
     "output_type": "stream",
     "text": [
      "\n",
      "Epoch [5/20] Training Loss: 9.4147, Accuracies Y/C1/C2: 5.56%, 28.30%, 18.15% | Validation Loss: 9.3902, Accuracies Y/C1/C2: 4.55%, 31.54%, 19.14%\n",
      "\n"
     ]
    },
    {
     "name": "stderr",
     "output_type": "stream",
     "text": [
      "C:\\Users\\joann\\AppData\\Local\\Packages\\PythonSoftwareFoundation.Python.3.11_qbz5n2kfra8p0\\LocalCache\\local-packages\\Python311\\site-packages\\sklearn\\metrics\\_classification.py:1531: UndefinedMetricWarning: Precision is ill-defined and being set to 0.0 in labels with no predicted samples. Use `zero_division` parameter to control this behavior.\n",
      "  _warn_prf(average, modifier, f\"{metric.capitalize()} is\", len(result))\n",
      "C:\\Users\\joann\\AppData\\Local\\Packages\\PythonSoftwareFoundation.Python.3.11_qbz5n2kfra8p0\\LocalCache\\local-packages\\Python311\\site-packages\\sklearn\\metrics\\_classification.py:1531: UndefinedMetricWarning: Precision is ill-defined and being set to 0.0 in labels with no predicted samples. Use `zero_division` parameter to control this behavior.\n",
      "  _warn_prf(average, modifier, f\"{metric.capitalize()} is\", len(result))\n"
     ]
    },
    {
     "name": "stdout",
     "output_type": "stream",
     "text": [
      "\n",
      "Epoch [6/20] Training Loss: 9.4186, Accuracies Y/C1/C2: 5.27%, 29.03%, 17.80% | Validation Loss: 9.3692, Accuracies Y/C1/C2: 6.33%, 34.77%, 18.80%\n",
      "\n"
     ]
    },
    {
     "name": "stderr",
     "output_type": "stream",
     "text": [
      "C:\\Users\\joann\\AppData\\Local\\Packages\\PythonSoftwareFoundation.Python.3.11_qbz5n2kfra8p0\\LocalCache\\local-packages\\Python311\\site-packages\\sklearn\\metrics\\_classification.py:1531: UndefinedMetricWarning: Precision is ill-defined and being set to 0.0 in labels with no predicted samples. Use `zero_division` parameter to control this behavior.\n",
      "  _warn_prf(average, modifier, f\"{metric.capitalize()} is\", len(result))\n",
      "C:\\Users\\joann\\AppData\\Local\\Packages\\PythonSoftwareFoundation.Python.3.11_qbz5n2kfra8p0\\LocalCache\\local-packages\\Python311\\site-packages\\sklearn\\metrics\\_classification.py:1531: UndefinedMetricWarning: Precision is ill-defined and being set to 0.0 in labels with no predicted samples. Use `zero_division` parameter to control this behavior.\n",
      "  _warn_prf(average, modifier, f\"{metric.capitalize()} is\", len(result))\n"
     ]
    },
    {
     "name": "stdout",
     "output_type": "stream",
     "text": [
      "\n",
      "Epoch [7/20] Training Loss: 9.4074, Accuracies Y/C1/C2: 5.66%, 28.97%, 17.97% | Validation Loss: 9.3548, Accuracies Y/C1/C2: 6.10%, 32.68%, 18.97%\n",
      "\n"
     ]
    },
    {
     "name": "stderr",
     "output_type": "stream",
     "text": [
      "C:\\Users\\joann\\AppData\\Local\\Packages\\PythonSoftwareFoundation.Python.3.11_qbz5n2kfra8p0\\LocalCache\\local-packages\\Python311\\site-packages\\sklearn\\metrics\\_classification.py:1531: UndefinedMetricWarning: Precision is ill-defined and being set to 0.0 in labels with no predicted samples. Use `zero_division` parameter to control this behavior.\n",
      "  _warn_prf(average, modifier, f\"{metric.capitalize()} is\", len(result))\n",
      "C:\\Users\\joann\\AppData\\Local\\Packages\\PythonSoftwareFoundation.Python.3.11_qbz5n2kfra8p0\\LocalCache\\local-packages\\Python311\\site-packages\\sklearn\\metrics\\_classification.py:1531: UndefinedMetricWarning: Precision is ill-defined and being set to 0.0 in labels with no predicted samples. Use `zero_division` parameter to control this behavior.\n",
      "  _warn_prf(average, modifier, f\"{metric.capitalize()} is\", len(result))\n"
     ]
    },
    {
     "name": "stdout",
     "output_type": "stream",
     "text": [
      "\n",
      "Epoch [8/20] Training Loss: 9.3981, Accuracies Y/C1/C2: 5.80%, 31.70%, 17.93% | Validation Loss: 9.3465, Accuracies Y/C1/C2: 6.47%, 31.60%, 20.18%\n",
      "\n"
     ]
    },
    {
     "name": "stderr",
     "output_type": "stream",
     "text": [
      "C:\\Users\\joann\\AppData\\Local\\Packages\\PythonSoftwareFoundation.Python.3.11_qbz5n2kfra8p0\\LocalCache\\local-packages\\Python311\\site-packages\\sklearn\\metrics\\_classification.py:1531: UndefinedMetricWarning: Precision is ill-defined and being set to 0.0 in labels with no predicted samples. Use `zero_division` parameter to control this behavior.\n",
      "  _warn_prf(average, modifier, f\"{metric.capitalize()} is\", len(result))\n",
      "C:\\Users\\joann\\AppData\\Local\\Packages\\PythonSoftwareFoundation.Python.3.11_qbz5n2kfra8p0\\LocalCache\\local-packages\\Python311\\site-packages\\sklearn\\metrics\\_classification.py:1531: UndefinedMetricWarning: Precision is ill-defined and being set to 0.0 in labels with no predicted samples. Use `zero_division` parameter to control this behavior.\n",
      "  _warn_prf(average, modifier, f\"{metric.capitalize()} is\", len(result))\n"
     ]
    },
    {
     "name": "stdout",
     "output_type": "stream",
     "text": [
      "\n",
      "Epoch [9/20] Training Loss: 9.4061, Accuracies Y/C1/C2: 4.86%, 31.64%, 17.95% | Validation Loss: 9.3389, Accuracies Y/C1/C2: 6.37%, 35.64%, 20.98%\n",
      "\n"
     ]
    },
    {
     "name": "stderr",
     "output_type": "stream",
     "text": [
      "C:\\Users\\joann\\AppData\\Local\\Packages\\PythonSoftwareFoundation.Python.3.11_qbz5n2kfra8p0\\LocalCache\\local-packages\\Python311\\site-packages\\sklearn\\metrics\\_classification.py:1531: UndefinedMetricWarning: Precision is ill-defined and being set to 0.0 in labels with no predicted samples. Use `zero_division` parameter to control this behavior.\n",
      "  _warn_prf(average, modifier, f\"{metric.capitalize()} is\", len(result))\n",
      "C:\\Users\\joann\\AppData\\Local\\Packages\\PythonSoftwareFoundation.Python.3.11_qbz5n2kfra8p0\\LocalCache\\local-packages\\Python311\\site-packages\\sklearn\\metrics\\_classification.py:1531: UndefinedMetricWarning: Precision is ill-defined and being set to 0.0 in labels with no predicted samples. Use `zero_division` parameter to control this behavior.\n",
      "  _warn_prf(average, modifier, f\"{metric.capitalize()} is\", len(result))\n"
     ]
    },
    {
     "name": "stdout",
     "output_type": "stream",
     "text": [
      "\n",
      "Epoch [10/20] Training Loss: 9.3968, Accuracies Y/C1/C2: 5.79%, 30.94%, 18.38% | Validation Loss: 9.3548, Accuracies Y/C1/C2: 5.93%, 29.80%, 20.55%\n",
      "\n"
     ]
    },
    {
     "name": "stderr",
     "output_type": "stream",
     "text": [
      "C:\\Users\\joann\\AppData\\Local\\Packages\\PythonSoftwareFoundation.Python.3.11_qbz5n2kfra8p0\\LocalCache\\local-packages\\Python311\\site-packages\\sklearn\\metrics\\_classification.py:1531: UndefinedMetricWarning: Precision is ill-defined and being set to 0.0 in labels with no predicted samples. Use `zero_division` parameter to control this behavior.\n",
      "  _warn_prf(average, modifier, f\"{metric.capitalize()} is\", len(result))\n",
      "C:\\Users\\joann\\AppData\\Local\\Packages\\PythonSoftwareFoundation.Python.3.11_qbz5n2kfra8p0\\LocalCache\\local-packages\\Python311\\site-packages\\sklearn\\metrics\\_classification.py:1531: UndefinedMetricWarning: Precision is ill-defined and being set to 0.0 in labels with no predicted samples. Use `zero_division` parameter to control this behavior.\n",
      "  _warn_prf(average, modifier, f\"{metric.capitalize()} is\", len(result))\n"
     ]
    },
    {
     "name": "stdout",
     "output_type": "stream",
     "text": [
      "\n",
      "Epoch [11/20] Training Loss: 9.4029, Accuracies Y/C1/C2: 5.38%, 29.98%, 18.24% | Validation Loss: 9.3492, Accuracies Y/C1/C2: 6.55%, 31.59%, 19.95%\n",
      "\n"
     ]
    },
    {
     "name": "stderr",
     "output_type": "stream",
     "text": [
      "C:\\Users\\joann\\AppData\\Local\\Packages\\PythonSoftwareFoundation.Python.3.11_qbz5n2kfra8p0\\LocalCache\\local-packages\\Python311\\site-packages\\sklearn\\metrics\\_classification.py:1531: UndefinedMetricWarning: Precision is ill-defined and being set to 0.0 in labels with no predicted samples. Use `zero_division` parameter to control this behavior.\n",
      "  _warn_prf(average, modifier, f\"{metric.capitalize()} is\", len(result))\n",
      "C:\\Users\\joann\\AppData\\Local\\Packages\\PythonSoftwareFoundation.Python.3.11_qbz5n2kfra8p0\\LocalCache\\local-packages\\Python311\\site-packages\\sklearn\\metrics\\_classification.py:1531: UndefinedMetricWarning: Precision is ill-defined and being set to 0.0 in labels with no predicted samples. Use `zero_division` parameter to control this behavior.\n",
      "  _warn_prf(average, modifier, f\"{metric.capitalize()} is\", len(result))\n"
     ]
    },
    {
     "name": "stdout",
     "output_type": "stream",
     "text": [
      "\n",
      "Epoch [12/20] Training Loss: 9.4005, Accuracies Y/C1/C2: 5.72%, 30.66%, 18.95% | Validation Loss: 9.3180, Accuracies Y/C1/C2: 6.45%, 34.87%, 22.08%\n",
      "\n"
     ]
    },
    {
     "name": "stderr",
     "output_type": "stream",
     "text": [
      "C:\\Users\\joann\\AppData\\Local\\Packages\\PythonSoftwareFoundation.Python.3.11_qbz5n2kfra8p0\\LocalCache\\local-packages\\Python311\\site-packages\\sklearn\\metrics\\_classification.py:1531: UndefinedMetricWarning: Precision is ill-defined and being set to 0.0 in labels with no predicted samples. Use `zero_division` parameter to control this behavior.\n",
      "  _warn_prf(average, modifier, f\"{metric.capitalize()} is\", len(result))\n",
      "C:\\Users\\joann\\AppData\\Local\\Packages\\PythonSoftwareFoundation.Python.3.11_qbz5n2kfra8p0\\LocalCache\\local-packages\\Python311\\site-packages\\sklearn\\metrics\\_classification.py:1531: UndefinedMetricWarning: Precision is ill-defined and being set to 0.0 in labels with no predicted samples. Use `zero_division` parameter to control this behavior.\n",
      "  _warn_prf(average, modifier, f\"{metric.capitalize()} is\", len(result))\n"
     ]
    },
    {
     "name": "stdout",
     "output_type": "stream",
     "text": [
      "\n",
      "Epoch [13/20] Training Loss: 9.3941, Accuracies Y/C1/C2: 5.55%, 32.66%, 18.53% | Validation Loss: 9.3302, Accuracies Y/C1/C2: 5.75%, 34.69%, 22.16%\n",
      "\n"
     ]
    },
    {
     "name": "stderr",
     "output_type": "stream",
     "text": [
      "C:\\Users\\joann\\AppData\\Local\\Packages\\PythonSoftwareFoundation.Python.3.11_qbz5n2kfra8p0\\LocalCache\\local-packages\\Python311\\site-packages\\sklearn\\metrics\\_classification.py:1531: UndefinedMetricWarning: Precision is ill-defined and being set to 0.0 in labels with no predicted samples. Use `zero_division` parameter to control this behavior.\n",
      "  _warn_prf(average, modifier, f\"{metric.capitalize()} is\", len(result))\n",
      "C:\\Users\\joann\\AppData\\Local\\Packages\\PythonSoftwareFoundation.Python.3.11_qbz5n2kfra8p0\\LocalCache\\local-packages\\Python311\\site-packages\\sklearn\\metrics\\_classification.py:1531: UndefinedMetricWarning: Precision is ill-defined and being set to 0.0 in labels with no predicted samples. Use `zero_division` parameter to control this behavior.\n",
      "  _warn_prf(average, modifier, f\"{metric.capitalize()} is\", len(result))\n"
     ]
    },
    {
     "name": "stdout",
     "output_type": "stream",
     "text": [
      "\n",
      "Epoch [14/20] Training Loss: 9.3898, Accuracies Y/C1/C2: 5.70%, 29.20%, 19.46% | Validation Loss: 9.3345, Accuracies Y/C1/C2: 5.99%, 32.36%, 22.29%\n",
      "\n"
     ]
    },
    {
     "name": "stderr",
     "output_type": "stream",
     "text": [
      "C:\\Users\\joann\\AppData\\Local\\Packages\\PythonSoftwareFoundation.Python.3.11_qbz5n2kfra8p0\\LocalCache\\local-packages\\Python311\\site-packages\\sklearn\\metrics\\_classification.py:1531: UndefinedMetricWarning: Precision is ill-defined and being set to 0.0 in labels with no predicted samples. Use `zero_division` parameter to control this behavior.\n",
      "  _warn_prf(average, modifier, f\"{metric.capitalize()} is\", len(result))\n",
      "C:\\Users\\joann\\AppData\\Local\\Packages\\PythonSoftwareFoundation.Python.3.11_qbz5n2kfra8p0\\LocalCache\\local-packages\\Python311\\site-packages\\sklearn\\metrics\\_classification.py:1531: UndefinedMetricWarning: Precision is ill-defined and being set to 0.0 in labels with no predicted samples. Use `zero_division` parameter to control this behavior.\n",
      "  _warn_prf(average, modifier, f\"{metric.capitalize()} is\", len(result))\n"
     ]
    },
    {
     "name": "stdout",
     "output_type": "stream",
     "text": [
      "\n",
      "Epoch [15/20] Training Loss: 9.3770, Accuracies Y/C1/C2: 6.07%, 33.63%, 19.22% | Validation Loss: 9.3210, Accuracies Y/C1/C2: 6.70%, 33.20%, 21.78%\n",
      "\n"
     ]
    },
    {
     "name": "stderr",
     "output_type": "stream",
     "text": [
      "C:\\Users\\joann\\AppData\\Local\\Packages\\PythonSoftwareFoundation.Python.3.11_qbz5n2kfra8p0\\LocalCache\\local-packages\\Python311\\site-packages\\sklearn\\metrics\\_classification.py:1531: UndefinedMetricWarning: Precision is ill-defined and being set to 0.0 in labels with no predicted samples. Use `zero_division` parameter to control this behavior.\n",
      "  _warn_prf(average, modifier, f\"{metric.capitalize()} is\", len(result))\n",
      "C:\\Users\\joann\\AppData\\Local\\Packages\\PythonSoftwareFoundation.Python.3.11_qbz5n2kfra8p0\\LocalCache\\local-packages\\Python311\\site-packages\\sklearn\\metrics\\_classification.py:1531: UndefinedMetricWarning: Precision is ill-defined and being set to 0.0 in labels with no predicted samples. Use `zero_division` parameter to control this behavior.\n",
      "  _warn_prf(average, modifier, f\"{metric.capitalize()} is\", len(result))\n"
     ]
    },
    {
     "name": "stdout",
     "output_type": "stream",
     "text": [
      "\n",
      "Epoch [16/20] Training Loss: 9.3951, Accuracies Y/C1/C2: 5.84%, 30.27%, 18.32% | Validation Loss: 9.3917, Accuracies Y/C1/C2: 6.14%, 27.18%, 21.21%\n",
      "\n"
     ]
    },
    {
     "name": "stderr",
     "output_type": "stream",
     "text": [
      "C:\\Users\\joann\\AppData\\Local\\Packages\\PythonSoftwareFoundation.Python.3.11_qbz5n2kfra8p0\\LocalCache\\local-packages\\Python311\\site-packages\\sklearn\\metrics\\_classification.py:1531: UndefinedMetricWarning: Precision is ill-defined and being set to 0.0 in labels with no predicted samples. Use `zero_division` parameter to control this behavior.\n",
      "  _warn_prf(average, modifier, f\"{metric.capitalize()} is\", len(result))\n",
      "C:\\Users\\joann\\AppData\\Local\\Packages\\PythonSoftwareFoundation.Python.3.11_qbz5n2kfra8p0\\LocalCache\\local-packages\\Python311\\site-packages\\sklearn\\metrics\\_classification.py:1531: UndefinedMetricWarning: Precision is ill-defined and being set to 0.0 in labels with no predicted samples. Use `zero_division` parameter to control this behavior.\n",
      "  _warn_prf(average, modifier, f\"{metric.capitalize()} is\", len(result))\n"
     ]
    },
    {
     "name": "stdout",
     "output_type": "stream",
     "text": [
      "\n",
      "Epoch [17/20] Training Loss: 9.3966, Accuracies Y/C1/C2: 5.67%, 29.28%, 19.43% | Validation Loss: 9.3386, Accuracies Y/C1/C2: 6.46%, 32.62%, 21.62%\n",
      "\n"
     ]
    },
    {
     "name": "stderr",
     "output_type": "stream",
     "text": [
      "C:\\Users\\joann\\AppData\\Local\\Packages\\PythonSoftwareFoundation.Python.3.11_qbz5n2kfra8p0\\LocalCache\\local-packages\\Python311\\site-packages\\sklearn\\metrics\\_classification.py:1531: UndefinedMetricWarning: Precision is ill-defined and being set to 0.0 in labels with no predicted samples. Use `zero_division` parameter to control this behavior.\n",
      "  _warn_prf(average, modifier, f\"{metric.capitalize()} is\", len(result))\n",
      "C:\\Users\\joann\\AppData\\Local\\Packages\\PythonSoftwareFoundation.Python.3.11_qbz5n2kfra8p0\\LocalCache\\local-packages\\Python311\\site-packages\\sklearn\\metrics\\_classification.py:1531: UndefinedMetricWarning: Precision is ill-defined and being set to 0.0 in labels with no predicted samples. Use `zero_division` parameter to control this behavior.\n",
      "  _warn_prf(average, modifier, f\"{metric.capitalize()} is\", len(result))\n"
     ]
    },
    {
     "name": "stdout",
     "output_type": "stream",
     "text": [
      "\n",
      "Epoch [18/20] Training Loss: 9.3958, Accuracies Y/C1/C2: 6.09%, 30.16%, 18.98% | Validation Loss: 9.3393, Accuracies Y/C1/C2: 6.68%, 30.83%, 20.67%\n",
      "\n"
     ]
    },
    {
     "name": "stderr",
     "output_type": "stream",
     "text": [
      "C:\\Users\\joann\\AppData\\Local\\Packages\\PythonSoftwareFoundation.Python.3.11_qbz5n2kfra8p0\\LocalCache\\local-packages\\Python311\\site-packages\\sklearn\\metrics\\_classification.py:1531: UndefinedMetricWarning: Precision is ill-defined and being set to 0.0 in labels with no predicted samples. Use `zero_division` parameter to control this behavior.\n",
      "  _warn_prf(average, modifier, f\"{metric.capitalize()} is\", len(result))\n",
      "C:\\Users\\joann\\AppData\\Local\\Packages\\PythonSoftwareFoundation.Python.3.11_qbz5n2kfra8p0\\LocalCache\\local-packages\\Python311\\site-packages\\sklearn\\metrics\\_classification.py:1531: UndefinedMetricWarning: Precision is ill-defined and being set to 0.0 in labels with no predicted samples. Use `zero_division` parameter to control this behavior.\n",
      "  _warn_prf(average, modifier, f\"{metric.capitalize()} is\", len(result))\n"
     ]
    },
    {
     "name": "stdout",
     "output_type": "stream",
     "text": [
      "\n",
      "Epoch [19/20] Training Loss: 9.3850, Accuracies Y/C1/C2: 6.34%, 30.69%, 19.32% | Validation Loss: 9.3473, Accuracies Y/C1/C2: 6.50%, 35.77%, 18.25%\n",
      "\n"
     ]
    },
    {
     "name": "stderr",
     "output_type": "stream",
     "text": [
      "C:\\Users\\joann\\AppData\\Local\\Packages\\PythonSoftwareFoundation.Python.3.11_qbz5n2kfra8p0\\LocalCache\\local-packages\\Python311\\site-packages\\sklearn\\metrics\\_classification.py:1531: UndefinedMetricWarning: Precision is ill-defined and being set to 0.0 in labels with no predicted samples. Use `zero_division` parameter to control this behavior.\n",
      "  _warn_prf(average, modifier, f\"{metric.capitalize()} is\", len(result))\n",
      "C:\\Users\\joann\\AppData\\Local\\Packages\\PythonSoftwareFoundation.Python.3.11_qbz5n2kfra8p0\\LocalCache\\local-packages\\Python311\\site-packages\\sklearn\\metrics\\_classification.py:1531: UndefinedMetricWarning: Precision is ill-defined and being set to 0.0 in labels with no predicted samples. Use `zero_division` parameter to control this behavior.\n",
      "  _warn_prf(average, modifier, f\"{metric.capitalize()} is\", len(result))\n"
     ]
    },
    {
     "name": "stdout",
     "output_type": "stream",
     "text": [
      "\n",
      "Epoch [20/20] Training Loss: 9.3819, Accuracies Y/C1/C2: 6.04%, 32.29%, 19.22% | Validation Loss: 9.3141, Accuracies Y/C1/C2: 6.85%, 35.36%, 22.45%\n",
      "\n"
     ]
    },
    {
     "data": {
      "image/png": "[encoded data removed]",
      "text/plain": [
       "<Figure size 1200x500 with 2 Axes>"
      ]
     },
     "metadata": {},
     "output_type": "display_data"
    }
   ],
   "source": [
    "train_losses, val_losses, train_accuracies_y, train_accuracies_y_c1, train_accuracies_y_c2, val_accuracies_y, val_accuracies_y_c1, val_accuracies_y_c2, val_precisions, val_recalls, val_f1_scores = training(model_1, optimizer, num_epochs, train_loader, val_loader, criterion_y, criterion_y_c1, criterion_y_c2, device)"
   ]
  },
  {
   "cell_type": "code",
   "execution_count": 21,
   "metadata": {},
   "outputs": [
    {
     "data": {
      "text/plain": [
       "array([[[[ 1.1184368 ,  1.351569  ,  1.8469751 ],\n",
       "         [ 1.0747246 ,  1.293286  ,  1.7741213 ],\n",
       "         [ 1.0601537 ,  1.2787153 ,  1.7595505 ],\n",
       "         ...,\n",
       "         [ 1.3661398 ,  1.5847013 ,  1.8615458 ],\n",
       "         [ 1.3807106 ,  1.5847013 ,  1.8615458 ],\n",
       "         [ 1.482706  ,  1.6284136 ,  1.8906875 ]],\n",
       "\n",
       "        [[ 1.0892953 ,  1.2787153 ,  1.7012674 ],\n",
       "         [ 1.0601537 ,  1.2495737 ,  1.6866966 ],\n",
       "         [ 1.0601537 ,  1.2787153 ,  1.7158382 ],\n",
       "         ...,\n",
       "         [ 1.5847013 ,  1.7595505 ,  1.8615458 ],\n",
       "         [ 1.6138428 ,  1.7595505 ,  1.8615458 ],\n",
       "         [ 1.7304089 ,  1.788692  ,  1.9052582 ]],\n",
       "\n",
       "        [[ 1.4535644 ,  1.5118475 ,  1.8032627 ],\n",
       "         [ 1.3224275 ,  1.4244229 ,  1.7449797 ],\n",
       "         [ 1.2641444 ,  1.4098521 ,  1.7595505 ],\n",
       "         ...,\n",
       "         [ 1.7595505 ,  1.8615458 ,  1.8761168 ],\n",
       "         [ 1.7741213 ,  1.8469751 ,  1.8761168 ],\n",
       "         [ 1.8615458 ,  1.8615458 ,  1.9052582 ]],\n",
       "\n",
       "        ...,\n",
       "\n",
       "        [[-0.7320503 , -0.7174795 , -0.33863968],\n",
       "         [-0.7466211 , -0.70290875, -0.29492736],\n",
       "         [-0.70290875, -0.6446257 , -0.20750278],\n",
       "         ...,\n",
       "         [ 1.4244229 ,  1.2495737 ,  1.3807106 ],\n",
       "         [ 0.8853046 ,  0.6667431 ,  0.8561631 ],\n",
       "         [ 0.47732317,  0.27333245,  0.40446934]],\n",
       "\n",
       "        [[-0.7320503 , -0.68833804, -0.26578584],\n",
       "         [-0.67376727, -0.6009134 , -0.16379048],\n",
       "         [-0.55720115, -0.4843473 , -0.00351207],\n",
       "         ...,\n",
       "         [ 1.4535644 ,  1.3078568 ,  1.4244229 ],\n",
       "         [ 0.94358766,  0.7541677 ,  1.0164415 ],\n",
       "         [ 0.3316155 ,  0.14219558,  0.38989857]],\n",
       "\n",
       "        [[-0.6154842 , -0.5426304 , -0.06179513],\n",
       "         [-0.55720115, -0.46977654,  0.01105869],\n",
       "         [-0.5426304 , -0.44063503,  0.06934176],\n",
       "         ...,\n",
       "         [ 1.3807106 ,  1.235003  ,  1.351569  ],\n",
       "         [ 1.235003  ,  1.045583  ,  1.293286  ],\n",
       "         [ 0.7833092 ,  0.60846007,  0.8853046 ]]],\n",
       "\n",
       "\n",
       "       [[[-0.13464895,  0.11305404, -0.35321042],\n",
       "         [-0.4989181 , -0.25121507, -0.7174795 ],\n",
       "         [-0.7320503 , -0.4843473 , -0.936041  ],\n",
       "         ...,\n",
       "         [-0.25121507,  0.02562946, -0.42606425],\n",
       "         [-0.5280596 , -0.23664431, -0.70290875],\n",
       "         [-0.8631872 , -0.5863427 , -0.9797533 ]],\n",
       "\n",
       "        [[-0.3969227 , -0.13464895, -0.6154842 ],\n",
       "         [-0.6446257 , -0.3677812 , -0.8486164 ],\n",
       "         [-0.87775797, -0.6154842 , -1.0671779 ],\n",
       "         ...,\n",
       "         [-0.28035662, -0.00351207, -0.55720115],\n",
       "         [-0.4843473 , -0.19293201, -0.76119184],\n",
       "         [-0.83404565, -0.5717719 , -1.0671779 ]],\n",
       "\n",
       "        [[-0.63005495, -0.3677812 , -0.87775797],\n",
       "         [-0.83404565, -0.5863427 , -1.0671779 ],\n",
       "         [-1.0234656 , -0.80490416, -1.242027  ],\n",
       "         ...,\n",
       "         [-0.83404565, -0.63005495, -1.0234656 ],\n",
       "         [-0.87775797, -0.63005495, -1.0380363 ],\n",
       "         [-1.0671779 , -0.8486164 , -1.2274563 ]],\n",
       "\n",
       "        ...,\n",
       "\n",
       "        [[-0.01808284, -0.29492736, -0.5280596 ],\n",
       "         [ 0.06934176, -0.20750278, -0.38235196],\n",
       "         [ 0.24419093, -0.01808284, -0.16379048],\n",
       "         ...,\n",
       "         [-0.6154842 , -0.3240689 , -0.7466211 ],\n",
       "         [-0.68833804, -0.3969227 , -0.7903334 ],\n",
       "         [-0.8194749 , -0.5426304 , -0.87775797]],\n",
       "\n",
       "        [[ 0.69588464,  0.3316155 ,  0.12762481],\n",
       "         [ 0.6521723 ,  0.3316155 ,  0.14219558],\n",
       "         [ 0.5356062 ,  0.2587617 ,  0.08391252],\n",
       "         ...,\n",
       "         [-0.3240689 , -0.13464895, -0.55720115],\n",
       "         [-0.4843473 , -0.28035662, -0.6591965 ],\n",
       "         [-0.7174795 , -0.5134888 , -0.8486164 ]],\n",
       "\n",
       "        [[ 0.6667431 ,  0.40446934,  0.18590787],\n",
       "         [ 0.69588464,  0.4336109 ,  0.2150494 ],\n",
       "         [ 0.73959696,  0.49189395,  0.27333245],\n",
       "         ...,\n",
       "         [-0.06179513,  0.01105869, -0.38235196],\n",
       "         [-0.33863968, -0.23664431, -0.6154842 ],\n",
       "         [-0.55720115, -0.44063503, -0.80490416]]],\n",
       "\n",
       "\n",
       "       [[[-0.89232874, -0.46977654, -0.0326536 ],\n",
       "         [-0.89232874, -0.4843473 , -0.04722437],\n",
       "         [-0.80490416, -0.38235196,  0.04020022],\n",
       "         ...,\n",
       "         [-0.76119184, -0.42606425,  0.02562946],\n",
       "         [-0.8486164 , -0.5134888 , -0.06179513],\n",
       "         [-0.8486164 , -0.4989181 , -0.04722437]],\n",
       "\n",
       "        [[-0.80490416, -0.3677812 ,  0.06934176],\n",
       "         [-0.6446257 , -0.20750278,  0.22962017],\n",
       "         [-0.6154842 , -0.19293201,  0.24419093],\n",
       "         ...,\n",
       "         [-0.3969227 , -0.13464895,  0.28790322],\n",
       "         [-0.5717719 , -0.30949813,  0.09848328],\n",
       "         [-0.5717719 , -0.29492736,  0.11305404]],\n",
       "\n",
       "        [[-0.8486164 , -0.42606425,  0.01105869],\n",
       "         [-0.8194749 , -0.3969227 ,  0.04020022],\n",
       "         [-0.89232874, -0.46977654, -0.0326536 ],\n",
       "         ...,\n",
       "         [-0.0326536 ,  0.17133711,  0.550177  ],\n",
       "         [-0.19293201,  0.01105869,  0.40446934],\n",
       "         [-0.14921972,  0.05477099,  0.4336109 ]],\n",
       "\n",
       "        ...,\n",
       "\n",
       "        [[-0.55720115, -0.5134888 , -0.5134888 ],\n",
       "         [-0.80490416, -0.9214703 , -1.2274563 ],\n",
       "         [-0.55720115, -0.6446257 , -1.3003101 ],\n",
       "         ...,\n",
       "         [ 1.1912906 ,  0.6521723 ,  0.550177  ],\n",
       "         [ 1.6429844 ,  1.1621491 ,  1.0164415 ],\n",
       "         [ 1.6575551 ,  1.2204322 ,  1.0310122 ]],\n",
       "\n",
       "        [[-0.7320503 , -0.8486164 , -0.9943241 ],\n",
       "         [-0.76119184, -0.9943241 , -1.3440224 ],\n",
       "         [-0.55720115, -0.63005495, -1.1983148 ],\n",
       "         ...,\n",
       "         [ 1.1184368 ,  0.5064647 ,  0.4336109 ],\n",
       "         [ 0.9872999 ,  0.40446934,  0.28790322],\n",
       "         [ 1.0747246 ,  0.56474775,  0.38989857]],\n",
       "\n",
       "        [[-0.7320503 , -0.89232874, -1.0963194 ],\n",
       "         [-0.67376727, -0.8486164 , -1.2711686 ],\n",
       "         [-0.6591965 , -0.70290875, -1.242027  ],\n",
       "         ...,\n",
       "         [ 1.5264182 ,  1.0018708 ,  0.97272915],\n",
       "         [ 0.47732317, -0.04722437, -0.10550743],\n",
       "         [ 0.17133711, -0.35321042, -0.4843473 ]]],\n",
       "\n",
       "\n",
       "       ...,\n",
       "\n",
       "\n",
       "       [[[-1.431447  , -1.2274563 , -1.3294517 ],\n",
       "         [-1.431447  , -1.1983148 , -1.3294517 ],\n",
       "         [-1.4605886 , -1.2857394 , -1.3731639 ],\n",
       "         ...,\n",
       "         [-0.96518254, -0.9214703 , -0.9797533 ],\n",
       "         [-1.2711686 , -1.1983148 , -1.242027  ],\n",
       "         [-1.4168763 , -1.2711686 , -1.3148808 ]],\n",
       "\n",
       "        [[-1.5043008 , -1.3585932 , -1.4023055 ],\n",
       "         [-1.3731639 , -1.125461  , -1.2711686 ],\n",
       "         [-1.4168763 , -1.1983148 , -1.3585932 ],\n",
       "         ...,\n",
       "         [-0.9797533 , -0.95061177, -0.936041  ],\n",
       "         [-1.2274563 , -1.1691732 , -1.1400317 ],\n",
       "         [-1.2565979 , -1.1400317 , -1.2128855 ]],\n",
       "\n",
       "        [[-1.4460177 , -1.2274563 , -1.3731639 ],\n",
       "         [-1.3294517 , -1.0380363 , -1.2711686 ],\n",
       "         [-1.3585932 , -1.0526072 , -1.3148808 ],\n",
       "         ...,\n",
       "         [-1.3003101 , -1.1837441 , -1.2565979 ],\n",
       "         [-1.3003101 , -1.242027  , -1.1837441 ],\n",
       "         [-1.1691732 , -1.0671779 , -1.1400317 ]],\n",
       "\n",
       "        ...,\n",
       "\n",
       "        [[-1.2128855 , -0.7174795 , -1.3585932 ],\n",
       "         [-1.0963194 , -0.3969227 , -1.4168763 ],\n",
       "         [-0.89232874, -0.26578584, -1.1400317 ],\n",
       "         ...,\n",
       "         [-1.1837441 , -0.63005495, -1.2711686 ],\n",
       "         [-0.7466211 , -0.28035662, -0.7320503 ],\n",
       "         [-0.9943241 , -0.42606425, -1.0088948 ]],\n",
       "\n",
       "        [[-1.2128855 , -0.7320503 , -1.2857394 ],\n",
       "         [-1.1983148 , -0.45520577, -1.5188717 ],\n",
       "         [-1.0380363 , -0.38235196, -1.3003101 ],\n",
       "         ...,\n",
       "         [-1.3003101 , -0.76119184, -1.431447  ],\n",
       "         [-0.80490416, -0.3240689 , -0.87775797],\n",
       "         [-0.89232874, -0.30949813, -0.9797533 ]],\n",
       "\n",
       "        [[-1.0817487 , -0.4843473 , -1.3003101 ],\n",
       "         [-1.242027  , -0.5717719 , -1.5334424 ],\n",
       "         [-1.1108902 , -0.45520577, -1.431447  ],\n",
       "         ...,\n",
       "         [-1.3003101 , -0.8194749 , -1.4897301 ],\n",
       "         [-0.83404565, -0.3969227 , -0.9943241 ],\n",
       "         [-0.9068995 , -0.41149348, -0.9943241 ]]],\n",
       "\n",
       "\n",
       "       [[[-0.5280596 , -0.46977654, -0.6154842 ],\n",
       "         [-0.42606425, -0.46977654, -0.68833804],\n",
       "         [-1.3731639 , -1.4168763 , -1.4751593 ],\n",
       "         ...,\n",
       "         [-0.7174795 , -1.0234656 , -1.2565979 ],\n",
       "         [-0.80490416, -1.0671779 , -1.2128855 ],\n",
       "         [-0.44063503, -0.7466211 , -0.89232874]],\n",
       "\n",
       "        [[-0.5863427 , -0.5280596 , -0.6154842 ],\n",
       "         [-1.1546025 , -1.1400317 , -1.1837441 ],\n",
       "         [-1.5334424 , -1.5334424 , -1.5188717 ],\n",
       "         ...,\n",
       "         [-0.83404565, -1.1691732 , -1.3731639 ],\n",
       "         [-1.2857394 , -1.4460177 , -1.5480131 ],\n",
       "         [-0.96518254, -1.1837441 , -1.3003101 ]],\n",
       "\n",
       "        [[-0.8486164 , -0.8194749 , -0.9068995 ],\n",
       "         [-1.4168763 , -1.3877348 , -1.4023055 ],\n",
       "         [-1.2128855 , -1.2128855 , -1.2128855 ],\n",
       "         ...,\n",
       "         [-0.9943241 , -1.242027  , -1.431447  ],\n",
       "         [-1.2857394 , -1.4168763 , -1.5043008 ],\n",
       "         [-1.1983148 , -1.3294517 , -1.4605886 ]],\n",
       "\n",
       "        ...,\n",
       "\n",
       "        [[-1.1546025 , -1.1546025 , -1.2128855 ],\n",
       "         [-0.5134888 , -0.5863427 , -0.76119184],\n",
       "         [-0.14921972, -0.25121507, -0.45520577],\n",
       "         ...,\n",
       "         [ 0.11305404,  0.11305404,  0.01105869],\n",
       "         [ 0.08391252,  0.05477099, -0.01808284],\n",
       "         [-0.04722437, -0.01808284, -0.04722437]],\n",
       "\n",
       "        [[-1.1400317 , -1.1691732 , -1.2711686 ],\n",
       "         [-0.63005495, -0.70290875, -0.87775797],\n",
       "         [-0.33863968, -0.3969227 , -0.5863427 ],\n",
       "         ...,\n",
       "         [ 0.18590787,  0.15676634,  0.01105869],\n",
       "         [ 0.11305404,  0.06934176, -0.04722437],\n",
       "         [-0.01808284, -0.0326536 , -0.12007819]],\n",
       "\n",
       "        [[-0.5426304 , -0.5863427 , -0.76119184],\n",
       "         [-0.3677812 , -0.45520577, -0.6591965 ],\n",
       "         [-0.46977654, -0.4989181 , -0.67376727],\n",
       "         ...,\n",
       "         [ 0.14219558,  0.08391252, -0.04722437],\n",
       "         [ 0.09848328,  0.02562946, -0.10550743],\n",
       "         [-0.0326536 , -0.0763659 , -0.19293201]]],\n",
       "\n",
       "\n",
       "       [[[ 1.8032627 ,  1.8032627 ,  1.7449797 ],\n",
       "         [ 1.7158382 ,  1.6866966 ,  1.599272  ],\n",
       "         [ 1.3369983 ,  1.3078568 ,  1.1184368 ],\n",
       "         ...,\n",
       "         [-0.70290875, -1.3148808 , -1.2711686 ],\n",
       "         [-0.6591965 , -1.2857394 , -1.242027  ],\n",
       "         [-0.6009134 , -1.2857394 , -1.2711686 ]],\n",
       "\n",
       "        [[ 1.2787153 ,  1.2058614 ,  1.0747246 ],\n",
       "         [ 1.7595505 ,  1.7158382 ,  1.5701306 ],\n",
       "         [ 1.5555598 ,  1.4972767 ,  1.3369983 ],\n",
       "         ...,\n",
       "         [-0.68833804, -1.3003101 , -1.2711686 ],\n",
       "         [-0.63005495, -1.2711686 , -1.2274563 ],\n",
       "         [-0.5717719 , -1.2857394 , -1.2565979 ]],\n",
       "\n",
       "        [[ 0.31704476,  0.17133711, -0.14921972],\n",
       "         [ 0.76873845,  0.5938893 ,  0.31704476],\n",
       "         [ 0.5210355 ,  0.31704476,  0.11305404],\n",
       "         ...,\n",
       "         [-0.70290875, -1.3003101 , -1.2711686 ],\n",
       "         [-0.63005495, -1.2711686 , -1.2274563 ],\n",
       "         [-0.5863427 , -1.3003101 , -1.2565979 ]],\n",
       "\n",
       "        ...,\n",
       "\n",
       "        [[ 1.1038661 ,  0.9872999 ,  0.7833092 ],\n",
       "         [-0.16379048, -0.16379048, -0.8194749 ],\n",
       "         [-0.936041  , -0.9797533 , -1.3877348 ],\n",
       "         ...,\n",
       "         [-0.87775797, -0.6009134 , -1.1837441 ],\n",
       "         [-0.7320503 , -0.3240689 , -1.1837441 ],\n",
       "         [-0.6154842 , -0.22207354, -1.0671779 ]],\n",
       "\n",
       "        [[ 0.6521723 ,  0.550177  ,  0.31704476],\n",
       "         [-0.87775797, -0.8486164 , -1.3877348 ],\n",
       "         [-0.5426304 , -0.5426304 , -0.7903334 ],\n",
       "         ...,\n",
       "         [-0.44063503,  0.05477099, -0.936041  ],\n",
       "         [ 0.302474  ,  0.8853046 , -0.26578584],\n",
       "         [ 0.550177  ,  1.1184368 , -0.06179513]],\n",
       "\n",
       "        [[-0.10550743, -0.20750278, -0.41149348],\n",
       "         [-1.1691732 , -1.242027  , -1.4751593 ],\n",
       "         [ 0.24419093,  0.20047864,  0.06934176],\n",
       "         ...,\n",
       "         [ 0.24419093,  0.7250262 , -0.12007819],\n",
       "         [ 0.6521723 ,  1.1912906 ,  0.27333245],\n",
       "         [ 0.34618628,  0.8707338 , -0.06179513]]]], dtype=float32)"
      ]
     },
     "execution_count": 21,
     "metadata": {},
     "output_type": "execute_result"
    }
   ],
   "source": [
    "\n",
    "x_test = np.load('x_test.npy')\n",
    "ids = list(range(len(x_test)))\n",
    "\n",
    "\n",
    "x_test_tensor = torch.tensor(x_test, dtype=torch.float32)\n",
    "\n",
    "\n",
    "model_1.eval()\n",
    "with torch.no_grad():\n",
    "    outputs = model_1(x_test_tensor)\n",
    "\n",
    "\n",
    "y_pred = outputs[0]\n",
    "y_c1_pred = outputs[1]\n",
    "y_c2_pred = outputs[2]\n",
    "\n",
    "y_pred_class = y_pred.argmax(dim=1).numpy()\n",
    "y_c1_pred_class = y_c1_pred.argmax(dim=1).numpy()\n",
    "y_c2_pred_class = y_c2_pred.argmax(dim=1).numpy()\n",
    "\n",
    "\n",
    "submit_data = []\n",
    "for i, _id in enumerate(ids):\n",
    "    # Formato: \"id, y_c1_pred_class y_c2_pred_class y_pred_class\"\n",
    "    submit_data.append(f\"{_id}, {y_c1_pred_class[i]} {y_c2_pred_class[i]} {y_pred_class[i]}\")\n",
    "\n",
    "\n",
    "with open('submit.csv', 'w') as file:\n",
    "    file.write(\"ID,Prediction\\n\")\n",
    "    for line in submit_data:\n",
    "        file.write(line + \"\\n\")\n"
   ]
  }
 ],
 "metadata": {
  "kernelspec": {
   "display_name": "Python 3",
   "language": "python",
   "name": "python3"
  },
  "language_info": {
   "codemirror_mode": {
    "name": "ipython",
    "version": 3
   },
   "file_extension": ".py",
   "mimetype": "text/x-python",
   "name": "python",
   "nbconvert_exporter": "python",
   "pygments_lexer": "ipython3",
   "version": "3.11.9"
  }
 },
 "nbformat": 4,
 "nbformat_minor": 2
}
